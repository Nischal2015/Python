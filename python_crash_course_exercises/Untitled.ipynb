{
 "cells": [
  {
   "cell_type": "code",
   "execution_count": 2,
   "id": "seasonal-wagon",
   "metadata": {},
   "outputs": [
    {
     "name": "stdout",
     "output_type": "stream",
     "text": [
      "CPU times: user 168 ms, sys: 3.38 ms, total: 171 ms\n",
      "Wall time: 202 ms\n"
     ]
    }
   ],
   "source": [
    "%time for i in range(1000000):i*2"
   ]
  },
  {
   "cell_type": "code",
   "execution_count": 5,
   "id": "outstanding-documentary",
   "metadata": {},
   "outputs": [],
   "source": [
    "%matplotlib inline\n",
    "import matplotlib.pyplot as plt\n",
    "import numpy as np"
   ]
  },
  {
   "cell_type": "code",
   "execution_count": 7,
   "id": "corporate-narrow",
   "metadata": {},
   "outputs": [],
   "source": [
    "a = [i**3 for i in range(10)]\n",
    "i = [i for i in range(10)]\n",
    "numpy_a = np.array(a)"
   ]
  },
  {
   "cell_type": "code",
   "execution_count": null,
   "id": "laden-storm",
   "metadata": {},
   "outputs": [],
   "source": [
    "plt.plot(i, a,)"
   ]
  }
 ],
 "metadata": {
  "kernelspec": {
   "display_name": "Python 3",
   "language": "python",
   "name": "python3"
  },
  "language_info": {
   "codemirror_mode": {
    "name": "ipython",
    "version": 3
   },
   "file_extension": ".py",
   "mimetype": "text/x-python",
   "name": "python",
   "nbconvert_exporter": "python",
   "pygments_lexer": "ipython3",
   "version": "3.9.1"
  }
 },
 "nbformat": 4,
 "nbformat_minor": 5
}
