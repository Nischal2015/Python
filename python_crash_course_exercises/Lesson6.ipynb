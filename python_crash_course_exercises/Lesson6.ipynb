{
 "cells": [
  {
   "cell_type": "markdown",
   "id": "rotary-membrane",
   "metadata": {},
   "source": [
    "## **Python Crash Course**\n",
    "### **Lesson 6 Exercises**\n",
    "*Exercise left to complete in this chapter*"
   ]
  },
  {
   "cell_type": "markdown",
   "id": "waiting-anchor",
   "metadata": {},
   "source": [
    "**6-1. Person:** Use a dictionary to store information about a person you know. Store their first name, last name, age, and the city in which they live. You should have keys as first_name, last_name, age, and city. Print each piece of information stored in your dictionary."
   ]
  },
  {
   "cell_type": "code",
   "execution_count": 5,
   "id": "configured-pulse",
   "metadata": {},
   "outputs": [
    {
     "name": "stdout",
     "output_type": "stream",
     "text": [
      "Name: Nischal Shakya\n",
      "Age: 20\n",
      "City: Kathmandu\n"
     ]
    }
   ],
   "source": [
    "# Create a dictionary named persons\n",
    "persons = {\n",
    "    'first_name':'Nischal',\n",
    "    'last_name':'Shakya',\n",
    "    'age':20,\n",
    "    'city':'Kathmandu',\n",
    "    }\n",
    "\n",
    "# Print information stored in dictionary\n",
    "print(f\"Name: {persons['first_name']} {persons['last_name']}\")\n",
    "print(f\"Age: {persons['age']}\")\n",
    "print(f\"City: {persons['city']}\")"
   ]
  },
  {
   "cell_type": "markdown",
   "id": "smart-punishment",
   "metadata": {},
   "source": [
    "<br><br>\n",
    "**6-2. Favourite Numbers:** Use a dictionary to store people's favourite numbers. Think of five names, and use them as keys in your dictionary. Think of a favourite number for each person, and store each as value in your dictionary.Print each person's name and their favourite number. For even more fun, poll a few friends and get some actual data for your program."
   ]
  },
  {
   "cell_type": "code",
   "execution_count": 6,
   "id": "handed-silicon",
   "metadata": {},
   "outputs": [
    {
     "name": "stdout",
     "output_type": "stream",
     "text": [
      "Genius: 7\n",
      "Nischal: 2\n",
      "Gyan: 4\n",
      "Lila: 9\n",
      "Chandra: 5\n"
     ]
    }
   ],
   "source": [
    "# Dictionary containing person and their favourite number\n",
    "favourite_number = {\n",
    "    'genius':7,\n",
    "    'nischal':2,\n",
    "    'gyan':4,\n",
    "    'lila':9,\n",
    "    'chandra':5,\n",
    "    }\n",
    "\n",
    "# Print the favourite number of each person\n",
    "for person, number in favourite_number.items():\n",
    "    print(person.title() + \": \" + str(number))"
   ]
  },
  {
   "cell_type": "markdown",
   "id": "funky-university",
   "metadata": {},
   "source": [
    "<br><br>\n",
    "**6-3. Glossary:** A Python dictonary can be used to model an actual dictionary. However, to avoid confusion, let's call it a glossary.\n",
    "- Think of five programming words you've learned about in the previous chapters. Use these words as the keys in your glossary, and store their meanings as values.\n",
    "- Print each word and its meaning as neatly formatted output. You might print the word followed by a colon and then its meaning, or print the word on one line print its meaning indented on a second line. Use the newline character (\\n) to insert a blank line between each word-meaning pair in your output."
   ]
  },
  {
   "cell_type": "code",
   "execution_count": 7,
   "id": "herbal-restoration",
   "metadata": {},
   "outputs": [
    {
     "name": "stdout",
     "output_type": "stream",
     "text": [
      "Variable:\n",
      "\tAn entity that store a value\n",
      "List:\n",
      "\tMutable array\n",
      "Tuple:\n",
      "\tImmutable array\n",
      "Loop:\n",
      "\tRepeats a block of code for a number of times\n",
      "Integer:\n",
      "\tA data type\n"
     ]
    }
   ],
   "source": [
    "# Create a dictionary named glossary and store programming words\n",
    "glossary = {\n",
    "    'variable':'An entity that store a value',\n",
    "    'list':'Mutable array',\n",
    "    'tuple':'Immutable array',\n",
    "    'loop':'Repeats a block of code for a number of times',\n",
    "    'integer':'A data type',\n",
    "    }\n",
    "\n",
    "# Print the information contained in the dictionary\n",
    "for key, value in glossary.items():\n",
    "    print(key.title() + \":\\n\\t\" + value)"
   ]
  },
  {
   "cell_type": "markdown",
   "id": "improving-rebate",
   "metadata": {},
   "source": [
    "<br><br>\n",
    "**6-4. Glossary 2:** Now that you know how to loop through a dictionary, clean up the code from Exercise 6-3 (page 99) by replacing your series of print() calls with a loop that runs through the dictionary's keys and values. When you're sure that your loop works, add five more Python terms to your glossary. When you run your program again, these new words and meanings should automatically be included in the output."
   ]
  },
  {
   "cell_type": "code",
   "execution_count": 8,
   "id": "earned-anchor",
   "metadata": {},
   "outputs": [
    {
     "name": "stdout",
     "output_type": "stream",
     "text": [
      "Variable:\n",
      "\tAn entity that store a value\n",
      "List:\n",
      "\tMutable array\n",
      "Tuple:\n",
      "\tImmutable array\n",
      "Loop:\n",
      "\tRepeats a block of code for a number of times\n",
      "Integer:\n",
      "\tA data type\n",
      "Keyword:\n",
      "\tWords defined for special purpose in the language\n",
      "Boolean:\n",
      "\tEither True or False\n",
      "Function:\n",
      "\tSomething that takes make or may not take an argument and spits output\n",
      "Library:\n",
      "\tPredefined framework made for specific tasks\n",
      "Dictionary:\n",
      "\tData type in Python\n"
     ]
    }
   ],
   "source": [
    "# I have done half part of the program already in above section so, I am doing only half part.\n",
    "glossary['keyword'] = 'Words defined for special purpose in the language'\n",
    "glossary['boolean'] = 'Either True or False'\n",
    "glossary['function'] = 'Something that takes make or may not take an argument and spits output'\n",
    "glossary['library'] = 'Predefined framework made for specific tasks'\n",
    "glossary['dictionary'] = 'Data type in Python'\n",
    "\n",
    "# Print all the information stored in glossary dictionary\n",
    "for key, value in glossary.items():\n",
    "    print(key.title() + \":\\n\\t\" + value)"
   ]
  },
  {
   "cell_type": "markdown",
   "id": "israeli-preparation",
   "metadata": {},
   "source": [
    "<br><br>\n",
    "**6-5. Rivers:** Make a dictionary containing three major rivers and the country each river runs through. One key-value pair might be 'nile':'egypt'.\n",
    "- Use a loop to print a sentence about each river, such as The *Nile runs through Egypt*.\n",
    "- Use a loop to print the name of each river included in the dictionary.\n",
    "- Use a loop to print the name of each country included in the dictionary."
   ]
  },
  {
   "cell_type": "code",
   "execution_count": 17,
   "id": "optional-oxygen",
   "metadata": {},
   "outputs": [
    {
     "name": "stdout",
     "output_type": "stream",
     "text": [
      "The Nile river runs through Egypt.\n",
      "The Karnali river runs through Nepal.\n",
      "The Amazon river runs through Brazil.\n",
      "Nile\n",
      "Karnali\n",
      "Amazon\n",
      "Egypt\n",
      "Nepal\n",
      "Brazil\n"
     ]
    }
   ],
   "source": [
    "# Make a river country pair using dictionary\n",
    "river_country = {\n",
    "    'nile':'egypt',\n",
    "    'karnali':'nepal',\n",
    "    'amazon':'brazil',\n",
    "    }\n",
    "\n",
    "# Print a sentence about each river\n",
    "for river, country in river_country.items():\n",
    "    print(\"The \" + river.title() + \" river runs through \" + country.title() + \".\")\n",
    "    \n",
    "# Print the river only\n",
    "for river in river_country:    # for country in river_country.keys() also works\n",
    "    print(river.title())\n",
    "    \n",
    "# Print the country only\n",
    "for country in river_country.values():     \n",
    "    print(country.title())"
   ]
  },
  {
   "cell_type": "markdown",
   "id": "editorial-repeat",
   "metadata": {},
   "source": [
    "<br><br>\n",
    "**6-6. Polling:** Use the code in favourite_languages.py (page 97).\n",
    "- Make a list of people who should take the favourite languages poll. Include some names that are already in the dictionary and some that are not.\n",
    "- Loop through the list of people who should take the poll. If they have already taken the poll, print a message thanking them for responding. If they have not yet taken the poll, print a message inviting them to take the poll."
   ]
  },
  {
   "cell_type": "markdown",
   "id": "surrounded-corporation",
   "metadata": {},
   "source": [
    "<br><br>\n",
    "**6-7. People:** Start with the program you wrote for Exercise 6-1 (page 99). Make two new dictionaries representing different people, and store all three dictionaries in a list called *people*. Loop through your list of people. As you loop through the list, print everything you know about each person."
   ]
  },
  {
   "cell_type": "markdown",
   "id": "strange-sweden",
   "metadata": {},
   "source": [
    "<br><br>\n",
    "**6-8. Pets:** Make several dictionaries, where each dictionary represents a different pet. In each dictionary, include the kind of animal and the owner's name. Store these dictionaries in a list called pets. Next, loop through your list and as you do, print everything you know about each pet."
   ]
  },
  {
   "cell_type": "markdown",
   "id": "divided-skirt",
   "metadata": {},
   "source": [
    "<br><br>\n",
    "**6-9. Favourite Places:** Make a dictionary called *favourite_places*. Think of three names to use as keys in the dictionary, and store one to three favourite places for each person. To make this exercise a bit more interesting, ask some friends to name a few of their favoutite places. Loop through the dictionary, and print each person's name and their favourite places."
   ]
  },
  {
   "cell_type": "markdown",
   "id": "absolute-nature",
   "metadata": {},
   "source": [
    "<br><br>\n",
    "**6-10. Favourite Numbers:** Modify your program from Exercise 6-2 (page 99) so each person can have more than one favourite number. Then print each person's name along with their favourite numbers."
   ]
  },
  {
   "cell_type": "markdown",
   "id": "stone-pixel",
   "metadata": {},
   "source": [
    "<br><br>\n",
    "**6-11. Cities:** Make a dictionary called *cities*. Use the names of three cities as keys in your dictionary. Create a dictionary of information about eachcity and include the country that the city is in, its approximate population, and one fact about that city. The keys for each city's dictionary shoul dbe something like country, population, and fact. Print the name of each city and all of the information you have stored about it."
   ]
  },
  {
   "cell_type": "markdown",
   "id": "funky-annual",
   "metadata": {},
   "source": [
    "<br><br>\n",
    "**6-12. Extensions:** We're now working with examples that are complex enough that they can be extended in any number of ways. Use one of the example program from this chapter, and extend it by adding new keys and values, changing the contex of the program or improving the formatting of the output."
   ]
  },
  {
   "cell_type": "code",
   "execution_count": null,
   "id": "imposed-bunch",
   "metadata": {},
   "outputs": [],
   "source": []
  }
 ],
 "metadata": {
  "kernelspec": {
   "display_name": "Python 3",
   "language": "python",
   "name": "python3"
  },
  "language_info": {
   "codemirror_mode": {
    "name": "ipython",
    "version": 3
   },
   "file_extension": ".py",
   "mimetype": "text/x-python",
   "name": "python",
   "nbconvert_exporter": "python",
   "pygments_lexer": "ipython3",
   "version": "3.9.1"
  }
 },
 "nbformat": 4,
 "nbformat_minor": 5
}
