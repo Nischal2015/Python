{
 "cells": [
  {
   "cell_type": "markdown",
   "metadata": {},
   "source": [
    "# **<font color = 'blue'>Python Crash Course</font>**\n",
    "### **<font color = 'green'>Lesson 4 Practise Exercises</font>**"
   ]
  },
  {
   "cell_type": "markdown",
   "metadata": {},
   "source": [
    "**5-1. Conditional Tests:** Write a series of conditional tests. Print a statement describing each test and your prediction for the results of each test. Your code should look something like this:\n",
    "\n",
    "*car = 'subaru'*<br>\n",
    "*print(\"Is car == 'subaru'? I predict True.\")*<br>\n",
    "*print(car == 'subaru')*\n",
    "<br><br>\n",
    "*print(\"\\nIs car == 'audi'? I predict False.\")*<br>\n",
    "*print(car == 'audi')*\n",
    "\n",
    "- Look closely at your results, and make sure you understand why each line evaluates to **True** or **False**.\n",
    "- Create at least ten tests. Have at least five tests evaluate to **True** and another five tests evaluate to **False**.\n"
   ]
  },
  {
   "cell_type": "markdown",
   "metadata": {},
   "source": [
    "<br><br>\n",
    "**5-2. More Conditional Tests:** You don't have to limit the number of tests you create to ten. If you want to try more comparisons, write more tests and add them to *conditional_tests.py*. Have at least one **True** and one **False** result for each of the following:\n",
    "- Tests for equality and inequality with strings.\n",
    "- Tests using the *lower()* method\n",
    "- Numericals tests involving equality and inequality, greater than and less than, greater than or equal to, and less than or equal to\n",
    "- Tests using the *and* keyword and the *or* keyword\n",
    "- Test whether an item is in a list\n",
    "- Test whether an item is not in a list"
   ]
  },
  {
   "cell_type": "markdown",
   "metadata": {},
   "source": [
    "<br><br>\n",
    "**5-3. Alien Colors #1:** Imagine an alien was just shot down in a game. Create a variable called  alien_color and assign it a value of 'green', 'yellow', or 'red'.\n",
    "- Write an if statement to test whether the alien's color is green. If it is, print a message that the plater just earned 5 points.\n",
    "- Write one version of this program that passes the if test and another that fails. (The version that fails will have no output.)"
   ]
  },
  {
   "cell_type": "code",
   "execution_count": 1,
   "metadata": {},
   "outputs": [
    {
     "name": "stdout",
     "output_type": "stream",
     "text": [
      "You've just earned 5 points.\n"
     ]
    }
   ],
   "source": [
    "# Assigning color to alien\n",
    "alien_color = 'green'\n",
    "\n",
    "# Checking if the color of the alien is 'green;\n",
    "if alien_color == 'green':\n",
    "    print(\"You've just earned 5 points.\")\n",
    "    \n",
    "# Writing the failing version of test\n",
    "if alien_color == 'red':\n",
    "    pass"
   ]
  },
  {
   "cell_type": "markdown",
   "metadata": {},
   "source": [
    "<br><br>\n",
    "**5-4. Alien Colors #2:** Choose a color for an alien as you did in Exersices 5-3, and write an if-else chain.\n",
    "- If the alien's color is green, print a statement that the player just earned 5 points for shooting the alien.\n",
    "- If the alien's color isn't green, print a statement that the player just earned 10 points.\n",
    "- Write one version of this program that runs the *if* block and another runs the *else* block."
   ]
  },
  {
   "cell_type": "code",
   "execution_count": 4,
   "metadata": {},
   "outputs": [
    {
     "name": "stdout",
     "output_type": "stream",
     "text": [
      "You've just earned 5 points for shooting the alien.\n"
     ]
    }
   ],
   "source": [
    "# First Vesion (Runs the if block of the program)\n",
    "# Choosing the color for another alien\n",
    "alien_second_color = 'green'\n",
    "\n",
    "# Checks if the color is 'green'\n",
    "if alien_second_color == 'green':\n",
    "    print(\"You've just earned 5 points for shooting the alien.\")\n",
    "\n",
    "else:\n",
    "    print(\"You've just earned 10 points.\")"
   ]
  },
  {
   "cell_type": "code",
   "execution_count": 6,
   "metadata": {},
   "outputs": [
    {
     "name": "stdout",
     "output_type": "stream",
     "text": [
      "You've earned 10 points.\n"
     ]
    }
   ],
   "source": [
    "# Second version (Runs the else block of the program)\n",
    "# Choosing the color for another alien\n",
    "alien_second_color = 'yellow'\n",
    "\n",
    "# Checks if the color is 'green'\n",
    "if alien_second_color == 'green':\n",
    "    print(\"You've just earned 5 points for shooting the alien.\")\n",
    "    \n",
    "else:\n",
    "    print(\"You've earned 10 points.\")"
   ]
  },
  {
   "cell_type": "markdown",
   "metadata": {},
   "source": [
    "<br><br>\n",
    "**5-5. Alien Colors #3:** Turn your *if-else* chain from Exercise 5-4 into an *if-elif-else* chain.\n",
    "- If the alien is green, print a message that the player earned 5 points.\n",
    "- If the alien is yellow, print a message that the player earned 10 points.\n",
    "- If the alien is red, print a message that the player earned 15 points.\n",
    "- Write three versions of this program, making sure each message is printed for the appropriate color alien."
   ]
  },
  {
   "cell_type": "code",
   "execution_count": 1,
   "metadata": {},
   "outputs": [
    {
     "name": "stdout",
     "output_type": "stream",
     "text": [
      "You've earned 5 points.\n"
     ]
    }
   ],
   "source": [
    "# First version (Runs the if block of the program)\n",
    "# Choosing the color for the third alien\n",
    "alien_third_color = 'green'\n",
    "\n",
    "# Checks if the alien is 'green'\n",
    "if alien_third_color.lower() == 'green':\n",
    "    print(\"You've earned 5 points.\")\n",
    "    \n",
    "# Checks if the alien is 'yellow'\n",
    "elif alien_third_color.lower() == 'yellow':\n",
    "    print(\"You've earned 10 points.\")\n",
    "    \n",
    "else:\n",
    "    print(\"You've earned 15 points.\")"
   ]
  },
  {
   "cell_type": "code",
   "execution_count": 2,
   "metadata": {},
   "outputs": [
    {
     "name": "stdout",
     "output_type": "stream",
     "text": [
      "You've earned 10 points.\n"
     ]
    }
   ],
   "source": [
    "# Second version (Runs the elif block of the program)\n",
    "# Choosing the color for the third alien\n",
    "alien_third_color = 'yellow'\n",
    "\n",
    "# Checks if the alien is 'green'\n",
    "if alien_third_color.lower() == 'green':\n",
    "    print(\"You've earned 5 points.\")\n",
    "    \n",
    "# Checks if the alien is 'yellow'\n",
    "elif alien_third_color.lower() == 'yellow':\n",
    "    print(\"You've earned 10 points.\")\n",
    "    \n",
    "else:\n",
    "    print(\"You've earned 15 points.\")"
   ]
  },
  {
   "cell_type": "code",
   "execution_count": 3,
   "metadata": {},
   "outputs": [
    {
     "name": "stdout",
     "output_type": "stream",
     "text": [
      "You've earned 15 points.\n"
     ]
    }
   ],
   "source": [
    "# Third version (Runs the else block of the program)\n",
    "# Choosing the color for the third alien\n",
    "alien_third_color = 'red'\n",
    "\n",
    "# Checks if the alien is 'green'\n",
    "if alien_third_color.lower() == 'green':\n",
    "    print(\"You've earned 5 points.\")\n",
    "    \n",
    "# Checks if the alien is 'yellow'\n",
    "elif alien_third_color.lower() == 'yellow':\n",
    "    print(\"You've earned 10 points.\")\n",
    "    \n",
    "else:\n",
    "    print(\"You've earned 15 points.\")"
   ]
  },
  {
   "cell_type": "markdown",
   "metadata": {},
   "source": [
    "<br><br>\n",
    "**5-6. Stages of Life:** Write an *if-elif-else* chain that determines a person's stage of life. Set a value for the variable age, and then:\n",
    "- If the person is less than 2 years old, print a message that the person is a baby.\n",
    "- If the person is at least 2 years old but less than 4, print a message that the person is a toddler.\n",
    "- If the person is at least 4 years old but less than 13, print a message that the person is a kid.\n",
    "- If the person is at least 13 years old but less than 20, print a message that the person is a teenager.\n",
    "- If the person is at least 20 years old but less than 65, print a message that the person is an adult.\n",
    "- If the person is age 65 or older, print a message that the person is an elder."
   ]
  },
  {
   "cell_type": "code",
   "execution_count": 6,
   "metadata": {},
   "outputs": [
    {
     "name": "stdout",
     "output_type": "stream",
     "text": [
      "The person is a kid.\n"
     ]
    }
   ],
   "source": [
    "# Sets the age of person\n",
    "age_person = 12\n",
    "\n",
    "if age_person < 2:\n",
    "    print(\"The person is a baby.\")\n",
    "    \n",
    "elif age_person < 4:\n",
    "    print(\"The person is a toddler.\")\n",
    "    \n",
    "elif age_person < 13:\n",
    "    print(\"The person is a kid.\")\n",
    "    \n",
    "elif age_person < 20:\n",
    "    print(\"The person is a teenager.\")\n",
    "    \n",
    "elif age_person < 65:\n",
    "    print(\"The person is an adult.\")\n",
    "    \n",
    "else:\n",
    "    print(\"The person is an elder.\")"
   ]
  },
  {
   "cell_type": "markdown",
   "metadata": {},
   "source": [
    "<br><br>\n",
    "**5-7. Favourite Fruit:** Make a list of your favourite fruits, and then write a series of independent if statements that check for certain fruits in your list.\n",
    "- Make a list of your three favourite fruits and call it favourite_friuts.\n",
    "- Write five if statements. Each should check whether a certain kind of fruit is in you list. If the fruit is in your list, the *if* block should print a statement, such as *You really like bananas!*"
   ]
  },
  {
   "cell_type": "code",
   "execution_count": 9,
   "metadata": {},
   "outputs": [
    {
     "name": "stdout",
     "output_type": "stream",
     "text": [
      "You really like apple.\n",
      "You really like mango.\n",
      "You really like peach.\n"
     ]
    }
   ],
   "source": [
    "# Creating list of favourite fruits\n",
    "favourite_fruits = ['mango', 'apple', 'peach']\n",
    "\n",
    "if 'apple' in favourite_fruits:\n",
    "    print(\"You really like {}.\".format('apple'))\n",
    "    \n",
    "if 'mango' in favourite_fruits:\n",
    "    print(\"You really like mango.\")\n",
    "    \n",
    "if 'guava' in favourite_fruits:\n",
    "    print(\"You really like guava.\")\n",
    "    \n",
    "if 'orange' in favourite_fruits:\n",
    "    print(\"You really like orange.\")\n",
    "    \n",
    "if 'peach' in favourite_fruits:\n",
    "    print(\"You really like peach.\")"
   ]
  },
  {
   "cell_type": "markdown",
   "metadata": {},
   "source": [
    "<br><br> \n",
    "**5-8. Hello Admin:** Make a list of five or more usernames, including the name 'admin'. Imagine you are writing code that will print a greeting to each user after they log in to a website. Loop through the list, and print a greeting to each user:\n",
    "- If the username is 'admin', print a special greeting, such as *Hello admin*, would you like to see a status report?\n",
    "- Otherwise, print a generic greeting, such as *Hello Jaden*, thank you for logging in again."
   ]
  },
  {
   "cell_type": "code",
   "execution_count": null,
   "metadata": {},
   "outputs": [],
   "source": []
  },
  {
   "cell_type": "markdown",
   "metadata": {},
   "source": [
    "<br><br> \n",
    "**5-9. No Users:** Add an *if* test to *hello_admin.py* to make sure the list of users is not empty.\n",
    "- If the list is empty, print the message *We need to find some users!*\n",
    "- Remove all of the usernames from you list, and make sure the correct message is printed."
   ]
  },
  {
   "cell_type": "code",
   "execution_count": null,
   "metadata": {},
   "outputs": [],
   "source": []
  },
  {
   "cell_type": "markdown",
   "metadata": {},
   "source": [
    "<br><br>\n",
    "**5-10. Checking Usernames:** Do the following to create a program that simulates how websites ensure that everyone has a unique username.\n",
    "- Make a list of five or more usernames called *current_users*.\n",
    "- Make another list of five usernames called *new_users*. Make sure one or two of the new usernames are also in the *current_list* list.\n",
    "- Loop through the *new_users* list to see if each new username has already been used. If it has, print a message that the person will need to enter a new username. If a username has not been used, print a message saying that the username is available.\n",
    "- Make sure your comparison is case insensitive. If 'John' has been used, 'JOHN' should not be accepted. (To do this, you'll need to make a copy of *current_users* containing the lowercase versions of all existing users.)"
   ]
  }
 ],
 "metadata": {
  "kernelspec": {
   "display_name": "Python 3",
   "language": "python",
   "name": "python3"
  },
  "language_info": {
   "codemirror_mode": {
    "name": "ipython",
    "version": 3
   },
   "file_extension": ".py",
   "mimetype": "text/x-python",
   "name": "python",
   "nbconvert_exporter": "python",
   "pygments_lexer": "ipython3",
   "version": "3.9.1"
  }
 },
 "nbformat": 4,
 "nbformat_minor": 4
}
