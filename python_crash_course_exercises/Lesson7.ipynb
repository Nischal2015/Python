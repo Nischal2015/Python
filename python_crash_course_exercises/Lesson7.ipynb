{
 "cells": [
  {
   "cell_type": "markdown",
   "id": "further-junior",
   "metadata": {},
   "source": [
    "## **Python Crash Course**\n",
    "### **Lesson 7 Practise Exercises**"
   ]
  },
  {
   "cell_type": "markdown",
   "id": "comparative-converter",
   "metadata": {},
   "source": [
    "#\n",
    "**7-1. Rental Car:** Write a program that asks the user what kind of rental car they would like. Print a messagwa bout that car, such as \"Let me see if I can find you a Subaru.\""
   ]
  },
  {
   "cell_type": "code",
   "execution_count": 2,
   "id": "derived-stocks",
   "metadata": {},
   "outputs": [
    {
     "name": "stdin",
     "output_type": "stream",
     "text": [
      "Which car do you like?  Lamborghini\n"
     ]
    },
    {
     "name": "stdout",
     "output_type": "stream",
     "text": [
      "Let me see if I can find you a Lamborghini.\n"
     ]
    }
   ],
   "source": [
    "# Asks a users about which car they like\n",
    "car = input('Which car do you like? ')\n",
    "\n",
    "print(f\"Let me see if I can find you a {car}.\")"
   ]
  },
  {
   "cell_type": "markdown",
   "id": "north-ability",
   "metadata": {},
   "source": [
    "<br><br>\n",
    "**7-2. Restaurant Seating:** Write a program that asks the user how many people are in their dinner group. If the answer is more than eight, print a message saring they'll have to wait for a table. Otherwise, report that their table is ready."
   ]
  },
  {
   "cell_type": "code",
   "execution_count": 5,
   "id": "round-gender",
   "metadata": {},
   "outputs": [
    {
     "name": "stdin",
     "output_type": "stream",
     "text": [
      "How many people are in your dinner group?  8\n"
     ]
    },
    {
     "name": "stdout",
     "output_type": "stream",
     "text": [
      "Welcome, your table is ready.\n"
     ]
    }
   ],
   "source": [
    "# Asks a user about the number of people in their dinner group\n",
    "dinner_number = input('How many people are in your dinner group? ')\n",
    "dinner_number = int(dinner_number)\n",
    "\n",
    "# Checks for the required condition\n",
    "if dinner_number > 8:\n",
    "    print(\"Sorry, you'll have to wait for a table.\")\n",
    "else:\n",
    "    print(\"Welcome, your table is ready.\")"
   ]
  },
  {
   "cell_type": "markdown",
   "id": "sorted-classic",
   "metadata": {},
   "source": [
    "<br><br>\n",
    "**7-3. Multiples of Ten:** Ask the user for a number, and then report whether the number is a multiple 10 or not."
   ]
  },
  {
   "cell_type": "code",
   "execution_count": 7,
   "id": "medium-budget",
   "metadata": {},
   "outputs": [
    {
     "name": "stdin",
     "output_type": "stream",
     "text": [
      "Enter a number:  90\n"
     ]
    },
    {
     "name": "stdout",
     "output_type": "stream",
     "text": [
      "90 is a multiple of 10.\n"
     ]
    }
   ],
   "source": [
    "# Asks a user to input a number\n",
    "number = input(\"Enter a number: \")\n",
    "number = int(number)\n",
    "\n",
    "# Checks whether the number is multiple of 10 or not\n",
    "if number % 10 == 0:\n",
    "    print(f\"{number} is a multiple of 10.\")\n",
    "else:\n",
    "    print(f\"{number} is not a multiple of 10.\")"
   ]
  },
  {
   "cell_type": "markdown",
   "id": "lesser-evans",
   "metadata": {},
   "source": [
    "<br><br>\n",
    "**7-4. Pizza Toppings:** Write a loop thta prompts the user to enter a series of pizza toppings until they enter a 'quit' value. As they enter eachtopping, print a message saying you'll add that topping to their pizza."
   ]
  },
  {
   "cell_type": "code",
   "execution_count": 1,
   "id": "sound-miracle",
   "metadata": {},
   "outputs": [
    {
     "name": "stdin",
     "output_type": "stream",
     "text": [
      "Enter the pizza topping you want. Enter quit to exit the program:  extra cheese\n"
     ]
    },
    {
     "name": "stdout",
     "output_type": "stream",
     "text": [
      "Extra Cheese has been added to your pizza.\n"
     ]
    },
    {
     "name": "stdin",
     "output_type": "stream",
     "text": [
      "Enter the pizza topping you want. Enter quit to exit the program:  mushroom\n"
     ]
    },
    {
     "name": "stdout",
     "output_type": "stream",
     "text": [
      "Mushroom has been added to your pizza.\n"
     ]
    },
    {
     "name": "stdin",
     "output_type": "stream",
     "text": [
      "Enter the pizza topping you want. Enter quit to exit the program:  quit\n"
     ]
    }
   ],
   "source": [
    "# Prompts the user to enter a series of pizza toppings\n",
    "prompt = \"Enter the pizza topping you want.\"\n",
    "prompt += \" Enter quit to exit the program: \"\n",
    "\n",
    "pizza_topping = \"\"\n",
    "while True:\n",
    "    pizza_topping = input(prompt)\n",
    "    if(pizza_topping != 'quit'):\n",
    "        print(pizza_topping.title() + \" has been added to your pizza.\")\n",
    "    else:\n",
    "        break"
   ]
  },
  {
   "cell_type": "markdown",
   "id": "egyptian-costs",
   "metadata": {},
   "source": [
    "<br><br>\n",
    "**7-5. Movie Tickets:** A movie theater charges different ticket prices depending on a person's age. If a person is under the age of 3, the ticket is free; if they are between 3 and 12, the ticket is \\\\$10; and if they are over 12, the ticket is \\\\$15. Write a loop in which you ask users their age, and then tell them the cost of their movie ticket."
   ]
  },
  {
   "cell_type": "code",
   "execution_count": null,
   "id": "charming-footwear",
   "metadata": {},
   "outputs": [
    {
     "name": "stdin",
     "output_type": "stream",
     "text": [
      "Please enter your age:  45\n"
     ]
    },
    {
     "name": "stdout",
     "output_type": "stream",
     "text": [
      "The ticket is $15.\n"
     ]
    },
    {
     "name": "stdin",
     "output_type": "stream",
     "text": [
      "Please enter your age:  12\n"
     ]
    },
    {
     "name": "stdout",
     "output_type": "stream",
     "text": [
      "The ticket is $10.\n"
     ]
    },
    {
     "name": "stdin",
     "output_type": "stream",
     "text": [
      "Please enter your age:  2\n"
     ]
    },
    {
     "name": "stdout",
     "output_type": "stream",
     "text": [
      "Your ticket is free.\n"
     ]
    },
    {
     "name": "stdin",
     "output_type": "stream",
     "text": [
      "Please enter your age:  96\n"
     ]
    },
    {
     "name": "stdout",
     "output_type": "stream",
     "text": [
      "The ticket is $15.\n"
     ]
    }
   ],
   "source": [
    "# Asks the user for the age\n",
    "while True:\n",
    "    age = input(\"Please enter your age: \")\n",
    "    age = int(age)\n",
    "    if(age < 3):\n",
    "        print(\"Your ticket is free.\")\n",
    "    elif(age <= 12):\n",
    "        print(\"The ticket is $10.\")\n",
    "    else:\n",
    "        print(\"The ticket is $15.\")"
   ]
  },
  {
   "cell_type": "markdown",
   "id": "breathing-registration",
   "metadata": {},
   "source": [
    "<br><br>\n",
    "**7-6. Three Exits:** Write different versions of either Exercise 7-4 or Exercise 7-5 that do each of the following at least once:\n",
    "- Use a conditional test in the while statement to stop the loop.\n",
    "- Use an active variable to control how long the loop runs.\n",
    "- Use a break statement to exit the loop when the user enter a 'quit' value."
   ]
  },
  {
   "cell_type": "code",
   "execution_count": 1,
   "id": "necessary-glory",
   "metadata": {},
   "outputs": [
    {
     "name": "stdin",
     "output_type": "stream",
     "text": [
      "Enter the pizza topping you want. Enter quit to exit the program:  cheese\n"
     ]
    },
    {
     "name": "stdout",
     "output_type": "stream",
     "text": [
      "Cheese has been added to your pizza.\n"
     ]
    },
    {
     "name": "stdin",
     "output_type": "stream",
     "text": [
      "Enter the pizza topping you want. Enter quit to exit the program:  mushroom\n"
     ]
    },
    {
     "name": "stdout",
     "output_type": "stream",
     "text": [
      "Mushroom has been added to your pizza.\n"
     ]
    },
    {
     "name": "stdin",
     "output_type": "stream",
     "text": [
      "Enter the pizza topping you want. Enter quit to exit the program:  quit\n"
     ]
    }
   ],
   "source": [
    "# Prompts the user to enter a series of pizza toppings\n",
    "prompt = \"Enter the pizza topping you want.\"\n",
    "prompt += \" Enter quit to exit the program: \"\n",
    "active = True\n",
    "\n",
    "pizza_topping = \"\"\n",
    "while active:\n",
    "    pizza_topping = input(prompt)\n",
    "    if(pizza_topping != 'quit'):\n",
    "        print(pizza_topping.title() + \" has been added to your pizza.\")\n",
    "    else:\n",
    "        active = False"
   ]
  },
  {
   "cell_type": "markdown",
   "id": "inner-camel",
   "metadata": {},
   "source": [
    "<br><br>\n",
    "**7-7. Infinity:** Write a loop that never ends, and run it."
   ]
  },
  {
   "cell_type": "code",
   "execution_count": null,
   "id": "juvenile-finger",
   "metadata": {},
   "outputs": [],
   "source": [
    "# An example of infinite loop\n",
    "count = 1\n",
    "while count < 5:\n",
    "    print(count)"
   ]
  },
  {
   "cell_type": "markdown",
   "id": "rubber-setup",
   "metadata": {},
   "source": [
    "<br><br>\n",
    "**7-8. Deli:** Make a list called *sandwich_orders* and fill it with the names of various sandwiches. Then make an empty list called *finished_sandwiches*. Looop through the list of sandwich orders and print a message for each order, such as *I made your tuna sandwich*. As each sandwich is made, move it to the list of finished sandwiches. After all the sandwiches have been made, print a message listing each sandwich what was made."
   ]
  },
  {
   "cell_type": "code",
   "execution_count": 2,
   "id": "absolute-shock",
   "metadata": {},
   "outputs": [
    {
     "name": "stdout",
     "output_type": "stream",
     "text": [
      "I made your tuna sandwich.\n",
      "I made your pastrami sandwich.\n",
      "I made your chicken sandwich.\n",
      "I made your cheese sandwich.\n",
      "I made your pastrami sandwich.\n",
      "I made your egg sandwich.\n",
      "I made your veg sandwich.\n",
      "I made your pastrami sandwich.\n",
      "I made your beef sandwich.\n",
      "\n",
      "All the sandwiches that were made are listed below\n",
      "['tuna', 'pastrami', 'chicken', 'cheese', 'pastrami', 'egg', 'veg', 'pastrami', 'beef']\n"
     ]
    }
   ],
   "source": [
    "# Making a list of sandwiches\n",
    "sandwich_orders = ['tuna', 'pastrami', 'chicken', 'cheese', 'pastrami', 'egg', 'veg', 'pastrami', 'beef']\n",
    "\n",
    "# Empty list\n",
    "finished_sandwiches = []\n",
    "\n",
    "for sandwich in sandwich_orders:\n",
    "    print(f\"I made your {sandwich} sandwich.\")\n",
    "    finished_sandwiches.append(sandwich)\n",
    "    \n",
    "print(\"\\nAll the sandwiches that were made are listed below\")\n",
    "print(finished_sandwiches)"
   ]
  },
  {
   "cell_type": "markdown",
   "id": "right-secret",
   "metadata": {},
   "source": [
    "<br><br>\n",
    "**7-9. No Pastrami:** Using the list *sandwich_orders* from Exercise 7-8, make sure the sandwich 'pastrami' appears in the list at least three times. Add code near the beginning of your program to print a message saying the deli has run out of pastrami, and then use a while loop to remove all occurrences of 'pastrami' from *sandwich_orders*. Mkae sure no pastrami sandwiches end up in *finished_sandwiches*."
   ]
  },
  {
   "cell_type": "code",
   "execution_count": 4,
   "id": "chicken-interval",
   "metadata": {},
   "outputs": [
    {
     "name": "stdout",
     "output_type": "stream",
     "text": [
      "The deli has run out of pastrami.\n",
      "I made your tuna sandwich.\n",
      "I made your chicken sandwich.\n",
      "I made your cheese sandwich.\n",
      "I made your egg sandwich.\n",
      "I made your veg sandwich.\n",
      "I made your beef sandwich.\n",
      "\n",
      "All the sandwiches that were made are listed below\n",
      "['tuna', 'chicken', 'cheese', 'egg', 'veg', 'beef']\n"
     ]
    }
   ],
   "source": [
    "# Message saying that deli has run out of pastrami\n",
    "print(\"The deli has run out of pastrami.\")\n",
    "\n",
    "while 'pastrami' in sandwich_orders:\n",
    "    sandwich_orders.remove('pastrami')\n",
    "    \n",
    "finished_sandwiches = []\n",
    "\n",
    "for sandwich in sandwich_orders:\n",
    "    print(f\"I made your {sandwich} sandwich.\")\n",
    "    finished_sandwiches.append(sandwich)\n",
    "    \n",
    "print(\"\\nAll the sandwiches that were made are listed below\")\n",
    "print(finished_sandwiches)"
   ]
  },
  {
   "cell_type": "markdown",
   "id": "obvious-natural",
   "metadata": {},
   "source": [
    "<br><br>\n",
    "**7-10. Dream Vacation:** Write a program that polls users about their dream vacation. Write a prompt similar to *If you could visit one place in the world, where would you go?*.Include a block of code that prints the results of the poll."
   ]
  },
  {
   "cell_type": "code",
   "execution_count": 6,
   "id": "african-inflation",
   "metadata": {},
   "outputs": [
    {
     "name": "stdin",
     "output_type": "stream",
     "text": [
      "Please enter your name:  Nischal\n",
      "If could could visit one place in the the world, where would you go?  Tokyo\n",
      "Do you want other user to poll?(yes/ no):  yes\n",
      "Please enter your name:  Genius\n",
      "If could could visit one place in the the world, where would you go?  Texas\n",
      "Do you want other user to poll?(yes/ no):  no\n"
     ]
    },
    {
     "name": "stdout",
     "output_type": "stream",
     "text": [
      "---Poll Results---\n",
      "Nischal wants to go to Tokyo.\n",
      "Genius wants to go to Texas.\n"
     ]
    }
   ],
   "source": [
    "poll_active = True\n",
    "users = {}\n",
    "# Poll asking user about their dream vacation\n",
    "while poll_active:\n",
    "    name = input(\"Please enter your name: \")\n",
    "    dream_vacation = input('If could could visit one place in the the world, where would you go? ')\n",
    "    users[name] = dream_vacation\n",
    "    poll = input(\"Do you want other user to poll?(yes/ no): \")\n",
    "    if poll == 'no':\n",
    "        poll_active = False\n",
    "\n",
    "print(\"---Poll Results---\")\n",
    "for name, place in users.items():\n",
    "    print(f\"{name} wants to go to {place}.\")    "
   ]
  },
  {
   "cell_type": "code",
   "execution_count": null,
   "id": "attractive-preservation",
   "metadata": {},
   "outputs": [],
   "source": []
  }
 ],
 "metadata": {
  "kernelspec": {
   "display_name": "Python 3",
   "language": "python",
   "name": "python3"
  },
  "language_info": {
   "codemirror_mode": {
    "name": "ipython",
    "version": 3
   },
   "file_extension": ".py",
   "mimetype": "text/x-python",
   "name": "python",
   "nbconvert_exporter": "python",
   "pygments_lexer": "ipython3",
   "version": "3.9.1"
  }
 },
 "nbformat": 4,
 "nbformat_minor": 5
}
