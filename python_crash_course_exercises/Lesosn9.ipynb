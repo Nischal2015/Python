{
 "cells": [
  {
   "cell_type": "markdown",
   "id": "wireless-nurse",
   "metadata": {},
   "source": [
    "# **Python Crash Courses**\n",
    "## **Lesson 9 Practise Exercises**\n",
    "#### *Exercises left in this Lesson*"
   ]
  },
  {
   "cell_type": "markdown",
   "id": "illegal-cameroon",
   "metadata": {},
   "source": [
    "**9-1. Restaurant:** Make a class called *Restaurant*. The __ init __ () method for *Restaurant* should store two attributes: a *restaurant_name* and a *cuisine_type*. Make a method called *describe_restaurant()* that prints these two pieces fo information, and a method called *open_restaurant()* that prints a message indicating that the restaurant is open.<br>\n",
    "Make an instanve called *restaurant* from your class. Print the two attribures individually, and then call both methods."
   ]
  },
  {
   "cell_type": "code",
   "execution_count": 4,
   "id": "jewish-collectible",
   "metadata": {},
   "outputs": [
    {
     "name": "stdout",
     "output_type": "stream",
     "text": [
      "Restaurant: Nischal Steaks\n",
      "Cuisine Type: Nepali \n",
      "\n",
      "The restaurant name is Nischal Steaks.\n",
      "The cuisine type is Nepali.\n",
      "\n",
      "The restaurant is open.\n"
     ]
    }
   ],
   "source": [
    "class Restaurant:\n",
    "    def __init__(self, restaurant_name, cuisine_type):\n",
    "        self.restaurant_name = restaurant_name\n",
    "        self.cuisine_type = cuisine_type\n",
    "        \n",
    "    def describe_restaurant(self):\n",
    "        print(f\"The restaurant name is {self.restaurant_name}.\")\n",
    "        print(f\"The cuisine type is {self.cuisine_type}.\\n\")\n",
    "        \n",
    "    def open_restaurant(self):\n",
    "        print(\"The restaurant is open.\")\n",
    "        \n",
    "restaurant = Restaurant('Nischal Steaks', 'Nepali')\n",
    "print(\"Restaurant:\", restaurant.restaurant_name)\n",
    "print(\"Cuisine Type:\", restaurant.cuisine_type, \"\\n\")\n",
    "\n",
    "restaurant.describe_restaurant()\n",
    "restaurant.open_restaurant()"
   ]
  },
  {
   "cell_type": "markdown",
   "id": "shared-mortgage",
   "metadata": {},
   "source": [
    "<br><br>\n",
    "**9-2. Three Restaurants:** Start with your class from Exercise 9-1. Create three different instances from the class, and call *describle_restaurant()* for each instance."
   ]
  },
  {
   "cell_type": "code",
   "execution_count": 5,
   "id": "interracial-sauce",
   "metadata": {},
   "outputs": [
    {
     "name": "stdout",
     "output_type": "stream",
     "text": [
      "The restaurant name is Down Town Street.\n",
      "The cuisine type is Newari.\n",
      "\n",
      "The restaurant name is Up Town Street.\n",
      "The cuisine type is American.\n",
      "\n",
      "The restaurant name is Town Street.\n",
      "The cuisine type is Indian.\n",
      "\n"
     ]
    }
   ],
   "source": [
    "# The class is the same one used in the class above\n",
    "restaurant1 = Restaurant('Down Town Street', 'Newari')\n",
    "restaurant2 = Restaurant('Up Town Street', 'American')\n",
    "restaurant3 = Restaurant('Town Street', 'Indian')\n",
    "\n",
    "restaurant1.describe_restaurant()\n",
    "restaurant2.describe_restaurant()\n",
    "restaurant3.describe_restaurant()"
   ]
  },
  {
   "cell_type": "markdown",
   "id": "otherwise-frame",
   "metadata": {},
   "source": [
    "<br><br>\n",
    "**9-3. Users:** Make a class called *User*. Create two attribures called *first_name* and *last_name*, and then create several other attributes that are typically stored in a user profile. Make a method called *describe_user()* that prints a summary of the user's information. Make another mehtod called *greet_user()* that prints a personalized greeting to the user.<br>\n",
    "Create several instances representing different users, and call both methods for each user."
   ]
  },
  {
   "cell_type": "code",
   "execution_count": 10,
   "id": "intelligent-toronto",
   "metadata": {},
   "outputs": [
    {
     "name": "stdout",
     "output_type": "stream",
     "text": [
      "First Name: genius\n",
      "Last Name: Shakya \n",
      "\n",
      "Welcome Genius\n",
      "\n",
      "First Name: Nischal\n",
      "Last Name: Shakya \n",
      "\n",
      "Welcome Nischal\n",
      "\n"
     ]
    }
   ],
   "source": [
    "class User:\n",
    "    def __init__(self, first_name, last_name):\n",
    "        self.first_name = first_name\n",
    "        self.last_name = last_name\n",
    "        \n",
    "    def describe_user(self):\n",
    "        print(\"First Name:\", self.first_name)\n",
    "        print(\"Last Name:\", self.last_name, \"\\n\")\n",
    "        \n",
    "    def greet_users(self):\n",
    "        print(f\"Welcome {self.first_name.title()}\\n\")\n",
    "        \n",
    "genius = User('genius', 'Shakya')\n",
    "nischal = User('Nischal', 'Shakya')\n",
    "\n",
    "genius.describe_user()\n",
    "genius.greet_users()\n",
    "nischal.describe_user()\n",
    "nischal.greet_users()"
   ]
  },
  {
   "cell_type": "markdown",
   "id": "raising-wrong",
   "metadata": {},
   "source": [
    "<br><br>\n",
    "**9-4. Number Served:** Start with your program from Exercise 9-1 (page 166). Add an attribute called number_served with a default value of 0. Create an instance called restaurant from this class. Print the number of customers the\n",
    "restaurant has served, and then change this value and print it again.<br>\n",
    "Add a method called set_number_served() that lets you set the number of customers that have been served. Call this method with a new number and print the value again.<br>\n",
    "Add a method called increment_number_served() that lets you increment the number of customers who’ve been served. Call this method with any number you like that could represent how many customers were served in, say, a day of business."
   ]
  },
  {
   "cell_type": "code",
   "execution_count": 12,
   "id": "broke-legislature",
   "metadata": {},
   "outputs": [
    {
     "name": "stdout",
     "output_type": "stream",
     "text": [
      "Restaurant: Nischal Steaks\n",
      "Cuisine Type: Nepali \n",
      "\n",
      "The restaurant name is Nischal Steaks.\n",
      "The cuisine type is Nepali.\n",
      "The restaurant has served 2 customers.\n",
      "\n",
      "The restaurant name is Nischal Steaks.\n",
      "The cuisine type is Nepali.\n",
      "The restaurant has served 45 customers.\n",
      "\n",
      "The restaurant name is Nischal Steaks.\n",
      "The cuisine type is Nepali.\n",
      "The restaurant has served 65 customers.\n",
      "\n"
     ]
    }
   ],
   "source": [
    "class Restaurant:\n",
    "    def __init__(self, restaurant_name, cuisine_type):\n",
    "        self.restaurant_name = restaurant_name\n",
    "        self.cuisine_type = cuisine_type\n",
    "        self.number_served = 2\n",
    "        \n",
    "    def describe_restaurant(self):\n",
    "        print(f\"The restaurant name is {self.restaurant_name}.\")\n",
    "        print(f\"The cuisine type is {self.cuisine_type}.\")\n",
    "        print(f\"The restaurant has served {self.number_served} customers.\\n\")\n",
    "        \n",
    "    def open_restaurant(self):\n",
    "        print(\"The restaurant is open.\")\n",
    "        \n",
    "    def set_number_served(self, number):\n",
    "        self.number_served = number\n",
    "        \n",
    "    def increment_number_served(self, served_number):\n",
    "        self.number_served += served_number\n",
    "        \n",
    "restaurant = Restaurant('Nischal Steaks', 'Nepali')\n",
    "print(\"Restaurant:\", restaurant.restaurant_name)\n",
    "print(\"Cuisine Type:\", restaurant.cuisine_type, \"\\n\")\n",
    "\n",
    "restaurant.describe_restaurant()\n",
    "# restaurant.open_restaurant()\n",
    "restaurant.set_number_served(45)\n",
    "restaurant.describe_restaurant()\n",
    "restaurant.increment_number_served(20)\n",
    "restaurant.describe_restaurant()"
   ]
  },
  {
   "cell_type": "markdown",
   "id": "cleared-nickel",
   "metadata": {},
   "source": [
    "<br><br>\n",
    "**9-5. Login Attempts:** Add an attribute called login_attempts to your User class from Exercise 9-3 (page 166). Write a method called increment_login_attempts() that increments the value of login_attempts by 1. Write\n",
    "another method called reset_login_attempts() that resets the value of login_attempts to 0.<br>\n",
    "Make an instance of the User class and call increment_login_attempts()\n",
    "several times. Print the value of login_attempts to make sure it was incremented properly, and then call reset_login_attempts(). Print login_attempts again to make sure it was reset to 0."
   ]
  },
  {
   "cell_type": "code",
   "execution_count": 18,
   "id": "ultimate-ladder",
   "metadata": {},
   "outputs": [
    {
     "name": "stdout",
     "output_type": "stream",
     "text": [
      "First Name: genius\n",
      "Last Name: Shakya\n",
      "Number of login attempts: 1\n",
      "\n",
      "First Name: genius\n",
      "Last Name: Shakya\n",
      "Number of login attempts: 4\n",
      "\n",
      "Login atttempts: 0\n"
     ]
    }
   ],
   "source": [
    "class User:\n",
    "    def __init__(self, first_name, last_name):\n",
    "        self.first_name = first_name\n",
    "        self.last_name = last_name\n",
    "        self.login_attempts = 1\n",
    "        \n",
    "    def describe_user(self):\n",
    "        print(\"First Name:\", self.first_name)\n",
    "        print(\"Last Name:\", self.last_name)\n",
    "        print(f\"Number of login attempts: {self.login_attempts}\\n\")\n",
    "        \n",
    "    def greet_users(self):\n",
    "        print(f\"Welcome {self.first_name.title()}\\n\")\n",
    "        \n",
    "    def increment_login_attempts(self):\n",
    "        self.login_attempts += 1\n",
    "        \n",
    "    def reset_login_attempts(self):\n",
    "        self.login_attempts = 0\n",
    "        \n",
    "genius = User('genius', 'Shakya')\n",
    "genius.describe_user()\n",
    "genius.increment_login_attempts()\n",
    "genius.increment_login_attempts()\n",
    "genius.increment_login_attempts()\n",
    "genius.describe_user()\n",
    "genius.reset_login_attempts()\n",
    "print(f\"Login atttempts: {genius.login_attempts}\")"
   ]
  },
  {
   "cell_type": "markdown",
   "id": "assigned-williams",
   "metadata": {},
   "source": [
    "<br><br>\n",
    "**9-6. Ice Cream Stand:** An ice cream stand is a specific kind of restaurant. Write a class called IceCreamStand that inherits from the Restaurant class you wrote in Exercise 9-1 (page 166) or Exercise 9-4 (page 171). Either version of the class will work; just pick the one you like better. Add an attribute called flavors that stores a list of ice cream flavors. Write a method that displays these flavors. Create an instance of IceCreamStand, and call this method."
   ]
  },
  {
   "cell_type": "code",
   "execution_count": 36,
   "id": "editorial-calibration",
   "metadata": {},
   "outputs": [
    {
     "name": "stdout",
     "output_type": "stream",
     "text": [
      "The list of flavours are:\n",
      "- vanilla\n",
      "- chocolate\n",
      "- banana\n",
      "- strawberry\n"
     ]
    }
   ],
   "source": [
    "class IceCreamStand(Restaurant):\n",
    "    def __init__(self, flavors):\n",
    "        self.flavors = flavors\n",
    "        \n",
    "    def display_flavors(self):\n",
    "        print(\"The list of flavours are:\")\n",
    "        for list_flavor in self.flavors:\n",
    "            print(f\"- {list_flavor}\")\n",
    "        \n",
    "icecream = IceCreamStand(['vanilla', 'chocolate', 'banana', 'strawberry'])\n",
    "icecream.display_flavors()"
   ]
  },
  {
   "cell_type": "markdown",
   "id": "european-concern",
   "metadata": {},
   "source": [
    "<br><br>\n",
    "**9-10. Imported Restaurant:** Using your latest Restaurant class, stroe it in a module. Make a seperate file that imports *Restaurant*. Make a *Restaurant* instance, and call one of Restaurant's methods to show that the import statement is working properly. "
   ]
  },
  {
   "cell_type": "code",
   "execution_count": 1,
   "id": "flexible-insight",
   "metadata": {},
   "outputs": [
    {
     "name": "stdout",
     "output_type": "stream",
     "text": [
      "The restaurant name is Hotel California.\n",
      "The cuisine type is American.\n",
      "The restaurant has served 2 customers.\n",
      "\n"
     ]
    }
   ],
   "source": [
    "from restaurant import Restaurant\n",
    "restaurant1 = Restaurant('Hotel California', 'American')\n",
    "restaurant1.describe_restaurant()"
   ]
  },
  {
   "cell_type": "markdown",
   "id": "continent-inflation",
   "metadata": {},
   "source": [
    "<br><br>\n",
    "**9-13. Dice:** Make a class *Die* with one attribute called *sides*, which has a default value of 6. Write a method called *roll_die()* that prints a random number between 1 and the number of sides the die has. Make a 6-sided die and roll it 10 times.<br>\n",
    "Make a 10-sided die and a 20-sided die. Roll each die 10 times."
   ]
  },
  {
   "cell_type": "code",
   "execution_count": 10,
   "id": "infinite-venice",
   "metadata": {},
   "outputs": [
    {
     "name": "stdout",
     "output_type": "stream",
     "text": [
      "Die6\tDie10\tDie20\n",
      "1\t10\t7\n",
      "2\t1\t18\n",
      "2\t1\t8\n",
      "3\t6\t6\n",
      "6\t8\t17\n",
      "4\t3\t12\n",
      "1\t7\t4\n",
      "4\t2\t2\n",
      "6\t3\t5\n",
      "2\t2\t6\n"
     ]
    }
   ],
   "source": [
    "# Imports randint method from random class\n",
    "from random import randint\n",
    "\n",
    "# A class that simulates rolling die\n",
    "class Die:\n",
    "    \"\"\"Simulates rollnig die\"\"\"\n",
    "    def __init__(self, sides):\n",
    "        self.sides = sides\n",
    "        \n",
    "    def roll_die(self):\n",
    "        return randint(1, self.sides)\n",
    "    \n",
    "# Instance of die class    \n",
    "dice6 = Die(6)\n",
    "dice10 = Die(10)\n",
    "dice20 = Die(20)\n",
    "\n",
    "print(\"Die6\", \"Die10\", \"Die20\", sep = '\\t')\n",
    "# Function that roll the die desired number of times\n",
    "for i in range(10):\n",
    "    roll6 = dice.roll_die()\n",
    "    roll10 = dice10.roll_die()\n",
    "    roll20 = dice20.roll_die()\n",
    "    print(roll6, roll10, roll20, sep = '\\t')"
   ]
  },
  {
   "cell_type": "markdown",
   "id": "bulgarian-continent",
   "metadata": {},
   "source": [
    "<br><br>\n",
    "**9-14. Lottery:** Make a list or tuple containing a series of 10 numbers and five letters. Randomly select four numbers or letters from the list and print a message saying that any ticket matching these four numbers or letters wins a prize."
   ]
  },
  {
   "cell_type": "code",
   "execution_count": 22,
   "id": "middle-equation",
   "metadata": {},
   "outputs": [
    {
     "name": "stdout",
     "output_type": "stream",
     "text": [
      "Any ticket matching these four numbers or letters wins a prize\n",
      "19\n",
      "19\n",
      "23\n",
      "e\n"
     ]
    }
   ],
   "source": [
    "# Imports choice method from random class\n",
    "from random import choice\n",
    "\n",
    "# A list containing a series of 10 numbers and five letters\n",
    "lottery_list = [45, 56, 15, 80, 63, 76, 23, 19, 34, 84, 'a', 'e', 'i', 'o', 'u']\n",
    "\n",
    "print(\"Any ticket matching these four numbers or letters wins a prize\")\n",
    "\n",
    "for i in range(4):\n",
    "    print(choice(lottery_list))"
   ]
  },
  {
   "cell_type": "markdown",
   "id": "through-favor",
   "metadata": {},
   "source": [
    "<br><br>\n",
    "**9-15. Lottery Analysis:** You can use a loop to see how hard it might be to win the kind of lottery you just modeled. Make a list or tuple called *my_ticket*. Write a loop that keeps pulling members until your ticket wins. Print a message reporting how many times the loop had to run to give you a winning ticket."
   ]
  },
  {
   "cell_type": "code",
   "execution_count": 33,
   "id": "resistant-nashville",
   "metadata": {},
   "outputs": [
    {
     "name": "stdout",
     "output_type": "stream",
     "text": [
      "8\n"
     ]
    }
   ],
   "source": [
    "# My ticket numbers\n",
    "my_ticket = [80, 72, 'k', 'a']\n",
    "times = 0\n",
    "\n",
    "# Loops until you win the lottery\n",
    "while choice(lottery_list) not in my_ticket:\n",
    "    times += 1\n",
    "    \n",
    "print(times)"
   ]
  },
  {
   "cell_type": "code",
   "execution_count": null,
   "id": "micro-gateway",
   "metadata": {},
   "outputs": [],
   "source": []
  },
  {
   "cell_type": "code",
   "execution_count": null,
   "id": "opponent-friend",
   "metadata": {},
   "outputs": [],
   "source": []
  }
 ],
 "metadata": {
  "kernelspec": {
   "display_name": "Python 3",
   "language": "python",
   "name": "python3"
  },
  "language_info": {
   "codemirror_mode": {
    "name": "ipython",
    "version": 3
   },
   "file_extension": ".py",
   "mimetype": "text/x-python",
   "name": "python",
   "nbconvert_exporter": "python",
   "pygments_lexer": "ipython3",
   "version": "3.9.1"
  }
 },
 "nbformat": 4,
 "nbformat_minor": 5
}
