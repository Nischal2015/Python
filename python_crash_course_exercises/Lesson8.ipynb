{
 "cells": [
  {
   "cell_type": "markdown",
   "id": "hourly-accident",
   "metadata": {},
   "source": [
    "# **Python Crash Course**\n",
    "## **Lesson 8 Practise Exercises**"
   ]
  },
  {
   "cell_type": "markdown",
   "id": "accompanied-leisure",
   "metadata": {},
   "source": [
    "**8-1. Message:** Write a funciton called *display_message()* that prints one sentence telling everyone what your are learning about in this chapter. Call he function, and make sure the message displays correctly."
   ]
  },
  {
   "cell_type": "code",
   "execution_count": 1,
   "id": "unauthorized-papua",
   "metadata": {},
   "outputs": [
    {
     "name": "stdout",
     "output_type": "stream",
     "text": [
      "I am learning functions in this chapter.\n"
     ]
    }
   ],
   "source": [
    "# Function that displays what I am learning in this chapter\n",
    "def display_message():\n",
    "    print(\"I am learning functions in this chapter.\")\n",
    "    \n",
    "display_message()"
   ]
  },
  {
   "cell_type": "markdown",
   "id": "private-struggle",
   "metadata": {},
   "source": [
    "<br><br>\n",
    "**8.2. Favourite Book:** Write a function called *favourite_book()* that prints one sentence telling everyone what you are learning about in this chapter. Call the function, and make sure the mesage displays correctly."
   ]
  },
  {
   "cell_type": "code",
   "execution_count": 2,
   "id": "widespread-duncan",
   "metadata": {},
   "outputs": [
    {
     "name": "stdout",
     "output_type": "stream",
     "text": [
      "One of my favourite books is  Ultralearning\n",
      "One of my favourite books is  Python Crash Course\n"
     ]
    }
   ],
   "source": [
    "# Function that prints the favourite book\n",
    "def favourite_book(book):\n",
    "    print(\"One of my favourite books is \", book)\n",
    "    \n",
    "favourite_book(\"Ultralearning\")\n",
    "favourite_book(\"Python Crash Course\")"
   ]
  },
  {
   "cell_type": "markdown",
   "id": "arctic-nebraska",
   "metadata": {},
   "source": [
    "<br><br>\n",
    "**8-3. T-Shirt:** Write a function called make_shirt() that accepts a size and the text of a message that should be printed on the shirt. The function should print a sentence summarizing the size of the shirt and the message printed on it.<br>\n",
    "Call the function once using positional arguments to make a shirt. Call the function a second time using keyword arguments"
   ]
  },
  {
   "cell_type": "code",
   "execution_count": 3,
   "id": "initial-afternoon",
   "metadata": {},
   "outputs": [
    {
     "name": "stdout",
     "output_type": "stream",
     "text": [
      "The size of shirt is XL and the text to be printed is Python Crash Course.\n",
      "The size of shirt is XXL and the text to be printed is Data Science.\n"
     ]
    }
   ],
   "source": [
    "# Function that prints the size and text on the shirt\n",
    "def make_shirt(size, text):\n",
    "    print(f\"The size of shirt is {size} and the text to be printed is {text}.\")\n",
    "    \n",
    "make_shirt(\"XL\", \"Python Crash Course\")\n",
    "make_shirt(size = \"XXL\", text = \"Data Science\")"
   ]
  },
  {
   "cell_type": "markdown",
   "id": "narrative-utilization",
   "metadata": {},
   "source": [
    "<br><br>\n",
    "**8-4. Large Shirts:** Modify the make_shirt() function so that shirts are large by default with a mesage that reads *I love Python*. Make a large shirt and a medium shiry with the default message, and a shirt of any size with a different message."
   ]
  },
  {
   "cell_type": "code",
   "execution_count": 4,
   "id": "august-david",
   "metadata": {},
   "outputs": [
    {
     "name": "stdout",
     "output_type": "stream",
     "text": [
      "The size of shirt is L and the text to be printed is I love Python.\n",
      "The size of shirt is medium and the text to be printed is I love Python.\n",
      "The size of shirt is small and the text to be printed is I am learning NumPy.\n"
     ]
    }
   ],
   "source": [
    "def make_shirt(size = \"L\", text = \"I love Python\"):\n",
    "    print(f\"The size of shirt is {size} and the text to be printed is {text}.\")\n",
    "    \n",
    "make_shirt()\n",
    "make_shirt(\"medium\")\n",
    "make_shirt(\"small\", \"I am learning NumPy\")"
   ]
  },
  {
   "cell_type": "markdown",
   "id": "respected-magnitude",
   "metadata": {},
   "source": [
    "<br><br>\n",
    "**8-5. Cities:** Write a function called describe_city() that accepts the name of a city and its country. The function should print a simple sentence, such as *Reykjavik is in Iceland*. Give the parameter for the country a default value. Call your function for three different cities, at least one of which is not in the default country."
   ]
  },
  {
   "cell_type": "code",
   "execution_count": 7,
   "id": "changing-helping",
   "metadata": {},
   "outputs": [
    {
     "name": "stdout",
     "output_type": "stream",
     "text": [
      "Kathmandu is in Nepal.\n",
      "Tokyo is in Japan.\n",
      "California is in USA.\n",
      "Sydney is in Australia.\n"
     ]
    }
   ],
   "source": [
    "# Function that prints the city and its country\n",
    "def describe_city(city, country = \"Nepal\"):\n",
    "    print(f\"{city} is in {country}.\")\n",
    "\n",
    "describe_city(\"Kathmandu\")\n",
    "describe_city(\"Tokyo\", \"Japan\")\n",
    "describe_city(country=\"USA\", city=\"California\")\n",
    "describe_city(city=\"Sydney\", country=\"Australia\")"
   ]
  },
  {
   "cell_type": "markdown",
   "id": "infinite-surveillance",
   "metadata": {},
   "source": [
    "<br><br>\n",
    "**8-6. City Names:** Write a function called *city_country()* that takes in the name of a city and its country. The funcion should return a string formatted like this:\n",
    "<hr>\n",
    "\"Santiago, Chile\"\n",
    "<hr></hr>\n",
    "Call your function with at least three city-country pairs, and print the values that are returned."
   ]
  },
  {
   "cell_type": "code",
   "execution_count": 6,
   "id": "cellular-characteristic",
   "metadata": {},
   "outputs": [
    {
     "name": "stdout",
     "output_type": "stream",
     "text": [
      "Kathmandu, Nepal\n",
      "Tokyo, Japan\n",
      "California, USA\n"
     ]
    }
   ],
   "source": [
    "# Function that returns the city-country pair\n",
    "def city_country(city, country):\n",
    "    print(f\"{city}, {country}\")\n",
    "    \n",
    "city_country(\"Kathmandu\", \"Nepal\")\n",
    "city_country(\"Tokyo\", \"Japan\")\n",
    "city_country(\"California\", \"USA\")"
   ]
  },
  {
   "cell_type": "markdown",
   "id": "pressed-constant",
   "metadata": {},
   "source": [
    "<br><br>\n",
    "**8-7. Album:** Write a function called *make_album()* that builds a dictionary describing a music album. The function should take in an artist name and an album title, and it should return a dictionary containing these two pieces of information. Use the function to make three dictionaries representing different albums. Print each return value to show that the dictionaries are storing the album information correctly.<br>\n",
    "Use None to add an optional parameter to make_album() that allows you to store the number of songs on an album. If the calling line includes a value for the number of songs, add that value of the album's dictionary. Make at least one new function call that includes the number of songs on an album."
   ]
  },
  {
   "cell_type": "code",
   "execution_count": 3,
   "id": "amber-marker",
   "metadata": {},
   "outputs": [
    {
     "name": "stdout",
     "output_type": "stream",
     "text": [
      "{'Metallica': 'Master of Puppets'}\n",
      "{'Megadeath': 'Rust in Peace'}\n",
      "{'Metallica': 'The Black Album'}\n"
     ]
    }
   ],
   "source": [
    "# Function that builds a dictionary describing a music album\n",
    "def make_album(artist, album):\n",
    "    music_album = {artist:album}\n",
    "    return music_album\n",
    "\n",
    "print(make_album(\"Metallica\", \"Master of Puppets\"))\n",
    "print(make_album(\"Megadeath\", \"Rust in Peace\"))\n",
    "print(make_album(\"Metallica\", \"The Black Album\"))"
   ]
  },
  {
   "cell_type": "code",
   "execution_count": 6,
   "id": "alone-cedar",
   "metadata": {},
   "outputs": [
    {
     "name": "stdout",
     "output_type": "stream",
     "text": [
      "{'ABC': 'GHR'}\n",
      "{'GHY': 'DHD', 'Number of Songs': 5}\n"
     ]
    }
   ],
   "source": [
    "# Another version of the same function containing number of songs and its default value\n",
    "def make_album(artist, album, number_songs=None):\n",
    "    music_album = {artist:album}\n",
    "    if number_songs:\n",
    "        music_album['Number of Songs'] = number_songs\n",
    "    return music_album\n",
    "\n",
    "print(make_album(\"ABC\", \"GHR\"))\n",
    "print(make_album(\"GHY\", \"DHD\", 5))"
   ]
  },
  {
   "cell_type": "markdown",
   "id": "pretty-casting",
   "metadata": {},
   "source": [
    "<br><br>\n",
    "**8-8. User Albums:** Start with your program from Exercise 8-7. Write a while loop that allows users to enter an album's artist and title. Once you have that information, call make_album() with the user's input and print the dictionary that's created. Be sure to include a quit value in the while loop."
   ]
  },
  {
   "cell_type": "code",
   "execution_count": 1,
   "id": "talented-clause",
   "metadata": {},
   "outputs": [
    {
     "name": "stdin",
     "output_type": "stream",
     "text": [
      "Enter the artist's name:  Nischal\n",
      "Enter the album's name:  Python\n",
      "Enter (yes/no) whether you want to enter number of songs too or press enter to quit:  no\n",
      "Enter the artist's name:  Genius\n",
      "Enter the album's name:  Vega Pyao\n",
      "Enter (yes/no) whether you want to enter number of songs too or press enter to quit:  yes\n",
      "Enter the number of songs:  5\n",
      "Enter the artist's name:  Goru \n",
      "Enter the album's name:  Vaisi\n",
      "Enter (yes/no) whether you want to enter number of songs too or press enter to quit:  quit\n"
     ]
    },
    {
     "name": "stdout",
     "output_type": "stream",
     "text": [
      "{'Youtube': 'GomuGomu', 'Nischal': 'Python', 'Genius': 'Vega Pyao', 'Number of songs': '5', 'Goru ': 'Vaisi'}\n"
     ]
    }
   ],
   "source": [
    "# Same function as that of above but with user's input\n",
    "def make_album(artist, album, number_songs=None):\n",
    "    active = True\n",
    "    music_album = {artist:album}\n",
    "    if number_songs:\n",
    "        music_album['Number of Songs'] = number_songs\n",
    "        \n",
    "    while active:\n",
    "        artist = input(\"Enter the artist's name: \")\n",
    "        album = input(\"Enter the album's name: \")\n",
    "        music_album[artist] = album\n",
    "        ask = input(\"Enter (yes/no) whether you want to enter number of songs too or press enter to quit: \")\n",
    "        if ask == 'yes':\n",
    "            number_songs = input(\"Enter the number of songs: \")\n",
    "            music_album['Number of songs'] = number_songs\n",
    "            \n",
    "        elif ask == 'quit':\n",
    "            active = False\n",
    "                    \n",
    "    print(music_album)\n",
    "        \n",
    "make_album(\"Youtube\", \"GomuGomu\")"
   ]
  },
  {
   "cell_type": "markdown",
   "id": "other-wright",
   "metadata": {},
   "source": [
    "<br><br>\n",
    "**8-9. Messages:** Make a list containing a series of short text messages. Pass the list to a function called show_messages(), which prints each text message."
   ]
  },
  {
   "cell_type": "code",
   "execution_count": 12,
   "id": "digital-swiss",
   "metadata": {},
   "outputs": [
    {
     "name": "stdout",
     "output_type": "stream",
     "text": [
      "Hello Nischal\n",
      "Can you tell me where the big ass guy Genius is?\n",
      "He is in toilet\n"
     ]
    }
   ],
   "source": [
    "# Making a list of short text messages\n",
    "messages = [\"Hello Nischal\", \"Can you tell me where the big ass guy Genius is?\", \"He is in toilet\"]\n",
    "\n",
    "# Function that prints messages in the list\n",
    "def show_messages(message_list):\n",
    "    for message in message_list:\n",
    "        print(message)\n",
    "        \n",
    "show_messages(messages)"
   ]
  },
  {
   "cell_type": "markdown",
   "id": "entire-bread",
   "metadata": {},
   "source": [
    "<br><br>\n",
    "**8-10. Sending Messages:** Start with a copy of your program from Exercise 8-9. Write a function called send_messages() that prints each text message and moves each message to a new list called sent_messages as it's printed. After calling the function, print both of your lists to make sure the messages were moved correctly."
   ]
  },
  {
   "cell_type": "code",
   "execution_count": 17,
   "id": "other-drilling",
   "metadata": {},
   "outputs": [
    {
     "name": "stdout",
     "output_type": "stream",
     "text": [
      "Hello Nischal\n",
      "Can you tell me where the big ass guy Genius is?\n",
      "He is in toilet\n",
      "\n",
      "['Hello Nischal', 'Can you tell me where the big ass guy Genius is?', 'He is in toilet']\n",
      "['Hello Nischal', 'Can you tell me where the big ass guy Genius is?', 'He is in toilet']\n"
     ]
    }
   ],
   "source": [
    "# An empty list\n",
    "sent_messages = []\n",
    "\n",
    "# A message that prints and copies the text messages to another list\n",
    "def send_messages(message_list):\n",
    "    for message in message_list:\n",
    "        print(message)\n",
    "        sent_messages.append(message)\n",
    "    \n",
    "    print(\"\\n\", messages, sep='')\n",
    "    print(sent_messages)\n",
    "        \n",
    "send_messages(message[:])"
   ]
  },
  {
   "cell_type": "markdown",
   "id": "solved-trailer",
   "metadata": {},
   "source": [
    "<br><br>\n",
    "**8-12. Sandwiches:** Write a function that accepts a list of items a person wants on a sandwich. The function should have one parameter that collects as many items as the function call provides, and it should print a summary of the sandwich that's being ordered. Call the function three times, using a different number of arguments each time."
   ]
  },
  {
   "cell_type": "code",
   "execution_count": 19,
   "id": "linear-barbados",
   "metadata": {},
   "outputs": [
    {
     "name": "stdout",
     "output_type": "stream",
     "text": [
      "\n",
      "Items added to sandwich\n",
      "- cheese\n",
      "- mayonnaise\n",
      "\n",
      "Items added to sandwich\n",
      "- chicken\n",
      "\n",
      "Items added to sandwich\n",
      "- crispy potatoes\n",
      "- salad\n",
      "- salami\n"
     ]
    }
   ],
   "source": [
    "# Function that accepts arbitrary number of arguments\n",
    "def sandwich(*args):\n",
    "    print(\"\\nItems added to sandwich\")\n",
    "    for item in args:\n",
    "        print(\"-\", item)\n",
    "        \n",
    "sandwich('cheese', 'mayonnaise')\n",
    "sandwich('chicken')\n",
    "sandwich('crispy potatoes', 'salad', 'salami')"
   ]
  },
  {
   "cell_type": "markdown",
   "id": "macro-psychiatry",
   "metadata": {},
   "source": [
    "<br><br>\n",
    "**8-14. Cars:** Write a function that stores information about a car in a dictionary. The function should always receive a manufacturer and a model name. It should then accept an arbitrary number of keyword arguments. Call the function with the required information and two other name-value pairs, such as a color or an optional feature. Your function should work for a call like this one:\n",
    "<hr>car = make_car('subaru', 'outback', color='blue', tow_package=True)<hr>"
   ]
  },
  {
   "cell_type": "code",
   "execution_count": 22,
   "id": "anonymous-offering",
   "metadata": {},
   "outputs": [
    {
     "name": "stdout",
     "output_type": "stream",
     "text": [
      "{'Color': 'blue', 'Tow_package': True, 'Manufacturer': 'subaru', 'Model Name': 'outback'}\n"
     ]
    }
   ],
   "source": [
    "def make_car(manufacturer, model_name, **car_info):\n",
    "    \"\"\"Returns a dictionary from the given arguments\"\"\"\n",
    "    car_info['Manufacturer'] = manufacturer\n",
    "    car_info['Model Name'] = model_name\n",
    "    return car_info\n",
    "\n",
    "car = make_car('subaru', 'outback', Color='blue', Tow_package=True)\n",
    "print(car)"
   ]
  }
 ],
 "metadata": {
  "kernelspec": {
   "display_name": "Python 3",
   "language": "python",
   "name": "python3"
  },
  "language_info": {
   "codemirror_mode": {
    "name": "ipython",
    "version": 3
   },
   "file_extension": ".py",
   "mimetype": "text/x-python",
   "name": "python",
   "nbconvert_exporter": "python",
   "pygments_lexer": "ipython3",
   "version": "3.9.1"
  }
 },
 "nbformat": 4,
 "nbformat_minor": 5
}
