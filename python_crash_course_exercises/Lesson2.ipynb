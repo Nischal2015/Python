{
 "cells": [
  {
   "cell_type": "markdown",
   "metadata": {},
   "source": [
    "# **Python Crash Course**\n",
    "## **Lesson 2 Practise Exercises**"
   ]
  },
  {
   "cell_type": "markdown",
   "metadata": {},
   "source": [
    "**2.1 Simple Message:** Assign a message to a variable, and then print that message."
   ]
  },
  {
   "cell_type": "code",
   "execution_count": 1,
   "metadata": {},
   "outputs": [
    {
     "name": "stdout",
     "output_type": "stream",
     "text": [
      "This is my first python programming experience.\n"
     ]
    }
   ],
   "source": [
    "# Prints message associated with the variable\n",
    "message = \"This is my first python programming experience.\"\n",
    "print(message)"
   ]
  },
  {
   "cell_type": "markdown",
   "metadata": {},
   "source": [
    "<br><br>\n",
    "**2.2 Simple Messages:** Assign a message to a variable, and print that message. Then change the value of the variable to the new message, and print the new message."
   ]
  },
  {
   "cell_type": "code",
   "execution_count": 2,
   "metadata": {},
   "outputs": [
    {
     "name": "stdout",
     "output_type": "stream",
     "text": [
      "Today is Saturday.\n",
      "A great day to start programming execises.\n"
     ]
    }
   ],
   "source": [
    "message = \"Today is Saturday.\"\n",
    "print(message)\n",
    "message = \"A great day to start programming execises.\"\n",
    "print(message)"
   ]
  },
  {
   "cell_type": "markdown",
   "metadata": {},
   "source": [
    "<br><br>\n",
    "**2.3 Personal Message:** Use a variable to represent a person's name, and print a message to that person. Your \n",
    "message should be simple, such as, \"Hello Eric, would you like to learn some Python today?\""
   ]
  },
  {
   "cell_type": "code",
   "execution_count": 2,
   "metadata": {},
   "outputs": [
    {
     "name": "stdout",
     "output_type": "stream",
     "text": [
      "Hello Genius, would you like to learn some Python today?\n",
      "Hello Genius, would you like to learn some Python today?\n"
     ]
    }
   ],
   "source": [
    "person_name = \"Genius\"\n",
    "message = f\"Hello {person_name}, would you like to learn some Python today?\"\n",
    "print(message)\n",
    "print(\"Hello \" + person_name + \", would you like to learn some Python today?\")"
   ]
  },
  {
   "cell_type": "markdown",
   "metadata": {},
   "source": [
    "<br><br>\n",
    "**2.4 Name Cases:** Use a variable to represent a person's name and then print that person's name in lowercase, \n",
    "uppercase and title case."
   ]
  },
  {
   "cell_type": "code",
   "execution_count": 7,
   "metadata": {},
   "outputs": [
    {
     "name": "stdout",
     "output_type": "stream",
     "text": [
      "genius\n",
      "GENIUS\n",
      "Genius\n"
     ]
    }
   ],
   "source": [
    "person_name = \"GeNius\"\n",
    "print(person_name.lower())\n",
    "print(person_name.upper())\n",
    "print(person_name.title())"
   ]
  },
  {
   "cell_type": "markdown",
   "metadata": {},
   "source": [
    "<br><br>\n",
    "**2.5 Famous Quote:** Find a quote from a famous person you admire. Print the quote and the name of its author. Your\n",
    "output should look something like the following, including the quotation marks."
   ]
  },
  {
   "cell_type": "code",
   "execution_count": 10,
   "metadata": {},
   "outputs": [
    {
     "name": "stdout",
     "output_type": "stream",
     "text": [
      "Albert Einstein once said, \"A person who never made a mistake never tried anything new.\"\n"
     ]
    }
   ],
   "source": [
    "print('Albert Einstein once said, \"A person who never made a mistake never tried anything new.\"')"
   ]
  },
  {
   "cell_type": "markdown",
   "metadata": {},
   "source": [
    "<br><br>\n",
    "**2.6 Famous Quote 2:** Repeat Exercise 2.5, but this time, represent the famous person's name using a variable \n",
    "called famous_person. Then compose your message and represent it with a new variable called message. Print your\n",
    "message."
   ]
  },
  {
   "cell_type": "code",
   "execution_count": 13,
   "metadata": {},
   "outputs": [
    {
     "name": "stdout",
     "output_type": "stream",
     "text": [
      "Mike Tyson once said, \"Everybody has a plan until they get punched in the mouth.\"\n"
     ]
    }
   ],
   "source": [
    "famous_person = \"Mike Tyson\"\n",
    "message = f'{famous_person} once said, \"Everybody has a plan until they get punched in the mouth.\"'\n",
    "print(message)"
   ]
  },
  {
   "cell_type": "markdown",
   "metadata": {},
   "source": [
    "<br><br>\n",
    "**2.7 Stripping Names:** Use a variable to represent a person's name, and include some whitespace characters at the\n",
    "beginning and end of the name. Make sure you use each chartacter combination, \"\\t\" and \"\\n\", at least once.<br>\n",
    "\n",
    "Print the name once, so the whitespace around the name is displayed. Then print the name using each of the three \n",
    "stripping functions, lstrip(), rstrip(), and strip()."
   ]
  },
  {
   "cell_type": "code",
   "execution_count": 1,
   "metadata": {},
   "outputs": [
    {
     "name": "stdout",
     "output_type": "stream",
     "text": [
      " Nischal\n",
      "Nischal \n",
      "Nischal\n"
     ]
    }
   ],
   "source": [
    "person_name = \" Nischal \"\n",
    "print(person_name.rstrip())\n",
    "print(person_name.lstrip())\n",
    "print(person_name.strip())"
   ]
  },
  {
   "cell_type": "markdown",
   "metadata": {},
   "source": [
    "<br><br>\n",
    "**2.8 Number Eight:** Write addition, subtraction, multiplication, and division operations that each result in the\n",
    "number 8. Be sure to enclose your operations in print() calls to see the results. You should create four lines\n",
    "that look like this:\n",
    "- print(5 + 3)\n",
    "- print(6 - 5)\n",
    "- print(8 * 6)\n",
    "- print(7 / 5)"
   ]
  },
  {
   "cell_type": "markdown",
   "metadata": {},
   "source": [
    "<br><br>\n",
    "**2.9 Favourite Number:** Use a variable to represent your favourite number. Then, using that variable, create a\n",
    "message that reveals your favourite number. Print that message."
   ]
  },
  {
   "cell_type": "code",
   "execution_count": 4,
   "metadata": {},
   "outputs": [
    {
     "name": "stdout",
     "output_type": "stream",
     "text": [
      "My favourite number is 8\n"
     ]
    }
   ],
   "source": [
    "# Varible representing my favourite number\n",
    "number = 8\n",
    "print(\"My favourite number is\", number)"
   ]
  },
  {
   "cell_type": "markdown",
   "metadata": {},
   "source": [
    "<br><br>\n",
    "**2.11 Zen of Python:** Enter 'import this' into a Python terminal session and skim through the additional practises."
   ]
  },
  {
   "cell_type": "code",
   "execution_count": 3,
   "metadata": {},
   "outputs": [
    {
     "name": "stdout",
     "output_type": "stream",
     "text": [
      "The Zen of Python, by Tim Peters\n",
      "\n",
      "Beautiful is better than ugly.\n",
      "Explicit is better than implicit.\n",
      "Simple is better than complex.\n",
      "Complex is better than complicated.\n",
      "Flat is better than nested.\n",
      "Sparse is better than dense.\n",
      "Readability counts.\n",
      "Special cases aren't special enough to break the rules.\n",
      "Although practicality beats purity.\n",
      "Errors should never pass silently.\n",
      "Unless explicitly silenced.\n",
      "In the face of ambiguity, refuse the temptation to guess.\n",
      "There should be one-- and preferably only one --obvious way to do it.\n",
      "Although that way may not be obvious at first unless you're Dutch.\n",
      "Now is better than never.\n",
      "Although never is often better than *right* now.\n",
      "If the implementation is hard to explain, it's a bad idea.\n",
      "If the implementation is easy to explain, it may be a good idea.\n",
      "Namespaces are one honking great idea -- let's do more of those!\n"
     ]
    }
   ],
   "source": [
    "# Prints the zen of Python\n",
    "import this"
   ]
  }
 ],
 "metadata": {
  "kernelspec": {
   "display_name": "Python 3",
   "language": "python",
   "name": "python3"
  },
  "language_info": {
   "codemirror_mode": {
    "name": "ipython",
    "version": 3
   },
   "file_extension": ".py",
   "mimetype": "text/x-python",
   "name": "python",
   "nbconvert_exporter": "python",
   "pygments_lexer": "ipython3",
   "version": "3.9.1"
  }
 },
 "nbformat": 4,
 "nbformat_minor": 4
}
