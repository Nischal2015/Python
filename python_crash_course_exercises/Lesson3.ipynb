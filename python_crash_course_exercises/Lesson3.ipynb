{
 "cells": [
  {
   "cell_type": "markdown",
   "metadata": {},
   "source": [
    "# **Python Crash Course**\n",
    "### **Lesson 3 Practise Exercises**"
   ]
  },
  {
   "cell_type": "markdown",
   "metadata": {},
   "source": [
    "**3.1 Names:** Store the names of a few of your friends in a list called names. Print each person's name by accessing\n",
    "each element in the list, one at a time."
   ]
  },
  {
   "cell_type": "code",
   "execution_count": 10,
   "metadata": {},
   "outputs": [
    {
     "name": "stdout",
     "output_type": "stream",
     "text": [
      "Python\n",
      "R\n",
      "C++\n",
      "SQL\n",
      "C\n",
      "ML\n",
      "\n",
      "\n",
      "Python\n",
      "R\n",
      "C++\n",
      "SQL\n",
      "C\n",
      "ML\n",
      "\n",
      "\n",
      "Python\n",
      "R\n",
      "C++\n",
      "SQL\n",
      "C\n",
      "ML\n"
     ]
    }
   ],
   "source": [
    "names = ['Python', 'R', 'C++', 'SQL', 'C', 'ML']\n",
    "\n",
    "# First Approach\n",
    "print(names[0])\n",
    "print(names[1])\n",
    "print(names[2])\n",
    "print(names[3])\n",
    "print(names[4])\n",
    "print(names[5])\n",
    "print(\"\\n\")\n",
    "\n",
    "# Alternate approach\n",
    "for i in range(len(names)):\n",
    "    print(names[i])\n",
    "print(\"\\n\")\n",
    "\n",
    "# Another alternate approach \n",
    "for name in names:\n",
    "    print(name)"
   ]
  },
  {
   "cell_type": "markdown",
   "metadata": {},
   "source": [
    "<br><br>\n",
    "**3.2 Greetings:** Start with the list you used in exercise 3.1, but instead of just printing each person's name,\n",
    "print a message to them. The text of each message should be the same, but each message should be personalized \n",
    "with the person's name."
   ]
  },
  {
   "cell_type": "code",
   "execution_count": 11,
   "metadata": {},
   "outputs": [
    {
     "name": "stdout",
     "output_type": "stream",
     "text": [
      "Welcome Python\n",
      "Welcome R\n",
      "Welcome C++\n",
      "Welcome SQL\n",
      "Welcome C\n",
      "Welcome ML\n",
      "\n",
      "\n",
      "Welcome Python\n",
      "Welcome R\n",
      "Welcome C++\n",
      "Welcome SQL\n",
      "Welcome C\n",
      "Welcome ML\n",
      "\n",
      "\n",
      "Welcome Python\n",
      "Welcome R\n",
      "Welcome C++\n",
      "Welcome SQL\n",
      "Welcome C\n",
      "Welcome ML\n"
     ]
    }
   ],
   "source": [
    "names = ['Python', 'R', 'C++', 'SQL', 'C', 'ML']\n",
    "\n",
    "# First Approach\n",
    "print(\"Welcome\", names[0])\n",
    "print(\"Welcome\", names[1])\n",
    "print(\"Welcome\", names[2])\n",
    "print(\"Welcome\", names[3])\n",
    "print(\"Welcome\", names[4])\n",
    "print(\"Welcome\", names[5])\n",
    "print(\"\\n\")\n",
    "\n",
    "# Alternate approach\n",
    "for i in range(len(names)):\n",
    "    print(\"Welcome\", names[i])\n",
    "print(\"\\n\")\n",
    "\n",
    "# Another alternate approach\n",
    "for name in names:\n",
    "    print(\"Welcome\", name)"
   ]
  },
  {
   "cell_type": "markdown",
   "metadata": {},
   "source": [
    "<br><br>\n",
    "**3.3 Your Own List:** Think of your favourite mode of transportation, such as a motorcycle or a car, and make a list\n",
    "that stores several examples. Use your list to print series of statements about them, such as \"I would like to \n",
    "own a Honda motorcycle."
   ]
  },
  {
   "cell_type": "code",
   "execution_count": 12,
   "metadata": {},
   "outputs": [
    {
     "name": "stdout",
     "output_type": "stream",
     "text": [
      "I would like to own a Car\n",
      "I would like to own a Motorcycle\n"
     ]
    }
   ],
   "source": [
    "transportation = ['Car', 'Motorcycle']\n",
    "print(\"I would like to own a\", transportation[0])\n",
    "print(\"I would like to own a\", transportation[1])"
   ]
  },
  {
   "cell_type": "markdown",
   "metadata": {},
   "source": [
    "<br><br>\n",
    "**3.4 Guest List:** If you could invite anyone, living or deceased, to dinner, who would you invite? Make a list \n",
    "that includes at least three people you'd like to invite to dinner. Then use your list to print a message to \n",
    "each person, inviting them to dinner."
   ]
  },
  {
   "cell_type": "code",
   "execution_count": 13,
   "metadata": {},
   "outputs": [
    {
     "name": "stdout",
     "output_type": "stream",
     "text": [
      "Hi Genius, welcome to dinner.\n",
      "Hi Nischal, welcome to dinner.\n",
      "Hi People, welcome to dinner.\n"
     ]
    }
   ],
   "source": [
    "people = ['Genius', 'Nischal', 'People']\n",
    "print(f\"Hi {people[0]}, welcome to dinner.\")\n",
    "print(f\"Hi {people[1]}, welcome to dinner.\")\n",
    "print(f\"Hi {people[2]}, welcome to dinner.\")"
   ]
  },
  {
   "cell_type": "markdown",
   "metadata": {},
   "source": [
    "<br><br>\n",
    "**3.5 Changing guest list:** You just heard that one of your guests can't make the dinner, so you need to send out\n",
    "a new set of invitations. You'll have to think of someone else to invite."
   ]
  },
  {
   "cell_type": "code",
   "execution_count": 14,
   "metadata": {},
   "outputs": [
    {
     "name": "stdout",
     "output_type": "stream",
     "text": [
      "Hi Faicha, welcome to dinner.\n",
      "Hi Nischal, welcome to dinner.\n",
      "Hi People, welcome to dinner.\n",
      "Genius couldn't make to the dinner.\n"
     ]
    }
   ],
   "source": [
    "cannot_make_dinner = people.pop(0);\n",
    "people.insert(0, \"Faicha\")\n",
    "#print(people)\n",
    "print(f\"Hi {people[0]}, welcome to dinner.\")\n",
    "print(f\"Hi {people[1]}, welcome to dinner.\")\n",
    "print(f\"Hi {people[2]}, welcome to dinner.\")\n",
    "print(cannot_make_dinner + \" couldn't make to the dinner.\")"
   ]
  },
  {
   "cell_type": "markdown",
   "metadata": {},
   "source": [
    "<br><br>\n",
    "**3.6 More Guests:** You just found a bigger table, so now more space is available. Think of three more guests to\n",
    "invite to dinner."
   ]
  },
  {
   "cell_type": "code",
   "execution_count": 15,
   "metadata": {},
   "outputs": [
    {
     "name": "stdout",
     "output_type": "stream",
     "text": [
      "Hi Faicha, welcome to the dinner.\n",
      "Hi Gyan, welcome to the dinner.\n",
      "Hi Lila, welcome to the dinner.\n",
      "Hi Nischal, welcome to the dinner.\n",
      "Hi People, welcome to the dinner.\n",
      "Hi Genius, welcome to the dinner.\n",
      "We found a bigger table.\n"
     ]
    }
   ],
   "source": [
    "people.insert(len(people)//2, \"Gyan\")\n",
    "people.insert(len(people)//2, \"Lila\")\n",
    "people.append(\"Genius\")\n",
    "for guests in people:\n",
    "    print(\"Hi \" + guests + \", welcome to the dinner.\")\n",
    "print(\"We found a bigger table.\")"
   ]
  },
  {
   "cell_type": "markdown",
   "metadata": {},
   "source": [
    "<br><br>\n",
    "**3.7 Shrinking guest list:** You just found out that your new dinner table won't arrive in time for the dinner, \n",
    "and you have space for only two guests."
   ]
  },
  {
   "cell_type": "code",
   "execution_count": 16,
   "metadata": {},
   "outputs": [
    {
     "name": "stdout",
     "output_type": "stream",
     "text": [
      "We can only invite two people for dinner. Sorry for inconvenience.\n",
      "Sorry Genius, we cannot invite you to the dinner.\n",
      "Sorry People, we cannot invite you to the dinner.\n",
      "Sorry Nischal, we cannot invite you to the dinner.\n",
      "Sorry Lila, we cannot invite you to the dinner.\n",
      "\n",
      "Hi Faicha, you are still invited.\n",
      "Hi Gyan, you are still invited.\n",
      "\n",
      "[]\n"
     ]
    }
   ],
   "source": [
    "print(\"We can only invite two people for dinner. Sorry for inconvenience.\")\n",
    "print(\"Sorry \" + people.pop() + \", we cannot invite you to the dinner.\")\n",
    "print(\"Sorry \" + people.pop() + \", we cannot invite you to the dinner.\")\n",
    "print(\"Sorry \" + people.pop() + \", we cannot invite you to the dinner.\")\n",
    "print(\"Sorry \" + people.pop() + \", we cannot invite you to the dinner.\\n\")\n",
    "\n",
    "print(\"Hi \" + people[0] + \", you are still invited.\")\n",
    "print(\"Hi \" + people[1] + \", you are still invited.\\n\")\n",
    "\n",
    "del people[0]\n",
    "del people[0]\n",
    "\n",
    "print(people)"
   ]
  },
  {
   "cell_type": "markdown",
   "metadata": {},
   "source": [
    "<br><br>\n",
    "**3.8 Seeking the world:** Think of at least five places in the world you'd like to visit."
   ]
  },
  {
   "cell_type": "code",
   "execution_count": 17,
   "metadata": {},
   "outputs": [
    {
     "name": "stdout",
     "output_type": "stream",
     "text": [
      "['Melbourne', 'Singapore', 'Silicon Valley', 'New York', 'Paris']\n",
      "['Melbourne', 'New York', 'Paris', 'Silicon Valley', 'Singapore']\n",
      "['Melbourne', 'Singapore', 'Silicon Valley', 'New York', 'Paris']\n",
      "['Singapore', 'Silicon Valley', 'Paris', 'New York', 'Melbourne']\n",
      "['Melbourne', 'Singapore', 'Silicon Valley', 'New York', 'Paris']\n",
      "['Paris', 'New York', 'Silicon Valley', 'Singapore', 'Melbourne']\n",
      "['Melbourne', 'Singapore', 'Silicon Valley', 'New York', 'Paris']\n",
      "['Melbourne', 'New York', 'Paris', 'Silicon Valley', 'Singapore']\n",
      "['Singapore', 'Silicon Valley', 'Paris', 'New York', 'Melbourne']\n"
     ]
    }
   ],
   "source": [
    "location_list = ['Melbourne', 'Singapore', 'Silicon Valley', 'New York', 'Paris']\n",
    "print(location_list)\n",
    "print(sorted(location_list))\n",
    "print(location_list)\n",
    "print(sorted(location_list, reverse = True))\n",
    "print(location_list)\n",
    "location_list.reverse()\n",
    "print(location_list)\n",
    "location_list.reverse()\n",
    "print(location_list)\n",
    "location_list.sort()\n",
    "print(location_list)\n",
    "location_list.sort(reverse = True)\n",
    "print(location_list)"
   ]
  },
  {
   "cell_type": "markdown",
   "metadata": {},
   "source": [
    "<br><br>\n",
    "**3.9 Dinner Guests:** Working with one of the programs form Exercise 3.4 through 3.7, use len() to print a message\n",
    "indication the number of people you are inviting to dinner."
   ]
  },
  {
   "cell_type": "code",
   "execution_count": 18,
   "metadata": {},
   "outputs": [
    {
     "name": "stdout",
     "output_type": "stream",
     "text": [
      "We are inviting 0 people to the dinner.\n"
     ]
    }
   ],
   "source": [
    "print(\"We are inviting \" + str(len(people)) + \" people to the dinner.\")"
   ]
  }
 ],
 "metadata": {
  "kernelspec": {
   "display_name": "Python 3",
   "language": "python",
   "name": "python3"
  },
  "language_info": {
   "codemirror_mode": {
    "name": "ipython",
    "version": 3
   },
   "file_extension": ".py",
   "mimetype": "text/x-python",
   "name": "python",
   "nbconvert_exporter": "python",
   "pygments_lexer": "ipython3",
   "version": "3.9.1"
  }
 },
 "nbformat": 4,
 "nbformat_minor": 4
}
