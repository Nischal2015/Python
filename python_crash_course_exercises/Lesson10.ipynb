{
 "cells": [
  {
   "cell_type": "markdown",
   "id": "quick-arrangement",
   "metadata": {},
   "source": [
    "# **Python Crash Course (Files and Exception)**\n",
    "## **Lesson 10 Practise Exercises**"
   ]
  },
  {
   "cell_type": "code",
   "execution_count": 17,
   "id": "certain-reviewer",
   "metadata": {},
   "outputs": [],
   "source": [
    "# Filename\n",
    "file = 'python.txt'"
   ]
  },
  {
   "cell_type": "code",
   "execution_count": 14,
   "id": "affecting-snake",
   "metadata": {},
   "outputs": [
    {
     "name": "stdout",
     "output_type": "stream",
     "text": [
      "In Python you can create variables and stores different types of data values in it.\n",
      "In Python you can perform arithmetic operations.\n",
      "In Python you can create data structures like lists, dictionaries, and tuples.\n",
      "In Python you can create loops to perform tasks repeatedly.\n",
      "In Python you can apply object oriented features using class.\n",
      "In Python you can create functions to perform some tasks.\n",
      "\n",
      "\n",
      "In Python you can create variables and stores different types of data values in it.\n",
      "In Python you can perform arithmetic operations.\n",
      "In Python you can create data structures like lists, dictionaries, and tuples.\n",
      "In Python you can create loops to perform tasks repeatedly.\n",
      "In Python you can apply object oriented features using class.\n",
      "In Python you can create functions to perform some tasks.\n",
      "\n",
      "\n",
      "In Python you can create variables and stores different types of data values in it.\n",
      "In Python you can perform arithmetic operations.\n",
      "In Python you can create data structures like lists, dictionaries, and tuples.\n",
      "In Python you can create loops to perform tasks repeatedly.\n",
      "In Python you can apply object oriented features using class.\n",
      "In Python you can create functions to perform some tasks.\n",
      "\n",
      "\n"
     ]
    }
   ],
   "source": [
    "# Opening file \n",
    "with open(file) as f:\n",
    "    # Reads information from file\n",
    "    contents = f.read()\n",
    "    \n",
    "    # Prints the contents three times\n",
    "    for i in range(3):\n",
    "        print(contents)"
   ]
  },
  {
   "cell_type": "code",
   "execution_count": 29,
   "id": "based-mississippi",
   "metadata": {},
   "outputs": [
    {
     "name": "stdout",
     "output_type": "stream",
     "text": [
      "In Python you can create variables and stores different types of data values in it.\n",
      "In Python you can perform arithmetic operations.\n",
      "In Python you can create data structures like lists, dictionaries, and tuples.\n",
      "In Python you can create loops to perform tasks repeatedly.\n",
      "In Python you can apply object oriented features using class.\n",
      "In Python you can create functions to perform some tasks.\n",
      "\n"
     ]
    }
   ],
   "source": [
    "# Opens the file and prints the file contents using object\n",
    "with open(file) as file_object:\n",
    "    for line in file_object:\n",
    "        print(line.rstrip())"
   ]
  },
  {
   "cell_type": "code",
   "execution_count": 12,
   "id": "hundred-navigator",
   "metadata": {},
   "outputs": [
    {
     "name": "stdout",
     "output_type": "stream",
     "text": [
      "In Python you can create variables and stores different types of data values in it.\n",
      "In Python you can perform arithmetic operations.\n",
      "In Python you can create data structures like lists, dictionaries, and tuples.\n",
      "In Python you can create loops to perform tasks repeatedly.\n",
      "In Python you can apply object oriented features using class.\n",
      "In Python you can create functions to perform some tasks.\n",
      "\n"
     ]
    }
   ],
   "source": [
    "with open(file) as f:\n",
    "    contents_list = f.readlines()\n",
    "    \n",
    "for content in contents_list:\n",
    "    print(content.rstrip())"
   ]
  },
  {
   "cell_type": "code",
   "execution_count": 28,
   "id": "serial-queensland",
   "metadata": {},
   "outputs": [
    {
     "name": "stdout",
     "output_type": "stream",
     "text": [
      "In C you can create variables and stores different types of data values in it.\n",
      "\n",
      "In C you can perform arithmetic operations.\n",
      "\n",
      "In C you can create data structures like lists, dictionaries, and tuples.\n",
      "\n",
      "In C you can create loops to perform tasks repeatedly.\n",
      "\n",
      "In C you can apply object oriented features using class.\n",
      "\n",
      "In C you can create functions to perform some tasks.\n",
      "\n",
      "\n",
      "\n"
     ]
    }
   ],
   "source": [
    "with open(file) as file_object:\n",
    "    for line in file_object:\n",
    "        print(line.replace('Python', 'C'))        "
   ]
  },
  {
   "cell_type": "code",
   "execution_count": 33,
   "id": "accessible-bracelet",
   "metadata": {},
   "outputs": [
    {
     "name": "stdin",
     "output_type": "stream",
     "text": [
      "Please enter your name:  Genius\n"
     ]
    }
   ],
   "source": [
    "with open('guest.txt', 'a') as f:\n",
    "    # Asks the user to input their name\n",
    "    name = input(\"Please enter your name: \")\n",
    "    f.write(f\"{name}\\n\")"
   ]
  },
  {
   "cell_type": "code",
   "execution_count": 9,
   "id": "continued-plymouth",
   "metadata": {},
   "outputs": [
    {
     "name": "stdin",
     "output_type": "stream",
     "text": [
      "Please enter your name or enter 'quit' to exit:  Nischal\n",
      "Please enter your name or enter 'quit' to exit:  Genius\n",
      "Please enter your name or enter 'quit' to exit:  quit\n"
     ]
    },
    {
     "name": "stdout",
     "output_type": "stream",
     "text": [
      "\n",
      "Records in file\n",
      "Welcome Nischal.\n",
      "Welcome Genius.\n"
     ]
    }
   ],
   "source": [
    "with open('guest_book.txt', 'w') as f:    \n",
    "    while True:\n",
    "        # Prompt the user for name\n",
    "        name = input(\"Please enter your name or enter 'quit' to exit: \")\n",
    "        if name.lower() == 'quit':\n",
    "            break\n",
    "            \n",
    "        f.write(f\"Welcome {name}.\\n\")\n",
    "        \n",
    "print(\"\\nRecords in file\")\n",
    "with open('guest_book.txt') as file_object:\n",
    "    for line in file_object:\n",
    "        print(line.rstrip())"
   ]
  },
  {
   "cell_type": "code",
   "execution_count": 11,
   "id": "patient-promotion",
   "metadata": {},
   "outputs": [
    {
     "name": "stdout",
     "output_type": "stream",
     "text": [
      "Enter QUIT if you want to exit\n"
     ]
    },
    {
     "name": "stdin",
     "output_type": "stream",
     "text": [
      "Please tell us why do you love programming:  It defines the world in a new way.\n",
      "Please tell us why do you love programming:  quit\n"
     ]
    },
    {
     "name": "stdout",
     "output_type": "stream",
     "text": [
      "\n",
      "Here are a few reasons entered by the users\n",
      "It allows you to express your ideas in real world and see it for yourself.\n",
      "It is fun\n",
      "It defines the world in a new way.\n",
      "\n"
     ]
    }
   ],
   "source": [
    "# Opens the file for append purpose\n",
    "with open('programming_reason.txt', 'a') as f:\n",
    "    print(\"Enter QUIT if you want to exit\")\n",
    "    while True:        \n",
    "        # Prompts user to input why they love programming\n",
    "        reason = input(\"Please tell us why do you love programming: \")\n",
    "        if reason.lower() == 'quit':\n",
    "            break\n",
    "        \n",
    "        f.write(f\"{reason}\\n\")\n",
    "\n",
    "print(\"\\nHere are a few reasons entered by the users\")\n",
    "with open('programming_reason.txt') as f:\n",
    "    contents = f.read()\n",
    "    print(contents)"
   ]
  },
  {
   "cell_type": "code",
   "execution_count": null,
   "id": "asian-union",
   "metadata": {},
   "outputs": [],
   "source": []
  }
 ],
 "metadata": {
  "kernelspec": {
   "display_name": "Python 3",
   "language": "python",
   "name": "python3"
  },
  "language_info": {
   "codemirror_mode": {
    "name": "ipython",
    "version": 3
   },
   "file_extension": ".py",
   "mimetype": "text/x-python",
   "name": "python",
   "nbconvert_exporter": "python",
   "pygments_lexer": "ipython3",
   "version": "3.9.1"
  }
 },
 "nbformat": 4,
 "nbformat_minor": 5
}
