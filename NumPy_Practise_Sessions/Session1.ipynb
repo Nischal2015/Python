{
  "nbformat": 4,
  "nbformat_minor": 5,
  "metadata": {
    "kernelspec": {
      "display_name": "Python 3",
      "language": "python",
      "name": "python3"
    },
    "language_info": {
      "codemirror_mode": {
        "name": "ipython",
        "version": 3
      },
      "file_extension": ".py",
      "mimetype": "text/x-python",
      "name": "python",
      "nbconvert_exporter": "python",
      "pygments_lexer": "ipython3",
      "version": "3.9.1"
    },
    "colab": {
      "name": "Session1.ipynb",
      "provenance": [],
      "include_colab_link": true
    }
  },
  "cells": [
    {
      "cell_type": "markdown",
      "metadata": {
        "id": "view-in-github",
        "colab_type": "text"
      },
      "source": [
        "<a href=\"https://colab.research.google.com/github/Nischal2015/Python/blob/main/NumPy_Practise_Sessions/Session1.ipynb\" target=\"_parent\"><img src=\"https://colab.research.google.com/assets/colab-badge.svg\" alt=\"Open In Colab\"/></a>"
      ]
    },
    {
      "cell_type": "markdown",
      "metadata": {
        "id": "vocational-subcommittee"
      },
      "source": [
        "# **Python NumPy**\n",
        "## **Session 1**<br><br> \n"
      ],
      "id": "vocational-subcommittee"
    },
    {
      "cell_type": "code",
      "metadata": {
        "id": "hispanic-protein"
      },
      "source": [
        "# Importing the numpy library\n",
        "import numpy as np"
      ],
      "id": "hispanic-protein",
      "execution_count": null,
      "outputs": []
    },
    {
      "cell_type": "markdown",
      "metadata": {
        "id": "likely-trustee"
      },
      "source": [
        "<br><br> \n",
        "## **2. How to create a NumPy array?**"
      ],
      "id": "likely-trustee"
    },
    {
      "cell_type": "markdown",
      "metadata": {
        "id": "proud-economics"
      },
      "source": [
        "This section contains various ways to create a numpy array as well as some of the operations that can be performed with numpy array."
      ],
      "id": "proud-economics"
    },
    {
      "cell_type": "code",
      "metadata": {
        "id": "vietnamese-handle",
        "outputId": "194a500f-bcd6-4701-8a48-fd7f589db625"
      },
      "source": [
        "# Create an 1d array from a list\n",
        "list1 = [0, 1, 2, 3, 4]\n",
        "arr1d = np.array(list1)\n",
        "\n",
        "# Print the array and its type\n",
        "print(type(arr1d))\n",
        "arr1d"
      ],
      "id": "vietnamese-handle",
      "execution_count": null,
      "outputs": [
        {
          "output_type": "stream",
          "text": [
            "<class 'numpy.ndarray'>\n"
          ],
          "name": "stdout"
        },
        {
          "output_type": "execute_result",
          "data": {
            "text/plain": [
              "array([0, 1, 2, 3, 4])"
            ]
          },
          "metadata": {
            "tags": []
          },
          "execution_count": 3
        }
      ]
    },
    {
      "cell_type": "code",
      "metadata": {
        "id": "registered-election",
        "outputId": "fc5841fc-c625-42f7-cc9b-783d1c6fdce3"
      },
      "source": [
        "# list1 + 2    # This results in an error\n",
        "\n",
        "# Add 2 to each element of arr1d\n",
        "# Addition like operation\n",
        "arr1d + 2"
      ],
      "id": "registered-election",
      "execution_count": null,
      "outputs": [
        {
          "output_type": "execute_result",
          "data": {
            "text/plain": [
              "array([2, 3, 4, 5, 6])"
            ]
          },
          "metadata": {
            "tags": []
          },
          "execution_count": 4
        }
      ]
    },
    {
      "cell_type": "code",
      "metadata": {
        "id": "addressed-blackjack",
        "outputId": "b742ac2d-e8a1-4b1e-ebe9-7772bb341d13"
      },
      "source": [
        "# Create a 2d array from a list of lists\n",
        "list2 = [[0, 1, 2], [3, 4, 5], [6, 7, 8]]\n",
        "arr2d = np.array(list2)\n",
        "arr2d"
      ],
      "id": "addressed-blackjack",
      "execution_count": null,
      "outputs": [
        {
          "output_type": "execute_result",
          "data": {
            "text/plain": [
              "array([[0, 1, 2],\n",
              "       [3, 4, 5],\n",
              "       [6, 7, 8]])"
            ]
          },
          "metadata": {
            "tags": []
          },
          "execution_count": 5
        }
      ]
    },
    {
      "cell_type": "code",
      "metadata": {
        "id": "roman-watson",
        "outputId": "2f5ce177-d520-48bb-bbc0-c38b5a54755c"
      },
      "source": [
        "# Create a float 2d array\n",
        "# Using only 'float' as dtype is deprecated\n",
        "arr2d_f = np.array(list2, dtype = float64)    # By default NumPy creates 64 bit float\n",
        "arr2d_f"
      ],
      "id": "roman-watson",
      "execution_count": null,
      "outputs": [
        {
          "output_type": "execute_result",
          "data": {
            "text/plain": [
              "array([[0., 1., 2.],\n",
              "       [3., 4., 5.],\n",
              "       [6., 7., 8.]])"
            ]
          },
          "metadata": {
            "tags": []
          },
          "execution_count": 6
        }
      ]
    },
    {
      "cell_type": "code",
      "metadata": {
        "id": "oriented-ceiling",
        "outputId": "59408e7d-593e-4ac0-b860-edd2e0209a51"
      },
      "source": [
        "# Convert to int data type\n",
        "arr2d_f.astype(int64)"
      ],
      "id": "oriented-ceiling",
      "execution_count": null,
      "outputs": [
        {
          "output_type": "execute_result",
          "data": {
            "text/plain": [
              "array([[0, 1, 2],\n",
              "       [3, 4, 5],\n",
              "       [6, 7, 8]])"
            ]
          },
          "metadata": {
            "tags": []
          },
          "execution_count": 7
        }
      ]
    },
    {
      "cell_type": "code",
      "metadata": {
        "id": "instant-geography",
        "outputId": "2c28c560-a795-40cc-dc45-ada7032a049e"
      },
      "source": [
        "# Convert to int then to string\n",
        "arr2d_f.astype(int).astype(str)"
      ],
      "id": "instant-geography",
      "execution_count": null,
      "outputs": [
        {
          "output_type": "execute_result",
          "data": {
            "text/plain": [
              "array([['0', '1', '2'],\n",
              "       ['3', '4', '5'],\n",
              "       ['6', '7', '8']], dtype='<U21')"
            ]
          },
          "metadata": {
            "tags": []
          },
          "execution_count": 8
        }
      ]
    },
    {
      "cell_type": "code",
      "metadata": {
        "id": "accepted-chemical",
        "outputId": "e97a9e1d-199b-485b-a1cc-1d91b8accad0"
      },
      "source": [
        "# Create a boolean array\n",
        "arr2d_b = np.array([1, 0, 12, 23], dtype = bool)\n",
        "arr2d_b"
      ],
      "id": "accepted-chemical",
      "execution_count": null,
      "outputs": [
        {
          "output_type": "execute_result",
          "data": {
            "text/plain": [
              "array([ True, False,  True,  True])"
            ]
          },
          "metadata": {
            "tags": []
          },
          "execution_count": 9
        }
      ]
    },
    {
      "cell_type": "code",
      "metadata": {
        "id": "indie-galaxy",
        "outputId": "4b90ce00-7d82-4e6e-e0f5-0cdc633fa958"
      },
      "source": [
        "# Create an object array to hold numbers as well as strings\n",
        "arr1d_obj = np.array([2, 'Nischal', 3.1415])\n",
        "arr1d_obj"
      ],
      "id": "indie-galaxy",
      "execution_count": null,
      "outputs": [
        {
          "output_type": "execute_result",
          "data": {
            "text/plain": [
              "array(['2', 'Nischal', '3.1415'], dtype='<U32')"
            ]
          },
          "metadata": {
            "tags": []
          },
          "execution_count": 10
        }
      ]
    },
    {
      "cell_type": "code",
      "metadata": {
        "id": "physical-report",
        "outputId": "a4db5e34-811a-4ed0-9b8c-a3357fe6823d"
      },
      "source": [
        "# Convert an array back to list\n",
        "arr1d_obj.tolist()"
      ],
      "id": "physical-report",
      "execution_count": null,
      "outputs": [
        {
          "output_type": "execute_result",
          "data": {
            "text/plain": [
              "['2', 'Nischal', '3.1415']"
            ]
          },
          "metadata": {
            "tags": []
          },
          "execution_count": 11
        }
      ]
    },
    {
      "cell_type": "markdown",
      "metadata": {
        "id": "unexpected-bahamas"
      },
      "source": [
        "<br><br>\n",
        "## **3. How to inspect the size and shape of a numpy array?**"
      ],
      "id": "unexpected-bahamas"
    },
    {
      "cell_type": "markdown",
      "metadata": {
        "id": "confirmed-claim"
      },
      "source": [
        "This section contains attributes that can be used with a numpy array namely *shape*, *dtype*, *size*, *ndim*, *itemsize*"
      ],
      "id": "confirmed-claim"
    },
    {
      "cell_type": "code",
      "metadata": {
        "id": "double-constitutional",
        "outputId": "7e909e8c-a493-4f46-c8c1-d08edd27a002"
      },
      "source": [
        "# Create a 2d array with 3 rows and 4 columns\n",
        "list2 = [[1, 2, 3, 4], [3, 4, 5, 6], [5, 6, 7, 8]]\n",
        "arr2 = np.array(list2, dtype = float)\n",
        "arr2"
      ],
      "id": "double-constitutional",
      "execution_count": null,
      "outputs": [
        {
          "output_type": "execute_result",
          "data": {
            "text/plain": [
              "array([[1., 2., 3., 4.],\n",
              "       [3., 4., 5., 6.],\n",
              "       [5., 6., 7., 8.]])"
            ]
          },
          "metadata": {
            "tags": []
          },
          "execution_count": 12
        }
      ]
    },
    {
      "cell_type": "code",
      "metadata": {
        "id": "ultimate-florist",
        "outputId": "b119d963-aa5a-43dc-ee48-e48146f274ea"
      },
      "source": [
        "# Uses of attributes associated with numpy array\n",
        "\n",
        "# shape\n",
        "print(\"Shape:\", arr2.shape)\n",
        "\n",
        "# dtype\n",
        "print(\"Datatype:\", arr2.dtype)\n",
        "\n",
        "# size\n",
        "print(\"Size:\", arr2.size)\n",
        "\n",
        "# ndim\n",
        "print(\"Num Dimensions:\", arr2.ndim)\n",
        "\n",
        "# itemsize\n",
        "print(\"Size of each item:\", arr2.itemsize)"
      ],
      "id": "ultimate-florist",
      "execution_count": null,
      "outputs": [
        {
          "output_type": "stream",
          "text": [
            "Shape: (3, 4)\n",
            "Datatype: float64\n",
            "Size: 12\n",
            "Num Dimensions: 2\n",
            "Size of each item: 8\n"
          ],
          "name": "stdout"
        }
      ]
    },
    {
      "cell_type": "markdown",
      "metadata": {
        "id": "dedicated-mailing"
      },
      "source": [
        "<br><br>\n",
        "## **4. How to extract specific items from an array?**"
      ],
      "id": "dedicated-mailing"
    },
    {
      "cell_type": "code",
      "metadata": {
        "id": "passing-aging",
        "outputId": "a4a3e5af-599e-40e8-b425-9aac64699a09"
      },
      "source": [
        "arr2"
      ],
      "id": "passing-aging",
      "execution_count": null,
      "outputs": [
        {
          "output_type": "execute_result",
          "data": {
            "text/plain": [
              "array([[1., 2., 3., 4.],\n",
              "       [3., 4., 5., 6.],\n",
              "       [5., 6., 7., 8.]])"
            ]
          },
          "metadata": {
            "tags": []
          },
          "execution_count": 14
        }
      ]
    },
    {
      "cell_type": "code",
      "metadata": {
        "id": "recreational-georgia",
        "outputId": "d9dc3bd3-49a0-4153-df3b-2958dd542b2d"
      },
      "source": [
        "# Extract the first 2 rows and columns\n",
        "arr2[:2, :2]    # Similar to what we do with Python list\n",
        "# list2[:2, :2]    # Creates error"
      ],
      "id": "recreational-georgia",
      "execution_count": null,
      "outputs": [
        {
          "output_type": "execute_result",
          "data": {
            "text/plain": [
              "array([[1., 2.],\n",
              "       [3., 4.]])"
            ]
          },
          "metadata": {
            "tags": []
          },
          "execution_count": 15
        }
      ]
    },
    {
      "cell_type": "markdown",
      "metadata": {
        "id": "entitled-robertson"
      },
      "source": [
        "# \n",
        "#### Super important to understand the difference between slicing and indexing. Below scripts contains just that."
      ],
      "id": "entitled-robertson"
    },
    {
      "cell_type": "code",
      "metadata": {
        "id": "infinite-string",
        "outputId": "21ad1f07-334e-4eed-b80c-b876e2381d33"
      },
      "source": [
        "print(arr2[2])\n",
        "print(arr2[2:3])"
      ],
      "id": "infinite-string",
      "execution_count": null,
      "outputs": [
        {
          "output_type": "stream",
          "text": [
            "[5. 6. 7. 8.]\n",
            "[[5. 6. 7. 8.]]\n"
          ],
          "name": "stdout"
        }
      ]
    },
    {
      "cell_type": "code",
      "metadata": {
        "id": "arabic-exclusive",
        "outputId": "02f4ae25-6ec8-48a8-f4a5-f8f508f53788"
      },
      "source": [
        "# The type may look same but the dimensions vary\n",
        "print(\"Indexing Type:\", type(arr2[2]), \"\\t\\tIndexing dimension:\", arr2[2].ndim)\n",
        "print(\"Indexing Type:\", type(arr2[2:3]), \"\\t\\tSlicing dimension:\", arr2[2:3].ndim)"
      ],
      "id": "arabic-exclusive",
      "execution_count": null,
      "outputs": [
        {
          "output_type": "stream",
          "text": [
            "Indexing Type: <class 'numpy.ndarray'> \t\tIndexing dimension: 1\n",
            "Indexing Type: <class 'numpy.ndarray'> \t\tSlicing dimension: 2\n"
          ],
          "name": "stdout"
        }
      ]
    },
    {
      "cell_type": "code",
      "metadata": {
        "id": "fabulous-glenn",
        "outputId": "3162e2cb-2a77-49b1-863c-c5af73db6d4a"
      },
      "source": [
        "# Becomes more clear with 1 dimensional arrays\n",
        "\n",
        "# Creates 1d array\n",
        "example_array1d = np.array([5, 9, 2, 6, 1, 6])\n",
        "print(\"Slicing:\", example_array1d[:1], \"\\t\\t\\tIndexing:\", example_array1d[0])\n",
        "print(\"Slicing dimension:\", example_array1d[:1].ndim, \"\\t\\tIndexing dimension:\", example_array1d[0].ndim)\n",
        "print(\"Slicing type:\", type(example_array1d[:1]), \"\\tIndexing type:\", type(example_array1d[0]))"
      ],
      "id": "fabulous-glenn",
      "execution_count": null,
      "outputs": [
        {
          "output_type": "stream",
          "text": [
            "Slicing: [5] \t\t\tIndexing: 5\n",
            "Slicing dimension: 1 \t\tIndexing dimension: 0\n",
            "Slicing type: <class 'numpy.ndarray'> \tIndexing type: <class 'numpy.int64'>\n"
          ],
          "name": "stdout"
        }
      ]
    },
    {
      "cell_type": "markdown",
      "metadata": {
        "id": "killing-relay"
      },
      "source": [
        "<br><br>"
      ],
      "id": "killing-relay"
    },
    {
      "cell_type": "code",
      "metadata": {
        "id": "controlling-programming",
        "outputId": "9a5e4b33-5b1b-4579-9319-fd9bf67f348e"
      },
      "source": [
        "# Get the boolean output by applying the condition to each element\n",
        "b = arr2 > 4\n",
        "b"
      ],
      "id": "controlling-programming",
      "execution_count": null,
      "outputs": [
        {
          "output_type": "execute_result",
          "data": {
            "text/plain": [
              "array([[False, False, False, False],\n",
              "       [False, False,  True,  True],\n",
              "       [ True,  True,  True,  True]])"
            ]
          },
          "metadata": {
            "tags": []
          },
          "execution_count": 19
        }
      ]
    },
    {
      "cell_type": "code",
      "metadata": {
        "id": "close-shoulder",
        "outputId": "ead8d4d8-b3b2-4d38-aa2d-886b7ca33681"
      },
      "source": [
        "# Extracts only the elements that are greater than 4\n",
        "arr2[b]"
      ],
      "id": "close-shoulder",
      "execution_count": null,
      "outputs": [
        {
          "output_type": "execute_result",
          "data": {
            "text/plain": [
              "array([5., 6., 5., 6., 7., 8.])"
            ]
          },
          "metadata": {
            "tags": []
          },
          "execution_count": 20
        }
      ]
    },
    {
      "cell_type": "markdown",
      "metadata": {
        "id": "accepting-liberia"
      },
      "source": [
        "# \n",
        "### **4.1 How to reverse the rows and the whole array?**"
      ],
      "id": "accepting-liberia"
    },
    {
      "cell_type": "code",
      "metadata": {
        "id": "designing-gospel",
        "outputId": "f614f972-9451-4608-dfbe-d2a73704e43d"
      },
      "source": [
        "# Reverse only the row position\n",
        "arr2[::-1, ]    # Can be written as arr2[::-1]"
      ],
      "id": "designing-gospel",
      "execution_count": null,
      "outputs": [
        {
          "output_type": "execute_result",
          "data": {
            "text/plain": [
              "array([[5., 6., 7., 8.],\n",
              "       [3., 4., 5., 6.],\n",
              "       [1., 2., 3., 4.]])"
            ]
          },
          "metadata": {
            "tags": []
          },
          "execution_count": 21
        }
      ]
    },
    {
      "cell_type": "code",
      "metadata": {
        "id": "joined-habitat",
        "outputId": "ebf8f49b-edb7-45e0-e6ba-7f91e6c03a78"
      },
      "source": [
        "# Reverse the row and column position\n",
        "arr2[::-1, ::-1]"
      ],
      "id": "joined-habitat",
      "execution_count": null,
      "outputs": [
        {
          "output_type": "execute_result",
          "data": {
            "text/plain": [
              "array([[8., 7., 6., 5.],\n",
              "       [6., 5., 4., 3.],\n",
              "       [4., 3., 2., 1.]])"
            ]
          },
          "metadata": {
            "tags": []
          },
          "execution_count": 22
        }
      ]
    },
    {
      "cell_type": "markdown",
      "metadata": {
        "id": "sonic-prince"
      },
      "source": [
        "# \n",
        "### **4.2 How to represent missing values and infinite?**"
      ],
      "id": "sonic-prince"
    },
    {
      "cell_type": "code",
      "metadata": {
        "id": "cognitive-oregon",
        "outputId": "49cd4804-6e0f-4610-c323-6092c53905fa"
      },
      "source": [
        "# Insert a nan and an inf\n",
        "arr2[1, 1] = np.nan    # not a number\n",
        "arr2[2, 2] = np.inf    # infinite\n",
        "arr2"
      ],
      "id": "cognitive-oregon",
      "execution_count": null,
      "outputs": [
        {
          "output_type": "execute_result",
          "data": {
            "text/plain": [
              "array([[ 1.,  2.,  3.,  4.],\n",
              "       [ 3., nan,  5.,  6.],\n",
              "       [ 5.,  6., inf,  8.]])"
            ]
          },
          "metadata": {
            "tags": []
          },
          "execution_count": 23
        }
      ]
    },
    {
      "cell_type": "code",
      "metadata": {
        "id": "assumed-colorado",
        "outputId": "2afa76e4-e7ab-4bc4-e4f1-16ee4b4997bc"
      },
      "source": [
        "# Replace nan and inf with -1. Don't use arr2 == np.nan\n",
        "missing_bool = np.isnan(arr2) | np.isinf(arr2)\n",
        "arr2[missing_bool] = -1\n",
        "arr2"
      ],
      "id": "assumed-colorado",
      "execution_count": null,
      "outputs": [
        {
          "output_type": "execute_result",
          "data": {
            "text/plain": [
              "array([[ 1.,  2.,  3.,  4.],\n",
              "       [ 3., -1.,  5.,  6.],\n",
              "       [ 5.,  6., -1.,  8.]])"
            ]
          },
          "metadata": {
            "tags": []
          },
          "execution_count": 24
        }
      ]
    },
    {
      "cell_type": "markdown",
      "metadata": {
        "id": "supreme-evolution"
      },
      "source": [
        "# \n",
        "### **4.3 How to compute mean, min, max on the ndarray?**"
      ],
      "id": "supreme-evolution"
    },
    {
      "cell_type": "code",
      "metadata": {
        "id": "blond-breast",
        "outputId": "ec797eec-e93d-4db8-d3a3-4d167c232ac6"
      },
      "source": [
        "# mean, max and min\n",
        "print(\"Mean value is:\", arr2.mean())\n",
        "print(\"Max value is:\", arr2.max())\n",
        "print(\"Min value is:\", arr2.min())"
      ],
      "id": "blond-breast",
      "execution_count": null,
      "outputs": [
        {
          "output_type": "stream",
          "text": [
            "Mean value is: 3.4166666666666665\n",
            "Max value is: 8.0\n",
            "Min value is: -1.0\n"
          ],
          "name": "stdout"
        }
      ]
    },
    {
      "cell_type": "code",
      "metadata": {
        "id": "czech-cooking",
        "outputId": "c3478e55-29c9-4b1a-cad9-045251f9ceef"
      },
      "source": [
        "np.amin(arr2, axis = 0)"
      ],
      "id": "czech-cooking",
      "execution_count": null,
      "outputs": [
        {
          "output_type": "execute_result",
          "data": {
            "text/plain": [
              "array([ 1., -1., -1.,  4.])"
            ]
          },
          "metadata": {
            "tags": []
          },
          "execution_count": 26
        }
      ]
    },
    {
      "cell_type": "code",
      "metadata": {
        "id": "hollywood-track",
        "outputId": "52c75f58-6b95-4679-ccd8-a02a1146f28f"
      },
      "source": [
        "# Row wise and column wise min\n",
        "print(\"Column wise minimum:\", np.amin(arr2, axis = 0))\n",
        "print(\"Row wise minimum:\", np.amin(arr2, axis = 1))"
      ],
      "id": "hollywood-track",
      "execution_count": null,
      "outputs": [
        {
          "output_type": "stream",
          "text": [
            "Column wise minimum: [ 1. -1. -1.  4.]\n",
            "Row wise minimum: [ 1. -1. -1.]\n"
          ],
          "name": "stdout"
        }
      ]
    },
    {
      "cell_type": "code",
      "metadata": {
        "id": "alternative-rings",
        "outputId": "de3ae0a2-4369-44c3-ab95-6987019f3176"
      },
      "source": [
        "# Cumulative Sum\n",
        "arr2.cumsum()"
      ],
      "id": "alternative-rings",
      "execution_count": null,
      "outputs": [
        {
          "output_type": "execute_result",
          "data": {
            "text/plain": [
              "array([ 1.,  3.,  6., 10., 13., 12., 17., 23., 28., 34., 33., 41.])"
            ]
          },
          "metadata": {
            "tags": []
          },
          "execution_count": 28
        }
      ]
    },
    {
      "cell_type": "markdown",
      "metadata": {
        "id": "damaged-grove"
      },
      "source": [
        "<br><br>\n",
        "## **Just a self practise of** *apply_over_axes()*\n",
        "#### A little difficult to get your head around in the first go. Some knowledge of matrix might be really helpful."
      ],
      "id": "damaged-grove"
    },
    {
      "cell_type": "code",
      "metadata": {
        "id": "cutting-pierre",
        "outputId": "6df53a89-a8e2-4b61-ba06-3e7f58408d39"
      },
      "source": [
        "a = np.arange(24).reshape(2,3,4)\n",
        "a"
      ],
      "id": "cutting-pierre",
      "execution_count": null,
      "outputs": [
        {
          "output_type": "execute_result",
          "data": {
            "text/plain": [
              "array([[[ 0,  1,  2,  3],\n",
              "        [ 4,  5,  6,  7],\n",
              "        [ 8,  9, 10, 11]],\n",
              "\n",
              "       [[12, 13, 14, 15],\n",
              "        [16, 17, 18, 19],\n",
              "        [20, 21, 22, 23]]])"
            ]
          },
          "metadata": {
            "tags": []
          },
          "execution_count": 29
        }
      ]
    },
    {
      "cell_type": "code",
      "metadata": {
        "id": "smart-glasgow",
        "outputId": "19f0229d-47da-4ceb-cc80-9a69402b67c4"
      },
      "source": [
        "a.shape"
      ],
      "id": "smart-glasgow",
      "execution_count": null,
      "outputs": [
        {
          "output_type": "execute_result",
          "data": {
            "text/plain": [
              "(2, 3, 4)"
            ]
          },
          "metadata": {
            "tags": []
          },
          "execution_count": 30
        }
      ]
    },
    {
      "cell_type": "code",
      "metadata": {
        "id": "common-treat",
        "outputId": "86889171-1014-4f87-98a8-ebde0cc6b7ff"
      },
      "source": [
        "np.apply_over_axes(np.sum, a, [0,2])"
      ],
      "id": "common-treat",
      "execution_count": null,
      "outputs": [
        {
          "output_type": "execute_result",
          "data": {
            "text/plain": [
              "array([[[ 60],\n",
              "        [ 92],\n",
              "        [124]]])"
            ]
          },
          "metadata": {
            "tags": []
          },
          "execution_count": 31
        }
      ]
    },
    {
      "cell_type": "markdown",
      "metadata": {
        "id": "educated-recognition"
      },
      "source": [
        "<br><br>\n",
        "## **5. How to create a new array from an existing array?**"
      ],
      "id": "educated-recognition"
    },
    {
      "cell_type": "markdown",
      "metadata": {
        "id": "alien-tours"
      },
      "source": [
        "*If you just assign a portion of an array to another array, the new array you just created refers to the parent array in memory.*<br>\n",
        "*That means, if you make any changes to the new array, it will reflect in the parent array as well.*</br>"
      ],
      "id": "alien-tours"
    },
    {
      "cell_type": "code",
      "metadata": {
        "id": "decimal-practice",
        "outputId": "616013c9-b969-492f-ea27-3285bc653cdf"
      },
      "source": [
        "# Assign portion of arr2 to arr2a. Doesn't really create a new array.\n",
        "arr2a = arr2[:2, :2]\n",
        "arr2a[:1, :1] = 10    # 100 will reflect in arr2\n",
        "arr2"
      ],
      "id": "decimal-practice",
      "execution_count": null,
      "outputs": [
        {
          "output_type": "execute_result",
          "data": {
            "text/plain": [
              "array([[10.,  2.,  3.,  4.],\n",
              "       [ 3., -1.,  5.,  6.],\n",
              "       [ 5.,  6., -1.,  8.]])"
            ]
          },
          "metadata": {
            "tags": []
          },
          "execution_count": 32
        }
      ]
    },
    {
      "cell_type": "code",
      "metadata": {
        "id": "central-invite",
        "outputId": "0aeb8acb-3ce0-4e41-ba1f-68e85116e53d"
      },
      "source": [
        "# Copy a portion of arr2 to arr2b\n",
        "arr2b = arr2[:2, :2].copy()\n",
        "arr2b[:1, :1] = 126\n",
        "arr2"
      ],
      "id": "central-invite",
      "execution_count": null,
      "outputs": [
        {
          "output_type": "execute_result",
          "data": {
            "text/plain": [
              "array([[10.,  2.,  3.,  4.],\n",
              "       [ 3., -1.,  5.,  6.],\n",
              "       [ 5.,  6., -1.,  8.]])"
            ]
          },
          "metadata": {
            "tags": []
          },
          "execution_count": 33
        }
      ]
    },
    {
      "cell_type": "markdown",
      "metadata": {
        "id": "recreational-census"
      },
      "source": [
        "<br><br>\n",
        "## **6. Reshaping and Flattening Multidimensional arrays**"
      ],
      "id": "recreational-census"
    },
    {
      "cell_type": "code",
      "metadata": {
        "id": "center-milwaukee",
        "outputId": "d27df66c-6d09-42ed-df50-b2c88f2ed106"
      },
      "source": [
        "# Reshape a 3X4 array to 4X3 array\n",
        "arr2.reshape(4, 3)"
      ],
      "id": "center-milwaukee",
      "execution_count": null,
      "outputs": [
        {
          "output_type": "execute_result",
          "data": {
            "text/plain": [
              "array([[10.,  2.,  3.],\n",
              "       [ 4.,  3., -1.],\n",
              "       [ 5.,  6.,  5.],\n",
              "       [ 6., -1.,  8.]])"
            ]
          },
          "metadata": {
            "tags": []
          },
          "execution_count": 34
        }
      ]
    },
    {
      "cell_type": "markdown",
      "metadata": {
        "id": "cultural-stewart"
      },
      "source": [
        "<br> \n",
        "### **6.1 What is the difference between flatten() and ravel()?**"
      ],
      "id": "cultural-stewart"
    },
    {
      "cell_type": "code",
      "metadata": {
        "id": "large-combination",
        "outputId": "9cde847b-5fe3-43e9-fde6-efb577fff240"
      },
      "source": [
        "# Flatten it to a 1d array\n",
        "arr2.flatten()"
      ],
      "id": "large-combination",
      "execution_count": null,
      "outputs": [
        {
          "output_type": "execute_result",
          "data": {
            "text/plain": [
              "array([10.,  2.,  3.,  4.,  3., -1.,  5.,  6.,  5.,  6., -1.,  8.])"
            ]
          },
          "metadata": {
            "tags": []
          },
          "execution_count": 35
        }
      ]
    },
    {
      "cell_type": "code",
      "metadata": {
        "id": "suited-method",
        "outputId": "0ee84992-def9-4dbd-855a-6da140fb63ae"
      },
      "source": [
        "# Changing the flattened array does not change parent\n",
        "b1 = arr2.flatten()\n",
        "b1[0] = 85\n",
        "arr2"
      ],
      "id": "suited-method",
      "execution_count": null,
      "outputs": [
        {
          "output_type": "execute_result",
          "data": {
            "text/plain": [
              "array([[10.,  2.,  3.,  4.],\n",
              "       [ 3., -1.,  5.,  6.],\n",
              "       [ 5.,  6., -1.,  8.]])"
            ]
          },
          "metadata": {
            "tags": []
          },
          "execution_count": 36
        }
      ]
    },
    {
      "cell_type": "code",
      "metadata": {
        "id": "characteristic-volleyball",
        "outputId": "93c4b7f3-f00e-416f-b9d7-954e368470a8"
      },
      "source": [
        "# Changing the raveled array changes the parent also.\n",
        "b2 = arr2.ravel()\n",
        "b2[0] = 85\n",
        "arr2"
      ],
      "id": "characteristic-volleyball",
      "execution_count": null,
      "outputs": [
        {
          "output_type": "execute_result",
          "data": {
            "text/plain": [
              "array([[85.,  2.,  3.,  4.],\n",
              "       [ 3., -1.,  5.,  6.],\n",
              "       [ 5.,  6., -1.,  8.]])"
            ]
          },
          "metadata": {
            "tags": []
          },
          "execution_count": 37
        }
      ]
    },
    {
      "cell_type": "markdown",
      "metadata": {
        "id": "adapted-french"
      },
      "source": [
        "<br><br> \n",
        "## **7. How to create sequences, repetitions and random numbers using numpy?**"
      ],
      "id": "adapted-french"
    },
    {
      "cell_type": "code",
      "metadata": {
        "id": "competitive-reminder",
        "outputId": "f64bb93d-cd1b-43c8-f205-6abfb348c13f"
      },
      "source": [
        "# Lower limit is 0 to be default\n",
        "print(np.arange(10))\n",
        "\n",
        "# 0 to 15\n",
        "print(np.arange(0, 15))\n",
        "\n",
        "# 0 to 9 with step of 2\n",
        "print(np.arange(0, 9, 2))\n",
        "\n",
        "# 10 to 1, decreasing order\n",
        "print(np.arange(10, 0, -1))"
      ],
      "id": "competitive-reminder",
      "execution_count": null,
      "outputs": [
        {
          "output_type": "stream",
          "text": [
            "[0 1 2 3 4 5 6 7 8 9]\n",
            "[ 0  1  2  3  4  5  6  7  8  9 10 11 12 13 14]\n",
            "[0 2 4 6 8]\n",
            "[10  9  8  7  6  5  4  3  2  1]\n"
          ],
          "name": "stdout"
        }
      ]
    },
    {
      "cell_type": "code",
      "metadata": {
        "id": "consecutive-korean",
        "outputId": "bebea5f3-6ddc-4633-830c-a5d60a034f76"
      },
      "source": [
        "# Create a numpy array with custom number of items between start and end\n",
        "\n",
        "# Start with 1 and end at 50\n",
        "np.linspace(start = 1, stop = 50, num = 10, dtype = int)   # Creates 64 bit int by default"
      ],
      "id": "consecutive-korean",
      "execution_count": null,
      "outputs": [
        {
          "output_type": "execute_result",
          "data": {
            "text/plain": [
              "array([ 1,  6, 11, 17, 22, 28, 33, 39, 44, 50])"
            ]
          },
          "metadata": {
            "tags": []
          },
          "execution_count": 39
        }
      ]
    },
    {
      "cell_type": "code",
      "metadata": {
        "id": "collect-tunnel",
        "outputId": "e6329ef1-9774-4fb8-8a5d-30448f1c88f4"
      },
      "source": [
        "# Limit the number of digits after decimal to 2\n",
        "np.set_printoptions(precision = 2)\n",
        "\n",
        "# Start at 10^1 and end at 10^50\n",
        "np.logspace(start = 1, stop = 50, num = 10, base = 10)"
      ],
      "id": "collect-tunnel",
      "execution_count": null,
      "outputs": [
        {
          "output_type": "execute_result",
          "data": {
            "text/plain": [
              "array([1.00e+01, 2.78e+06, 7.74e+11, 2.15e+17, 5.99e+22, 1.67e+28,\n",
              "       4.64e+33, 1.29e+39, 3.59e+44, 1.00e+50])"
            ]
          },
          "metadata": {
            "tags": []
          },
          "execution_count": 40
        }
      ]
    },
    {
      "cell_type": "code",
      "metadata": {
        "id": "biological-national",
        "outputId": "faf86045-942f-415e-c67e-873b6e2058bb"
      },
      "source": [
        "# Creates multidimensional array containing all zeros\n",
        "np.zeros([2, 2])"
      ],
      "id": "biological-national",
      "execution_count": null,
      "outputs": [
        {
          "output_type": "execute_result",
          "data": {
            "text/plain": [
              "array([[0., 0.],\n",
              "       [0., 0.]])"
            ]
          },
          "metadata": {
            "tags": []
          },
          "execution_count": 41
        }
      ]
    },
    {
      "cell_type": "code",
      "metadata": {
        "id": "precise-saying",
        "outputId": "854d650c-2df4-4baa-89bb-db49e28aec87"
      },
      "source": [
        "# Create multidimensional array containing all ones\n",
        "np.ones([5, 2])"
      ],
      "id": "precise-saying",
      "execution_count": null,
      "outputs": [
        {
          "output_type": "execute_result",
          "data": {
            "text/plain": [
              "array([[1., 1.],\n",
              "       [1., 1.],\n",
              "       [1., 1.],\n",
              "       [1., 1.],\n",
              "       [1., 1.]])"
            ]
          },
          "metadata": {
            "tags": []
          },
          "execution_count": 42
        }
      ]
    },
    {
      "cell_type": "markdown",
      "metadata": {
        "id": "incorporated-exhibit"
      },
      "source": [
        "# \n",
        "### **7.1 How to create repeating sequences?**"
      ],
      "id": "incorporated-exhibit"
    },
    {
      "cell_type": "code",
      "metadata": {
        "id": "cosmetic-kitchen",
        "outputId": "fd61edd9-e653-4f6d-ffa7-395bd848c6cb"
      },
      "source": [
        "a = [1, 2, 3]\n",
        "\n",
        "# Repeat whole of 'a' two times\n",
        "print('Tile:', np.tile(a, 2))\n",
        "\n",
        "# Repeat each element of 'a' two times\n",
        "print('Repeat:', np.repeat(a, 2)) "
      ],
      "id": "cosmetic-kitchen",
      "execution_count": null,
      "outputs": [
        {
          "output_type": "stream",
          "text": [
            "Tile: [1 2 3 1 2 3]\n",
            "Repeat: [1 1 2 2 3 3]\n"
          ],
          "name": "stdout"
        }
      ]
    },
    {
      "cell_type": "markdown",
      "metadata": {
        "id": "welsh-seafood"
      },
      "source": [
        "<br><br> \n",
        "#### **Doing a little more with tile() method. Some knowledge of matrices and ndarray attributes in general will be a very useful aid.**\n",
        "*Refer to the documentation of tile() method for more help.*"
      ],
      "id": "welsh-seafood"
    },
    {
      "cell_type": "code",
      "metadata": {
        "id": "wrong-friday",
        "outputId": "c3c49fd8-1985-49d3-8d74-ad08a1095fba"
      },
      "source": [
        "b = np.array([[1, 2], [3, 4]])\n",
        "b"
      ],
      "id": "wrong-friday",
      "execution_count": null,
      "outputs": [
        {
          "output_type": "execute_result",
          "data": {
            "text/plain": [
              "array([[1, 2],\n",
              "       [3, 4]])"
            ]
          },
          "metadata": {
            "tags": []
          },
          "execution_count": 53
        }
      ]
    },
    {
      "cell_type": "code",
      "metadata": {
        "id": "superb-audience",
        "outputId": "98c735c9-aaf9-4166-8401-88be9e90aa4d"
      },
      "source": [
        "np.tile(b, (2, 2))"
      ],
      "id": "superb-audience",
      "execution_count": null,
      "outputs": [
        {
          "output_type": "execute_result",
          "data": {
            "text/plain": [
              "array([[1, 2, 1, 2],\n",
              "       [3, 4, 3, 4],\n",
              "       [1, 2, 1, 2],\n",
              "       [3, 4, 3, 4]])"
            ]
          },
          "metadata": {
            "tags": []
          },
          "execution_count": 45
        }
      ]
    },
    {
      "cell_type": "code",
      "metadata": {
        "id": "public-episode",
        "outputId": "4c650a94-91ba-4845-8a4c-cf09d40c3239"
      },
      "source": [
        "a = np.array([0, 1, 2])\n",
        "a"
      ],
      "id": "public-episode",
      "execution_count": null,
      "outputs": [
        {
          "output_type": "execute_result",
          "data": {
            "text/plain": [
              "array([0, 1, 2])"
            ]
          },
          "metadata": {
            "tags": []
          },
          "execution_count": 46
        }
      ]
    },
    {
      "cell_type": "code",
      "metadata": {
        "id": "hungarian-passport",
        "outputId": "33966910-61bb-425c-857f-b2cc48859be2"
      },
      "source": [
        "np.tile(a, (2, 1))"
      ],
      "id": "hungarian-passport",
      "execution_count": null,
      "outputs": [
        {
          "output_type": "execute_result",
          "data": {
            "text/plain": [
              "array([[0, 1, 2],\n",
              "       [0, 1, 2]])"
            ]
          },
          "metadata": {
            "tags": []
          },
          "execution_count": 47
        }
      ]
    },
    {
      "cell_type": "markdown",
      "metadata": {
        "id": "meaning-grass"
      },
      "source": [
        "<br><br> \n",
        "### **7.2 How to generate random numbers?**"
      ],
      "id": "meaning-grass"
    },
    {
      "cell_type": "code",
      "metadata": {
        "id": "recognized-trail",
        "outputId": "901b9621-6efd-497a-b910-621ebcae2e82"
      },
      "source": [
        "# Random numbers between [0, 1) of shape 2, 2\n",
        "print(np.random.rand(2, 2))\n",
        "\n",
        "# Normal distribution with mean = 0 and variance = 1 of shape 2, 2\n",
        "print(np.random.randn(2, 2))\n",
        "\n",
        "# Random integers between [0, 10) of shape 2, 2\n",
        "print(np.random.randint(0, 10, size = [2, 2]))\n",
        "\n",
        "# One random number between [0, 1)\n",
        "print(np.random.random())\n",
        "\n",
        "# Random number between [0, 1) of shape 2, 2\n",
        "print(np.random.random(size = [2, 2]))\n",
        "\n",
        "# Pick 10 items from a given list with equal probability\n",
        "print(np.random.choice(['a', 'e', 'i', 'o', 'u'], size = 10))\n",
        "\n",
        "# Pick 10 items from a given list with a predefined probability\n",
        "print(np.random.choice(['a', 'e', 'i', 'o', 'u'], size = 10, p = [0.3, 0.2, 0.1, 0.2, 0.2]))\n"
      ],
      "id": "recognized-trail",
      "execution_count": null,
      "outputs": [
        {
          "output_type": "stream",
          "text": [
            "[[0.45 0.16]\n",
            " [0.01 0.17]]\n",
            "[[-0.51 -0.78]\n",
            " [ 0.45  0.08]]\n",
            "[[1 6]\n",
            " [2 8]]\n",
            "0.5697297032519851\n",
            "[[0.74 0.26]\n",
            " [0.49 0.18]]\n",
            "['o' 'u' 'e' 'a' 'a' 'u' 'i' 'u' 'i' 'u']\n",
            "['u' 'o' 'i' 'a' 'u' 'o' 'i' 'a' 'i' 'o']\n"
          ],
          "name": "stdout"
        }
      ]
    },
    {
      "cell_type": "code",
      "metadata": {
        "id": "measured-glory",
        "outputId": "182b3a74-5f01-4d1a-e507-22b6bc48f15c"
      },
      "source": [
        "# Create the random state\n",
        "rn = np.random.RandomState(100)\n",
        "\n",
        "# Create random numbers between [0, 1) of shape 2, 2\n",
        "print(rn.rand(2, 2))"
      ],
      "id": "measured-glory",
      "execution_count": null,
      "outputs": [
        {
          "output_type": "stream",
          "text": [
            "[[0.54 0.28]\n",
            " [0.42 0.84]]\n"
          ],
          "name": "stdout"
        }
      ]
    },
    {
      "cell_type": "code",
      "metadata": {
        "id": "elder-rental",
        "outputId": "82f19322-6440-4904-f1ac-7ac3891f0cad"
      },
      "source": [
        "# Set the random seed\n",
        "np.random.seed(100)\n",
        "\n",
        "# Create random numbers between [0, 1) of shape 2, 2\n",
        "print(np.random.rand(2, 2))"
      ],
      "id": "elder-rental",
      "execution_count": null,
      "outputs": [
        {
          "output_type": "stream",
          "text": [
            "[[0.54 0.28]\n",
            " [0.42 0.84]]\n"
          ],
          "name": "stdout"
        }
      ]
    },
    {
      "cell_type": "markdown",
      "metadata": {
        "id": "endless-rolling"
      },
      "source": [
        "# \n",
        "### **7.3 How to get the unique items and the counts?**"
      ],
      "id": "endless-rolling"
    },
    {
      "cell_type": "code",
      "metadata": {
        "id": "external-policy",
        "outputId": "20ea85ff-92e8-41bb-9c54-53e9bceaac83"
      },
      "source": [
        "# Create random integers of size 10 between [0, 10)\n",
        "np.random.seed(100)\n",
        "arr_rand = np.random.randint(0, 10, size = 10)\n",
        "print(arr_rand)"
      ],
      "id": "external-policy",
      "execution_count": null,
      "outputs": [
        {
          "output_type": "stream",
          "text": [
            "[8 8 3 7 7 0 4 2 5 2]\n"
          ],
          "name": "stdout"
        }
      ]
    },
    {
      "cell_type": "code",
      "metadata": {
        "id": "dense-ukraine",
        "outputId": "beb16fdd-2d23-4592-b9d2-9feae2a12839"
      },
      "source": [
        "# Get the unique items and their counts\n",
        "uniq, counts = np.unique(arr_rand, return_counts = True)\n",
        "print('Unique items : ', uniq)\n",
        "print('Counts       : ', counts)"
      ],
      "id": "dense-ukraine",
      "execution_count": null,
      "outputs": [
        {
          "output_type": "stream",
          "text": [
            "Unique items :  [0 2 3 4 5 7 8]\n",
            "Counts       :  [1 2 1 1 1 2 2]\n"
          ],
          "name": "stdout"
        }
      ]
    }
  ]
}