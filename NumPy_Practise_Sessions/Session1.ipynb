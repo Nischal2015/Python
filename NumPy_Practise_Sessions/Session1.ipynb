{
 "cells": [
  {
   "cell_type": "markdown",
   "id": "vocational-subcommittee",
   "metadata": {},
   "source": [
    "# **Python NumPy**\n",
    "## **Session 1**"
   ]
  },
  {
   "cell_type": "code",
   "execution_count": 2,
   "id": "hispanic-protein",
   "metadata": {},
   "outputs": [],
   "source": [
    "<br><br> \n",
    "# Importing the numpy library\n",
    "import numpy as np"
   ]
  },
  {
   "cell_type": "markdown",
   "id": "likely-trustee",
   "metadata": {},
   "source": [
    "<br><br> \n",
    "## **2. How to create a NumPy array?**"
   ]
  },
  {
   "cell_type": "markdown",
   "id": "proud-economics",
   "metadata": {},
   "source": [
    "This section contains various ways to create a numpy array as well as some of the operations that can be performed with numpy array."
   ]
  },
  {
   "cell_type": "code",
   "execution_count": 3,
   "id": "vietnamese-handle",
   "metadata": {},
   "outputs": [
    {
     "name": "stdout",
     "output_type": "stream",
     "text": [
      "<class 'numpy.ndarray'>\n"
     ]
    },
    {
     "data": {
      "text/plain": [
       "array([0, 1, 2, 3, 4])"
      ]
     },
     "execution_count": 3,
     "metadata": {},
     "output_type": "execute_result"
    }
   ],
   "source": [
    "# Create an 1d array from a list\n",
    "list1 = [0, 1, 2, 3, 4]\n",
    "arr1d = np.array(list1)\n",
    "\n",
    "# Print the array and its type\n",
    "print(type(arr1d))\n",
    "arr1d"
   ]
  },
  {
   "cell_type": "code",
   "execution_count": 4,
   "id": "registered-election",
   "metadata": {},
   "outputs": [
    {
     "data": {
      "text/plain": [
       "array([2, 3, 4, 5, 6])"
      ]
     },
     "execution_count": 4,
     "metadata": {},
     "output_type": "execute_result"
    }
   ],
   "source": [
    "# list1 + 2    # This results in an error\n",
    "\n",
    "# Add 2 to each element of arr1d\n",
    "# Addition like operation\n",
    "arr1d + 2"
   ]
  },
  {
   "cell_type": "code",
   "execution_count": 5,
   "id": "addressed-blackjack",
   "metadata": {},
   "outputs": [
    {
     "data": {
      "text/plain": [
       "array([[0, 1, 2],\n",
       "       [3, 4, 5],\n",
       "       [6, 7, 8]])"
      ]
     },
     "execution_count": 5,
     "metadata": {},
     "output_type": "execute_result"
    }
   ],
   "source": [
    "# Create a 2d array from a list of lists\n",
    "list2 = [[0, 1, 2], [3, 4, 5], [6, 7, 8]]\n",
    "arr2d = np.array(list2)\n",
    "arr2d"
   ]
  },
  {
   "cell_type": "code",
   "execution_count": 6,
   "id": "roman-watson",
   "metadata": {},
   "outputs": [
    {
     "data": {
      "text/plain": [
       "array([[0., 1., 2.],\n",
       "       [3., 4., 5.],\n",
       "       [6., 7., 8.]])"
      ]
     },
     "execution_count": 6,
     "metadata": {},
     "output_type": "execute_result"
    }
   ],
   "source": [
    "# Create a float 2d array\n",
    "arr2d_f = np.array(list2, dtype = float)    # By default NumPy creates 64 bit float\n",
    "arr2d_f"
   ]
  },
  {
   "cell_type": "code",
   "execution_count": 7,
   "id": "oriented-ceiling",
   "metadata": {},
   "outputs": [
    {
     "data": {
      "text/plain": [
       "array([[0, 1, 2],\n",
       "       [3, 4, 5],\n",
       "       [6, 7, 8]])"
      ]
     },
     "execution_count": 7,
     "metadata": {},
     "output_type": "execute_result"
    }
   ],
   "source": [
    "# Convert to int data type\n",
    "arr2d_f.astype(int)"
   ]
  },
  {
   "cell_type": "code",
   "execution_count": 8,
   "id": "instant-geography",
   "metadata": {},
   "outputs": [
    {
     "data": {
      "text/plain": [
       "array([['0', '1', '2'],\n",
       "       ['3', '4', '5'],\n",
       "       ['6', '7', '8']], dtype='<U21')"
      ]
     },
     "execution_count": 8,
     "metadata": {},
     "output_type": "execute_result"
    }
   ],
   "source": [
    "# Convert to int then to string\n",
    "arr2d_f.astype(int).astype(str)"
   ]
  },
  {
   "cell_type": "code",
   "execution_count": 9,
   "id": "accepted-chemical",
   "metadata": {},
   "outputs": [
    {
     "data": {
      "text/plain": [
       "array([ True, False,  True,  True])"
      ]
     },
     "execution_count": 9,
     "metadata": {},
     "output_type": "execute_result"
    }
   ],
   "source": [
    "# Create a boolean array\n",
    "arr2d_b = np.array([1, 0, 12, 23], dtype = bool)\n",
    "arr2d_b"
   ]
  },
  {
   "cell_type": "code",
   "execution_count": 10,
   "id": "indie-galaxy",
   "metadata": {},
   "outputs": [
    {
     "data": {
      "text/plain": [
       "array(['2', 'Nischal', '3.1415'], dtype='<U32')"
      ]
     },
     "execution_count": 10,
     "metadata": {},
     "output_type": "execute_result"
    }
   ],
   "source": [
    "# Create an object array to hold numbers as well as strings\n",
    "arr1d_obj = np.array([2, 'Nischal', 3.1415])\n",
    "arr1d_obj"
   ]
  },
  {
   "cell_type": "code",
   "execution_count": 11,
   "id": "physical-report",
   "metadata": {},
   "outputs": [
    {
     "data": {
      "text/plain": [
       "['2', 'Nischal', '3.1415']"
      ]
     },
     "execution_count": 11,
     "metadata": {},
     "output_type": "execute_result"
    }
   ],
   "source": [
    "# Convert an array back to list\n",
    "arr1d_obj.tolist()"
   ]
  },
  {
   "cell_type": "markdown",
   "id": "unexpected-bahamas",
   "metadata": {},
   "source": [
    "<br><br>\n",
    "## **3. How to inspect the size and shape of a numpy array?**"
   ]
  },
  {
   "cell_type": "markdown",
   "id": "confirmed-claim",
   "metadata": {},
   "source": [
    "This section contains attributes that can be used with a numpy array namely *shape*, *dtype*, *size*, *ndim*, *itemsize*"
   ]
  },
  {
   "cell_type": "code",
   "execution_count": 12,
   "id": "double-constitutional",
   "metadata": {},
   "outputs": [
    {
     "data": {
      "text/plain": [
       "array([[1., 2., 3., 4.],\n",
       "       [3., 4., 5., 6.],\n",
       "       [5., 6., 7., 8.]])"
      ]
     },
     "execution_count": 12,
     "metadata": {},
     "output_type": "execute_result"
    }
   ],
   "source": [
    "# Create a 2d array with 3 rows and 4 columns\n",
    "list2 = [[1, 2, 3, 4], [3, 4, 5, 6], [5, 6, 7, 8]]\n",
    "arr2 = np.array(list2, dtype = float)\n",
    "arr2"
   ]
  },
  {
   "cell_type": "code",
   "execution_count": 13,
   "id": "ultimate-florist",
   "metadata": {},
   "outputs": [
    {
     "name": "stdout",
     "output_type": "stream",
     "text": [
      "Shape: (3, 4)\n",
      "Datatype: float64\n",
      "Size: 12\n",
      "Num Dimensions: 2\n",
      "Size of each item: 8\n"
     ]
    }
   ],
   "source": [
    "# Uses of attributes associated with numpy array\n",
    "\n",
    "# shape\n",
    "print(\"Shape:\", arr2.shape)\n",
    "\n",
    "# dtype\n",
    "print(\"Datatype:\", arr2.dtype)\n",
    "\n",
    "# size\n",
    "print(\"Size:\", arr2.size)\n",
    "\n",
    "# ndim\n",
    "print(\"Num Dimensions:\", arr2.ndim)\n",
    "\n",
    "# itemsize\n",
    "print(\"Size of each item:\", arr2.itemsize)"
   ]
  },
  {
   "cell_type": "markdown",
   "id": "dedicated-mailing",
   "metadata": {},
   "source": [
    "<br><br>\n",
    "## **4. How to extract specific items from an array?**"
   ]
  },
  {
   "cell_type": "code",
   "execution_count": 14,
   "id": "passing-aging",
   "metadata": {},
   "outputs": [
    {
     "data": {
      "text/plain": [
       "array([[1., 2., 3., 4.],\n",
       "       [3., 4., 5., 6.],\n",
       "       [5., 6., 7., 8.]])"
      ]
     },
     "execution_count": 14,
     "metadata": {},
     "output_type": "execute_result"
    }
   ],
   "source": [
    "arr2"
   ]
  },
  {
   "cell_type": "code",
   "execution_count": 15,
   "id": "recreational-georgia",
   "metadata": {},
   "outputs": [
    {
     "data": {
      "text/plain": [
       "array([[1., 2.],\n",
       "       [3., 4.]])"
      ]
     },
     "execution_count": 15,
     "metadata": {},
     "output_type": "execute_result"
    }
   ],
   "source": [
    "# Extract the first 2 rows and columns\n",
    "arr2[:2, :2]    # Similar to what we do with Python list\n",
    "# list2[:2, :2]    # Creates error"
   ]
  },
  {
   "cell_type": "markdown",
   "id": "entitled-robertson",
   "metadata": {},
   "source": [
    "# \n",
    "#### Super important to understand the difference between slicing and indexing. Below scripts contains just that."
   ]
  },
  {
   "cell_type": "code",
   "execution_count": 16,
   "id": "infinite-string",
   "metadata": {},
   "outputs": [
    {
     "name": "stdout",
     "output_type": "stream",
     "text": [
      "[5. 6. 7. 8.]\n",
      "[[5. 6. 7. 8.]]\n"
     ]
    }
   ],
   "source": [
    "print(arr2[2])\n",
    "print(arr2[2:3])"
   ]
  },
  {
   "cell_type": "code",
   "execution_count": 17,
   "id": "arabic-exclusive",
   "metadata": {},
   "outputs": [
    {
     "name": "stdout",
     "output_type": "stream",
     "text": [
      "Indexing Type: <class 'numpy.ndarray'> \t\tIndexing dimension: 1\n",
      "Indexing Type: <class 'numpy.ndarray'> \t\tSlicing dimension: 2\n"
     ]
    }
   ],
   "source": [
    "# The type may look same but the dimensions vary\n",
    "print(\"Indexing Type:\", type(arr2[2]), \"\\t\\tIndexing dimension:\", arr2[2].ndim)\n",
    "print(\"Indexing Type:\", type(arr2[2:3]), \"\\t\\tSlicing dimension:\", arr2[2:3].ndim)"
   ]
  },
  {
   "cell_type": "code",
   "execution_count": 18,
   "id": "fabulous-glenn",
   "metadata": {},
   "outputs": [
    {
     "name": "stdout",
     "output_type": "stream",
     "text": [
      "Slicing: [5] \t\t\tIndexing: 5\n",
      "Slicing dimension: 1 \t\tIndexing dimension: 0\n",
      "Slicing type: <class 'numpy.ndarray'> \tIndexing type: <class 'numpy.int64'>\n"
     ]
    }
   ],
   "source": [
    "# Becomes more clear with 1 dimensional arrays\n",
    "\n",
    "# Creates 1d array\n",
    "example_array1d = np.array([5, 9, 2, 6, 1, 6])\n",
    "print(\"Slicing:\", example_array1d[:1], \"\\t\\t\\tIndexing:\", example_array1d[0])\n",
    "print(\"Slicing dimension:\", example_array1d[:1].ndim, \"\\t\\tIndexing dimension:\", example_array1d[0].ndim)\n",
    "print(\"Slicing type:\", type(example_array1d[:1]), \"\\tIndexing type:\", type(example_array1d[0]))"
   ]
  },
  {
   "cell_type": "markdown",
   "id": "killing-relay",
   "metadata": {},
   "source": [
    "<br><br>"
   ]
  },
  {
   "cell_type": "code",
   "execution_count": 19,
   "id": "controlling-programming",
   "metadata": {},
   "outputs": [
    {
     "data": {
      "text/plain": [
       "array([[False, False, False, False],\n",
       "       [False, False,  True,  True],\n",
       "       [ True,  True,  True,  True]])"
      ]
     },
     "execution_count": 19,
     "metadata": {},
     "output_type": "execute_result"
    }
   ],
   "source": [
    "# Get the boolean output by applying the condition to each element\n",
    "b = arr2 > 4\n",
    "b"
   ]
  },
  {
   "cell_type": "code",
   "execution_count": 20,
   "id": "close-shoulder",
   "metadata": {},
   "outputs": [
    {
     "data": {
      "text/plain": [
       "array([5., 6., 5., 6., 7., 8.])"
      ]
     },
     "execution_count": 20,
     "metadata": {},
     "output_type": "execute_result"
    }
   ],
   "source": [
    "# Extracts only the elements that are greater than 4\n",
    "arr2[b]"
   ]
  },
  {
   "cell_type": "markdown",
   "id": "accepting-liberia",
   "metadata": {},
   "source": [
    "# \n",
    "### **4.1 How to reverse the rows and the whole array?**"
   ]
  },
  {
   "cell_type": "code",
   "execution_count": 21,
   "id": "designing-gospel",
   "metadata": {},
   "outputs": [
    {
     "data": {
      "text/plain": [
       "array([[5., 6., 7., 8.],\n",
       "       [3., 4., 5., 6.],\n",
       "       [1., 2., 3., 4.]])"
      ]
     },
     "execution_count": 21,
     "metadata": {},
     "output_type": "execute_result"
    }
   ],
   "source": [
    "# Reverse only the row position\n",
    "arr2[::-1, ]    # Can be written as arr2[::-1]"
   ]
  },
  {
   "cell_type": "code",
   "execution_count": 22,
   "id": "joined-habitat",
   "metadata": {},
   "outputs": [
    {
     "data": {
      "text/plain": [
       "array([[8., 7., 6., 5.],\n",
       "       [6., 5., 4., 3.],\n",
       "       [4., 3., 2., 1.]])"
      ]
     },
     "execution_count": 22,
     "metadata": {},
     "output_type": "execute_result"
    }
   ],
   "source": [
    "# Reverse the row and column position\n",
    "arr2[::-1, ::-1]"
   ]
  },
  {
   "cell_type": "markdown",
   "id": "sonic-prince",
   "metadata": {},
   "source": [
    "# \n",
    "### **4.2 How to represent missing values and infinite?**"
   ]
  },
  {
   "cell_type": "code",
   "execution_count": 23,
   "id": "cognitive-oregon",
   "metadata": {},
   "outputs": [
    {
     "data": {
      "text/plain": [
       "array([[ 1.,  2.,  3.,  4.],\n",
       "       [ 3., nan,  5.,  6.],\n",
       "       [ 5.,  6., inf,  8.]])"
      ]
     },
     "execution_count": 23,
     "metadata": {},
     "output_type": "execute_result"
    }
   ],
   "source": [
    "# Insert a nan and an inf\n",
    "arr2[1, 1] = np.nan    # not a number\n",
    "arr2[2, 2] = np.inf    # infinite\n",
    "arr2"
   ]
  },
  {
   "cell_type": "code",
   "execution_count": 24,
   "id": "assumed-colorado",
   "metadata": {},
   "outputs": [
    {
     "data": {
      "text/plain": [
       "array([[ 1.,  2.,  3.,  4.],\n",
       "       [ 3., -1.,  5.,  6.],\n",
       "       [ 5.,  6., -1.,  8.]])"
      ]
     },
     "execution_count": 24,
     "metadata": {},
     "output_type": "execute_result"
    }
   ],
   "source": [
    "# Replace nan and inf with -1. Don't use arr2 == np.nan\n",
    "missing_bool = np.isnan(arr2) | np.isinf(arr2)\n",
    "arr2[missing_bool] = -1\n",
    "arr2"
   ]
  },
  {
   "cell_type": "markdown",
   "id": "supreme-evolution",
   "metadata": {},
   "source": [
    "# \n",
    "### **4.3 How to compute mean, min, max on the ndarray?**"
   ]
  },
  {
   "cell_type": "code",
   "execution_count": 25,
   "id": "blond-breast",
   "metadata": {},
   "outputs": [
    {
     "name": "stdout",
     "output_type": "stream",
     "text": [
      "Mean value is: 3.4166666666666665\n",
      "Max value is: 8.0\n",
      "Min value is: -1.0\n"
     ]
    }
   ],
   "source": [
    "# mean, max and min\n",
    "print(\"Mean value is:\", arr2.mean())\n",
    "print(\"Max value is:\", arr2.max())\n",
    "print(\"Min value is:\", arr2.min())"
   ]
  },
  {
   "cell_type": "code",
   "execution_count": 26,
   "id": "czech-cooking",
   "metadata": {},
   "outputs": [
    {
     "data": {
      "text/plain": [
       "array([ 1., -1., -1.,  4.])"
      ]
     },
     "execution_count": 26,
     "metadata": {},
     "output_type": "execute_result"
    }
   ],
   "source": [
    "np.amin(arr2, axis = 0)"
   ]
  },
  {
   "cell_type": "code",
   "execution_count": 27,
   "id": "hollywood-track",
   "metadata": {},
   "outputs": [
    {
     "name": "stdout",
     "output_type": "stream",
     "text": [
      "Column wise minimum: [ 1. -1. -1.  4.]\n",
      "Row wise minimum: [ 1. -1. -1.]\n"
     ]
    }
   ],
   "source": [
    "# Row wise and column wise min\n",
    "print(\"Column wise minimum:\", np.amin(arr2, axis = 0))\n",
    "print(\"Row wise minimum:\", np.amin(arr2, axis = 1))"
   ]
  },
  {
   "cell_type": "code",
   "execution_count": 28,
   "id": "alternative-rings",
   "metadata": {},
   "outputs": [
    {
     "data": {
      "text/plain": [
       "array([ 1.,  3.,  6., 10., 13., 12., 17., 23., 28., 34., 33., 41.])"
      ]
     },
     "execution_count": 28,
     "metadata": {},
     "output_type": "execute_result"
    }
   ],
   "source": [
    "# Cumulative Sum\n",
    "arr2.cumsum()"
   ]
  },
  {
   "cell_type": "markdown",
   "id": "damaged-grove",
   "metadata": {},
   "source": [
    "<br><br>\n",
    "## **Just a self practise of** *apply_over_axes*\n",
    "#### A little difficult to get your head around in the first go. Some knowledge of matrix might be really helpful."
   ]
  },
  {
   "cell_type": "code",
   "execution_count": 29,
   "id": "cutting-pierre",
   "metadata": {},
   "outputs": [
    {
     "data": {
      "text/plain": [
       "array([[[ 0,  1,  2,  3],\n",
       "        [ 4,  5,  6,  7],\n",
       "        [ 8,  9, 10, 11]],\n",
       "\n",
       "       [[12, 13, 14, 15],\n",
       "        [16, 17, 18, 19],\n",
       "        [20, 21, 22, 23]]])"
      ]
     },
     "execution_count": 29,
     "metadata": {},
     "output_type": "execute_result"
    }
   ],
   "source": [
    "a = np.arange(24).reshape(2,3,4)\n",
    "a"
   ]
  },
  {
   "cell_type": "code",
   "execution_count": 30,
   "id": "smart-glasgow",
   "metadata": {},
   "outputs": [
    {
     "data": {
      "text/plain": [
       "(2, 3, 4)"
      ]
     },
     "execution_count": 30,
     "metadata": {},
     "output_type": "execute_result"
    }
   ],
   "source": [
    "a.shape"
   ]
  },
  {
   "cell_type": "code",
   "execution_count": 31,
   "id": "common-treat",
   "metadata": {},
   "outputs": [
    {
     "data": {
      "text/plain": [
       "array([[[ 60],\n",
       "        [ 92],\n",
       "        [124]]])"
      ]
     },
     "execution_count": 31,
     "metadata": {},
     "output_type": "execute_result"
    }
   ],
   "source": [
    "np.apply_over_axes(np.sum, a, [0,2])"
   ]
  },
  {
   "cell_type": "markdown",
   "id": "educated-recognition",
   "metadata": {},
   "source": [
    "<br><br>\n",
    "## **5. How to create a new array from an existing array?**"
   ]
  },
  {
   "cell_type": "markdown",
   "id": "alien-tours",
   "metadata": {},
   "source": [
    "*If you just assign a portion of an array to another array, the new array you just created refers to the parent array in memory.*<br>\n",
    "*That means, if you make any changes to the new array, it will reflect in the parent array as well.*</br>"
   ]
  },
  {
   "cell_type": "code",
   "execution_count": 32,
   "id": "decimal-practice",
   "metadata": {},
   "outputs": [
    {
     "data": {
      "text/plain": [
       "array([[10.,  2.,  3.,  4.],\n",
       "       [ 3., -1.,  5.,  6.],\n",
       "       [ 5.,  6., -1.,  8.]])"
      ]
     },
     "execution_count": 32,
     "metadata": {},
     "output_type": "execute_result"
    }
   ],
   "source": [
    "# Assign portion of arr2 to arr2a. Doesn't really create a new array.\n",
    "arr2a = arr2[:2, :2]\n",
    "arr2a[:1, :1] = 10    # 100 will reflect in arr2\n",
    "arr2"
   ]
  },
  {
   "cell_type": "code",
   "execution_count": 33,
   "id": "central-invite",
   "metadata": {},
   "outputs": [
    {
     "data": {
      "text/plain": [
       "array([[10.,  2.,  3.,  4.],\n",
       "       [ 3., -1.,  5.,  6.],\n",
       "       [ 5.,  6., -1.,  8.]])"
      ]
     },
     "execution_count": 33,
     "metadata": {},
     "output_type": "execute_result"
    }
   ],
   "source": [
    "# Copy a portion of arr2 to arr2b\n",
    "arr2b = arr2[:2, :2].copy()\n",
    "arr2b[:1, :1] = 126\n",
    "arr2"
   ]
  },
  {
   "cell_type": "markdown",
   "id": "recreational-census",
   "metadata": {},
   "source": [
    "<br><br>\n",
    "## **6. Reshaping and Flattening Multidimensional arrays**"
   ]
  },
  {
   "cell_type": "code",
   "execution_count": 34,
   "id": "center-milwaukee",
   "metadata": {},
   "outputs": [
    {
     "data": {
      "text/plain": [
       "array([[10.,  2.,  3.],\n",
       "       [ 4.,  3., -1.],\n",
       "       [ 5.,  6.,  5.],\n",
       "       [ 6., -1.,  8.]])"
      ]
     },
     "execution_count": 34,
     "metadata": {},
     "output_type": "execute_result"
    }
   ],
   "source": [
    "# Reshape a 3X4 array to 4X3 array\n",
    "arr2.reshape(4, 3)"
   ]
  },
  {
   "cell_type": "markdown",
   "id": "cultural-stewart",
   "metadata": {},
   "source": [
    "<br> \n",
    "### **6.1 What is the difference between flatten() and ravel()?**"
   ]
  },
  {
   "cell_type": "code",
   "execution_count": 35,
   "id": "large-combination",
   "metadata": {},
   "outputs": [
    {
     "data": {
      "text/plain": [
       "array([10.,  2.,  3.,  4.,  3., -1.,  5.,  6.,  5.,  6., -1.,  8.])"
      ]
     },
     "execution_count": 35,
     "metadata": {},
     "output_type": "execute_result"
    }
   ],
   "source": [
    "# Flatten it to a 1d array\n",
    "arr2.flatten()"
   ]
  },
  {
   "cell_type": "code",
   "execution_count": 36,
   "id": "suited-method",
   "metadata": {},
   "outputs": [
    {
     "data": {
      "text/plain": [
       "array([[10.,  2.,  3.,  4.],\n",
       "       [ 3., -1.,  5.,  6.],\n",
       "       [ 5.,  6., -1.,  8.]])"
      ]
     },
     "execution_count": 36,
     "metadata": {},
     "output_type": "execute_result"
    }
   ],
   "source": [
    "# Changing the flattened array does not change parent\n",
    "b1 = arr2.flatten()\n",
    "b1[0] = 85\n",
    "arr2"
   ]
  },
  {
   "cell_type": "code",
   "execution_count": 37,
   "id": "characteristic-volleyball",
   "metadata": {},
   "outputs": [
    {
     "data": {
      "text/plain": [
       "array([[85.,  2.,  3.,  4.],\n",
       "       [ 3., -1.,  5.,  6.],\n",
       "       [ 5.,  6., -1.,  8.]])"
      ]
     },
     "execution_count": 37,
     "metadata": {},
     "output_type": "execute_result"
    }
   ],
   "source": [
    "# Changing the raveled array changes the parent also.\n",
    "b2 = arr2.ravel()\n",
    "b2[0] = 85\n",
    "arr2"
   ]
  },
  {
   "cell_type": "markdown",
   "id": "adapted-french",
   "metadata": {},
   "source": [
    "<br><br> \n",
    "## **7. How to create sequences, repetitions and random numbers using numpy?**"
   ]
  },
  {
   "cell_type": "code",
   "execution_count": 38,
   "id": "competitive-reminder",
   "metadata": {},
   "outputs": [
    {
     "name": "stdout",
     "output_type": "stream",
     "text": [
      "[0 1 2 3 4 5 6 7 8 9]\n",
      "[ 0  1  2  3  4  5  6  7  8  9 10 11 12 13 14]\n",
      "[0 2 4 6 8]\n",
      "[10  9  8  7  6  5  4  3  2  1]\n"
     ]
    }
   ],
   "source": [
    "# Lower limit is 0 to be default\n",
    "print(np.arange(10))\n",
    "\n",
    "# 0 to 15\n",
    "print(np.arange(0, 15))\n",
    "\n",
    "# 0 to 9 with step of 2\n",
    "print(np.arange(0, 9, 2))\n",
    "\n",
    "# 10 to 1, decreasing order\n",
    "print(np.arange(10, 0, -1))"
   ]
  },
  {
   "cell_type": "code",
   "execution_count": 39,
   "id": "consecutive-korean",
   "metadata": {},
   "outputs": [
    {
     "data": {
      "text/plain": [
       "array([ 1,  6, 11, 17, 22, 28, 33, 39, 44, 50])"
      ]
     },
     "execution_count": 39,
     "metadata": {},
     "output_type": "execute_result"
    }
   ],
   "source": [
    "# Create a numpy array with custom number of items between start and end\n",
    "\n",
    "# Start with 1 and end at 50\n",
    "np.linspace(start = 1, stop = 50, num = 10, dtype = int)   # Creates 64 bit int by default"
   ]
  },
  {
   "cell_type": "code",
   "execution_count": 40,
   "id": "collect-tunnel",
   "metadata": {},
   "outputs": [
    {
     "data": {
      "text/plain": [
       "array([1.00e+01, 2.78e+06, 7.74e+11, 2.15e+17, 5.99e+22, 1.67e+28,\n",
       "       4.64e+33, 1.29e+39, 3.59e+44, 1.00e+50])"
      ]
     },
     "execution_count": 40,
     "metadata": {},
     "output_type": "execute_result"
    }
   ],
   "source": [
    "# Limit the number of digits after decimal to 2\n",
    "np.set_printoptions(precision = 2)\n",
    "\n",
    "# Start at 10^1 and end at 10^50\n",
    "np.logspace(start = 1, stop = 50, num = 10, base = 10)"
   ]
  },
  {
   "cell_type": "code",
   "execution_count": 41,
   "id": "biological-national",
   "metadata": {},
   "outputs": [
    {
     "data": {
      "text/plain": [
       "array([[0., 0.],\n",
       "       [0., 0.]])"
      ]
     },
     "execution_count": 41,
     "metadata": {},
     "output_type": "execute_result"
    }
   ],
   "source": [
    "# Creates multidimensional array containing all zeros\n",
    "np.zeros([2, 2])"
   ]
  },
  {
   "cell_type": "code",
   "execution_count": 42,
   "id": "precise-saying",
   "metadata": {},
   "outputs": [
    {
     "data": {
      "text/plain": [
       "array([[1., 1.],\n",
       "       [1., 1.],\n",
       "       [1., 1.],\n",
       "       [1., 1.],\n",
       "       [1., 1.]])"
      ]
     },
     "execution_count": 42,
     "metadata": {},
     "output_type": "execute_result"
    }
   ],
   "source": [
    "# Create multidimensional array containing all ones\n",
    "np.ones([5, 2])"
   ]
  },
  {
   "cell_type": "markdown",
   "id": "incorporated-exhibit",
   "metadata": {},
   "source": [
    "# \n",
    "### **7.1 How to create repeating sequences?**"
   ]
  },
  {
   "cell_type": "code",
   "execution_count": 43,
   "id": "cosmetic-kitchen",
   "metadata": {},
   "outputs": [
    {
     "name": "stdout",
     "output_type": "stream",
     "text": [
      "Tile: [1 2 3 1 2 3]\n",
      "Repeat: [1 1 2 2 3 3]\n"
     ]
    }
   ],
   "source": [
    "a = [1, 2, 3]\n",
    "\n",
    "# Repeat whole of 'a' two times\n",
    "print('Tile:', np.tile(a, 2))\n",
    "\n",
    "# Repeat each element of 'a' two times\n",
    "print('Repeat:', np.repeat(a, 2)) "
   ]
  },
  {
   "cell_type": "markdown",
   "id": "welsh-seafood",
   "metadata": {},
   "source": [
    "<br><br> \n",
    "#### **Doing a little more with tile() method. Some knowledge of matrices and ndarray attributes in general will be a very useful aid.**\n",
    "*Refer to the documentation of tile() method for more help.*"
   ]
  },
  {
   "cell_type": "code",
   "execution_count": 53,
   "id": "wrong-friday",
   "metadata": {},
   "outputs": [
    {
     "data": {
      "text/plain": [
       "array([[1, 2],\n",
       "       [3, 4]])"
      ]
     },
     "execution_count": 53,
     "metadata": {},
     "output_type": "execute_result"
    }
   ],
   "source": [
    "b = np.array([[1, 2], [3, 4]])\n",
    "b"
   ]
  },
  {
   "cell_type": "code",
   "execution_count": 45,
   "id": "superb-audience",
   "metadata": {},
   "outputs": [
    {
     "data": {
      "text/plain": [
       "array([[1, 2, 1, 2],\n",
       "       [3, 4, 3, 4],\n",
       "       [1, 2, 1, 2],\n",
       "       [3, 4, 3, 4]])"
      ]
     },
     "execution_count": 45,
     "metadata": {},
     "output_type": "execute_result"
    }
   ],
   "source": [
    "np.tile(b, (2, 2))"
   ]
  },
  {
   "cell_type": "code",
   "execution_count": 46,
   "id": "public-episode",
   "metadata": {},
   "outputs": [
    {
     "data": {
      "text/plain": [
       "array([0, 1, 2])"
      ]
     },
     "execution_count": 46,
     "metadata": {},
     "output_type": "execute_result"
    }
   ],
   "source": [
    "a = np.array([0, 1, 2])\n",
    "a"
   ]
  },
  {
   "cell_type": "code",
   "execution_count": 47,
   "id": "hungarian-passport",
   "metadata": {},
   "outputs": [
    {
     "data": {
      "text/plain": [
       "array([[0, 1, 2],\n",
       "       [0, 1, 2]])"
      ]
     },
     "execution_count": 47,
     "metadata": {},
     "output_type": "execute_result"
    }
   ],
   "source": [
    "np.tile(a, (2, 1))"
   ]
  },
  {
   "cell_type": "markdown",
   "id": "meaning-grass",
   "metadata": {},
   "source": [
    "<br><br> \n",
    "### **7.2 How to generate random numbers?**"
   ]
  },
  {
   "cell_type": "code",
   "execution_count": 48,
   "id": "recognized-trail",
   "metadata": {},
   "outputs": [
    {
     "name": "stdout",
     "output_type": "stream",
     "text": [
      "[[0.45 0.16]\n",
      " [0.01 0.17]]\n",
      "[[-0.51 -0.78]\n",
      " [ 0.45  0.08]]\n",
      "[[1 6]\n",
      " [2 8]]\n",
      "0.5697297032519851\n",
      "[[0.74 0.26]\n",
      " [0.49 0.18]]\n",
      "['o' 'u' 'e' 'a' 'a' 'u' 'i' 'u' 'i' 'u']\n",
      "['u' 'o' 'i' 'a' 'u' 'o' 'i' 'a' 'i' 'o']\n"
     ]
    }
   ],
   "source": [
    "# Random numbers between [0, 1) of shape 2, 2\n",
    "print(np.random.rand(2, 2))\n",
    "\n",
    "# Normal distribution with mean = 0 and variance = 1 of shape 2, 2\n",
    "print(np.random.randn(2, 2))\n",
    "\n",
    "# Random integers between [0, 10) of shape 2, 2\n",
    "print(np.random.randint(0, 10, size = [2, 2]))\n",
    "\n",
    "# One random number between [0, 1)\n",
    "print(np.random.random())\n",
    "\n",
    "# Random number between [0, 1) of shape 2, 2\n",
    "print(np.random.random(size = [2, 2]))\n",
    "\n",
    "# Pick 10 items from a given list with equal probability\n",
    "print(np.random.choice(['a', 'e', 'i', 'o', 'u'], size = 10))\n",
    "\n",
    "# Pick 10 items from a given list with a predefined probability\n",
    "print(np.random.choice(['a', 'e', 'i', 'o', 'u'], size = 10, p = [0.3, 0.2, 0.1, 0.2, 0.2]))\n"
   ]
  },
  {
   "cell_type": "code",
   "execution_count": 49,
   "id": "measured-glory",
   "metadata": {},
   "outputs": [
    {
     "name": "stdout",
     "output_type": "stream",
     "text": [
      "[[0.54 0.28]\n",
      " [0.42 0.84]]\n"
     ]
    }
   ],
   "source": [
    "# Create the random state\n",
    "rn = np.random.RandomState(100)\n",
    "\n",
    "# Create random numbers between [0, 1) of shape 2, 2\n",
    "print(rn.rand(2, 2))"
   ]
  },
  {
   "cell_type": "code",
   "execution_count": 50,
   "id": "elder-rental",
   "metadata": {},
   "outputs": [
    {
     "name": "stdout",
     "output_type": "stream",
     "text": [
      "[[0.54 0.28]\n",
      " [0.42 0.84]]\n"
     ]
    }
   ],
   "source": [
    "# Set the random seed\n",
    "np.random.seed(100)\n",
    "\n",
    "# Create random numbers between [0, 1) of shape 2, 2\n",
    "print(np.random.rand(2, 2))"
   ]
  },
  {
   "cell_type": "markdown",
   "id": "endless-rolling",
   "metadata": {},
   "source": [
    "# \n",
    "### **7.3 How to get the unique items and the counts?**"
   ]
  },
  {
   "cell_type": "code",
   "execution_count": 51,
   "id": "external-policy",
   "metadata": {},
   "outputs": [
    {
     "name": "stdout",
     "output_type": "stream",
     "text": [
      "[8 8 3 7 7 0 4 2 5 2]\n"
     ]
    }
   ],
   "source": [
    "# Create random integers of size 10 between [0, 10)\n",
    "np.random.seed(100)\n",
    "arr_rand = np.random.randint(0, 10, size = 10)\n",
    "print(arr_rand)"
   ]
  },
  {
   "cell_type": "code",
   "execution_count": 52,
   "id": "dense-ukraine",
   "metadata": {},
   "outputs": [
    {
     "name": "stdout",
     "output_type": "stream",
     "text": [
      "Unique items :  [0 2 3 4 5 7 8]\n",
      "Counts       :  [1 2 1 1 1 2 2]\n"
     ]
    }
   ],
   "source": [
    "# Get the unique items and their counts\n",
    "uniq, counts = np.unique(arr_rand, return_counts = True)\n",
    "print('Unique items : ', uniq)\n",
    "print('Counts       : ', counts)"
   ]
  }
 ],
 "metadata": {
  "kernelspec": {
   "display_name": "Python 3",
   "language": "python",
   "name": "python3"
  },
  "language_info": {
   "codemirror_mode": {
    "name": "ipython",
    "version": 3
   },
   "file_extension": ".py",
   "mimetype": "text/x-python",
   "name": "python",
   "nbconvert_exporter": "python",
   "pygments_lexer": "ipython3",
   "version": "3.9.1"
  }
 },
 "nbformat": 4,
 "nbformat_minor": 5
}
