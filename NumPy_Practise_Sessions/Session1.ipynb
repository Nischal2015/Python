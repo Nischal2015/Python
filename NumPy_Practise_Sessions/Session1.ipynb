{
  "nbformat": 4,
  "nbformat_minor": 5,
  "metadata": {
    "kernelspec": {
      "display_name": "Python 3",
      "language": "python",
      "name": "python3"
    },
    "language_info": {
      "codemirror_mode": {
        "name": "ipython",
        "version": 3
      },
      "file_extension": ".py",
      "mimetype": "text/x-python",
      "name": "python",
      "nbconvert_exporter": "python",
      "pygments_lexer": "ipython3",
      "version": "3.9.1"
    },
    "colab": {
      "name": "Session1.ipynb",
      "provenance": [],
      "include_colab_link": true
    }
  },
  "cells": [
    {
      "cell_type": "markdown",
      "metadata": {
        "id": "view-in-github",
        "colab_type": "text"
      },
      "source": [
        "<a href=\"https://colab.research.google.com/github/Nischal2015/Python/blob/main/NumPy_Practise_Sessions/Session1.ipynb\" target=\"_parent\"><img src=\"https://colab.research.google.com/assets/colab-badge.svg\" alt=\"Open In Colab\"/></a>"
      ]
    },
    {
      "cell_type": "markdown",
      "metadata": {
        "id": "vocational-subcommittee"
      },
      "source": [
        "# **Python NumPy**\n",
        "## **Session 1**<br><br> \n"
      ],
      "id": "vocational-subcommittee"
    },
    {
      "cell_type": "code",
      "metadata": {
        "id": "hispanic-protein"
      },
      "source": [
        "# Importing the numpy library\n",
        "import numpy as np"
      ],
      "id": "hispanic-protein",
      "execution_count": 1,
      "outputs": []
    },
    {
      "cell_type": "markdown",
      "metadata": {
        "id": "likely-trustee"
      },
      "source": [
        "<br><br> \n",
        "## **2. How to create a NumPy array?**"
      ],
      "id": "likely-trustee"
    },
    {
      "cell_type": "markdown",
      "metadata": {
        "id": "proud-economics"
      },
      "source": [
        "This section contains various ways to create a numpy array as well as some of the operations that can be performed with numpy array."
      ],
      "id": "proud-economics"
    },
    {
      "cell_type": "code",
      "metadata": {
        "colab": {
          "base_uri": "https://localhost:8080/"
        },
        "id": "vietnamese-handle",
        "outputId": "8390ec1b-e075-45da-acd5-23d89b521bcb"
      },
      "source": [
        "# Create an 1d array from a list\n",
        "list1 = [0, 1, 2, 3, 4]\n",
        "arr1d = np.array(list1)\n",
        "\n",
        "# Print the array and its type\n",
        "print(type(arr1d))\n",
        "arr1d"
      ],
      "id": "vietnamese-handle",
      "execution_count": 2,
      "outputs": [
        {
          "output_type": "stream",
          "text": [
            "<class 'numpy.ndarray'>\n"
          ],
          "name": "stdout"
        },
        {
          "output_type": "execute_result",
          "data": {
            "text/plain": [
              "array([0, 1, 2, 3, 4])"
            ]
          },
          "metadata": {
            "tags": []
          },
          "execution_count": 2
        }
      ]
    },
    {
      "cell_type": "code",
      "metadata": {
        "colab": {
          "base_uri": "https://localhost:8080/"
        },
        "id": "registered-election",
        "outputId": "ad380715-6b91-4b55-e0c7-d6c63b1e9454"
      },
      "source": [
        "# list1 + 2    # This results in an error\n",
        "\n",
        "# Add 2 to each element of arr1d\n",
        "# Addition like operation\n",
        "arr1d + 2"
      ],
      "id": "registered-election",
      "execution_count": 3,
      "outputs": [
        {
          "output_type": "execute_result",
          "data": {
            "text/plain": [
              "array([2, 3, 4, 5, 6])"
            ]
          },
          "metadata": {
            "tags": []
          },
          "execution_count": 3
        }
      ]
    },
    {
      "cell_type": "code",
      "metadata": {
        "colab": {
          "base_uri": "https://localhost:8080/"
        },
        "id": "addressed-blackjack",
        "outputId": "57a553d3-98f4-44bc-b171-3842bc4fa43e"
      },
      "source": [
        "# Create a 2d array from a list of lists\n",
        "list2 = [[0, 1, 2], [3, 4, 5], [6, 7, 8]]\n",
        "arr2d = np.array(list2)\n",
        "arr2d"
      ],
      "id": "addressed-blackjack",
      "execution_count": 4,
      "outputs": [
        {
          "output_type": "execute_result",
          "data": {
            "text/plain": [
              "array([[0, 1, 2],\n",
              "       [3, 4, 5],\n",
              "       [6, 7, 8]])"
            ]
          },
          "metadata": {
            "tags": []
          },
          "execution_count": 4
        }
      ]
    },
    {
      "cell_type": "code",
      "metadata": {
        "colab": {
          "base_uri": "https://localhost:8080/"
        },
        "id": "roman-watson",
        "outputId": "2c14229d-1cae-4eda-d6b2-5bd7f390d982"
      },
      "source": [
        "# Create a float 2d array\n",
        "# Using only 'float' as dtype is deprecated\n",
        "arr2d_f = np.array(list2, dtype = float)    # By default NumPy creates 64 bit float\n",
        "arr2d_f"
      ],
      "id": "roman-watson",
      "execution_count": 5,
      "outputs": [
        {
          "output_type": "execute_result",
          "data": {
            "text/plain": [
              "array([[0., 1., 2.],\n",
              "       [3., 4., 5.],\n",
              "       [6., 7., 8.]])"
            ]
          },
          "metadata": {
            "tags": []
          },
          "execution_count": 5
        }
      ]
    },
    {
      "cell_type": "code",
      "metadata": {
        "colab": {
          "base_uri": "https://localhost:8080/"
        },
        "id": "oriented-ceiling",
        "outputId": "9507a951-3486-4d41-8fc4-ac2c4878a39d"
      },
      "source": [
        "# Convert to int data type\n",
        "arr2d_f.astype(int)"
      ],
      "id": "oriented-ceiling",
      "execution_count": 6,
      "outputs": [
        {
          "output_type": "execute_result",
          "data": {
            "text/plain": [
              "array([[0, 1, 2],\n",
              "       [3, 4, 5],\n",
              "       [6, 7, 8]])"
            ]
          },
          "metadata": {
            "tags": []
          },
          "execution_count": 6
        }
      ]
    },
    {
      "cell_type": "code",
      "metadata": {
        "colab": {
          "base_uri": "https://localhost:8080/"
        },
        "id": "instant-geography",
        "outputId": "f01035f7-3cc2-45d2-8cc8-45ffad6ab636"
      },
      "source": [
        "# Convert to int then to string\n",
        "arr2d_f.astype(int).astype(str)"
      ],
      "id": "instant-geography",
      "execution_count": 7,
      "outputs": [
        {
          "output_type": "execute_result",
          "data": {
            "text/plain": [
              "array([['0', '1', '2'],\n",
              "       ['3', '4', '5'],\n",
              "       ['6', '7', '8']], dtype='<U21')"
            ]
          },
          "metadata": {
            "tags": []
          },
          "execution_count": 7
        }
      ]
    },
    {
      "cell_type": "code",
      "metadata": {
        "colab": {
          "base_uri": "https://localhost:8080/"
        },
        "id": "accepted-chemical",
        "outputId": "e0121cd9-a10d-4ad0-98b8-9ee7ca8b0142"
      },
      "source": [
        "# Create a boolean array\n",
        "arr2d_b = np.array([1, 0, 12, 23], dtype = bool)\n",
        "arr2d_b"
      ],
      "id": "accepted-chemical",
      "execution_count": 8,
      "outputs": [
        {
          "output_type": "execute_result",
          "data": {
            "text/plain": [
              "array([ True, False,  True,  True])"
            ]
          },
          "metadata": {
            "tags": []
          },
          "execution_count": 8
        }
      ]
    },
    {
      "cell_type": "code",
      "metadata": {
        "colab": {
          "base_uri": "https://localhost:8080/"
        },
        "id": "indie-galaxy",
        "outputId": "6ce94f53-d0cf-4d5f-e77d-5589fb6a6ba2"
      },
      "source": [
        "# Create an object array to hold numbers as well as strings\n",
        "arr1d_obj = np.array([2, 'Nischal', 3.1415])\n",
        "arr1d_obj"
      ],
      "id": "indie-galaxy",
      "execution_count": 9,
      "outputs": [
        {
          "output_type": "execute_result",
          "data": {
            "text/plain": [
              "array(['2', 'Nischal', '3.1415'], dtype='<U21')"
            ]
          },
          "metadata": {
            "tags": []
          },
          "execution_count": 9
        }
      ]
    },
    {
      "cell_type": "code",
      "metadata": {
        "colab": {
          "base_uri": "https://localhost:8080/"
        },
        "id": "physical-report",
        "outputId": "5d80fa0c-16a1-42fc-d6e3-ba3547d537f2"
      },
      "source": [
        "# Convert an array back to list\n",
        "arr1d_obj.tolist()"
      ],
      "id": "physical-report",
      "execution_count": 10,
      "outputs": [
        {
          "output_type": "execute_result",
          "data": {
            "text/plain": [
              "['2', 'Nischal', '3.1415']"
            ]
          },
          "metadata": {
            "tags": []
          },
          "execution_count": 10
        }
      ]
    },
    {
      "cell_type": "markdown",
      "metadata": {
        "id": "unexpected-bahamas"
      },
      "source": [
        "<br><br>\n",
        "## **3. How to inspect the size and shape of a numpy array?**"
      ],
      "id": "unexpected-bahamas"
    },
    {
      "cell_type": "markdown",
      "metadata": {
        "id": "confirmed-claim"
      },
      "source": [
        "This section contains attributes that can be used with a numpy array namely *shape*, *dtype*, *size*, *ndim*, *itemsize*"
      ],
      "id": "confirmed-claim"
    },
    {
      "cell_type": "code",
      "metadata": {
        "colab": {
          "base_uri": "https://localhost:8080/"
        },
        "id": "double-constitutional",
        "outputId": "ba734ad0-0313-42e3-bc86-c3f5630b5728"
      },
      "source": [
        "# Create a 2d array with 3 rows and 4 columns\n",
        "list2 = [[1, 2, 3, 4], [3, 4, 5, 6], [5, 6, 7, 8]]\n",
        "arr2 = np.array(list2, dtype = int)  # Don't use deprecated dtype\n",
        "arr2"
      ],
      "id": "double-constitutional",
      "execution_count": 11,
      "outputs": [
        {
          "output_type": "execute_result",
          "data": {
            "text/plain": [
              "array([[1, 2, 3, 4],\n",
              "       [3, 4, 5, 6],\n",
              "       [5, 6, 7, 8]])"
            ]
          },
          "metadata": {
            "tags": []
          },
          "execution_count": 11
        }
      ]
    },
    {
      "cell_type": "code",
      "metadata": {
        "colab": {
          "base_uri": "https://localhost:8080/"
        },
        "id": "ultimate-florist",
        "outputId": "f90cb8de-9b7f-4560-b801-9c9e8a6efeee"
      },
      "source": [
        "# Uses of attributes associated with numpy array\n",
        "\n",
        "# shape\n",
        "print(\"Shape:\", arr2.shape)\n",
        "\n",
        "# dtype\n",
        "print(\"Datatype:\", arr2.dtype)\n",
        "\n",
        "# size\n",
        "print(\"Size:\", arr2.size)\n",
        "\n",
        "# ndim\n",
        "print(\"Num Dimensions:\", arr2.ndim)\n",
        "\n",
        "# itemsize\n",
        "print(\"Size of each item:\", arr2.itemsize)"
      ],
      "id": "ultimate-florist",
      "execution_count": 12,
      "outputs": [
        {
          "output_type": "stream",
          "text": [
            "Shape: (3, 4)\n",
            "Datatype: int64\n",
            "Size: 12\n",
            "Num Dimensions: 2\n",
            "Size of each item: 8\n"
          ],
          "name": "stdout"
        }
      ]
    },
    {
      "cell_type": "markdown",
      "metadata": {
        "id": "dedicated-mailing"
      },
      "source": [
        "<br><br>\n",
        "## **4. How to extract specific items from an array?**"
      ],
      "id": "dedicated-mailing"
    },
    {
      "cell_type": "code",
      "metadata": {
        "colab": {
          "base_uri": "https://localhost:8080/"
        },
        "id": "passing-aging",
        "outputId": "2fcc687e-1b29-4c40-9ff6-e89ddfe6e507"
      },
      "source": [
        "arr2"
      ],
      "id": "passing-aging",
      "execution_count": 13,
      "outputs": [
        {
          "output_type": "execute_result",
          "data": {
            "text/plain": [
              "array([[1, 2, 3, 4],\n",
              "       [3, 4, 5, 6],\n",
              "       [5, 6, 7, 8]])"
            ]
          },
          "metadata": {
            "tags": []
          },
          "execution_count": 13
        }
      ]
    },
    {
      "cell_type": "code",
      "metadata": {
        "colab": {
          "base_uri": "https://localhost:8080/"
        },
        "id": "recreational-georgia",
        "outputId": "74e1dd24-efa8-43c0-ee62-88bf9b9fed06"
      },
      "source": [
        "# Extract the first 2 rows and columns\n",
        "arr2[:2, :2]    # Similar to what we do with Python list\n",
        "# list2[:2, :2]    # Creates error"
      ],
      "id": "recreational-georgia",
      "execution_count": 14,
      "outputs": [
        {
          "output_type": "execute_result",
          "data": {
            "text/plain": [
              "array([[1, 2],\n",
              "       [3, 4]])"
            ]
          },
          "metadata": {
            "tags": []
          },
          "execution_count": 14
        }
      ]
    },
    {
      "cell_type": "markdown",
      "metadata": {
        "id": "entitled-robertson"
      },
      "source": [
        "#### Super important to understand the difference between slicing and indexing. Below scripts contains just that."
      ],
      "id": "entitled-robertson"
    },
    {
      "cell_type": "code",
      "metadata": {
        "colab": {
          "base_uri": "https://localhost:8080/"
        },
        "id": "infinite-string",
        "outputId": "b66912f8-e58b-4e13-dd2e-38741908c01d"
      },
      "source": [
        "print(arr2[2,])\n",
        "print(arr2[2:3,])"
      ],
      "id": "infinite-string",
      "execution_count": 15,
      "outputs": [
        {
          "output_type": "stream",
          "text": [
            "[5 6 7 8]\n",
            "[[5 6 7 8]]\n"
          ],
          "name": "stdout"
        }
      ]
    },
    {
      "cell_type": "code",
      "metadata": {
        "colab": {
          "base_uri": "https://localhost:8080/"
        },
        "id": "arabic-exclusive",
        "outputId": "b3ad92f1-671a-47b2-d62c-6038bcc6ee03"
      },
      "source": [
        "# The type may look same but the dimensions vary\n",
        "print(\"Indexing Type:\", type(arr2[2]), \"\\t\\tIndexing dimension:\", arr2[2].ndim)\n",
        "print(\"Indexing Type:\", type(arr2[2:3]), \"\\t\\tSlicing dimension:\", arr2[2:3].ndim)"
      ],
      "id": "arabic-exclusive",
      "execution_count": 16,
      "outputs": [
        {
          "output_type": "stream",
          "text": [
            "Indexing Type: <class 'numpy.ndarray'> \t\tIndexing dimension: 1\n",
            "Indexing Type: <class 'numpy.ndarray'> \t\tSlicing dimension: 2\n"
          ],
          "name": "stdout"
        }
      ]
    },
    {
      "cell_type": "code",
      "metadata": {
        "colab": {
          "base_uri": "https://localhost:8080/"
        },
        "id": "fabulous-glenn",
        "outputId": "efe029db-1881-46cf-d1f2-bf88cd83d72c"
      },
      "source": [
        "# Becomes more clear with 1 dimensional arrays\n",
        "\n",
        "# Creates 1d array\n",
        "example_array1d = np.array([5, 9, 2, 6, 1, 6])\n",
        "print(\"Slicing:\", example_array1d[:1], \"\\t\\t\\tIndexing:\", example_array1d[0])\n",
        "print(\"Slicing dimension:\", example_array1d[:1].ndim, \"\\t\\tIndexing dimension:\", example_array1d[0].ndim)\n",
        "print(\"Slicing type:\", type(example_array1d[:1]), \"\\tIndexing type:\", type(example_array1d[0]))"
      ],
      "id": "fabulous-glenn",
      "execution_count": 17,
      "outputs": [
        {
          "output_type": "stream",
          "text": [
            "Slicing: [5] \t\t\tIndexing: 5\n",
            "Slicing dimension: 1 \t\tIndexing dimension: 0\n",
            "Slicing type: <class 'numpy.ndarray'> \tIndexing type: <class 'numpy.int64'>\n"
          ],
          "name": "stdout"
        }
      ]
    },
    {
      "cell_type": "markdown",
      "metadata": {
        "id": "killing-relay"
      },
      "source": [
        "<br><br>"
      ],
      "id": "killing-relay"
    },
    {
      "cell_type": "code",
      "metadata": {
        "colab": {
          "base_uri": "https://localhost:8080/"
        },
        "id": "controlling-programming",
        "outputId": "a9809268-683a-4ec0-b4fa-f38b1371e7f1"
      },
      "source": [
        "# Get the boolean output by applying the condition to each element\n",
        "b = arr2 > 4\n",
        "b"
      ],
      "id": "controlling-programming",
      "execution_count": 18,
      "outputs": [
        {
          "output_type": "execute_result",
          "data": {
            "text/plain": [
              "array([[False, False, False, False],\n",
              "       [False, False,  True,  True],\n",
              "       [ True,  True,  True,  True]])"
            ]
          },
          "metadata": {
            "tags": []
          },
          "execution_count": 18
        }
      ]
    },
    {
      "cell_type": "code",
      "metadata": {
        "colab": {
          "base_uri": "https://localhost:8080/"
        },
        "id": "close-shoulder",
        "outputId": "f5d434ed-73c4-4ef8-c5dd-af077d1650c7"
      },
      "source": [
        "# Extracts only the elements that are greater than 4\n",
        "arr2[b]"
      ],
      "id": "close-shoulder",
      "execution_count": 19,
      "outputs": [
        {
          "output_type": "execute_result",
          "data": {
            "text/plain": [
              "array([5, 6, 5, 6, 7, 8])"
            ]
          },
          "metadata": {
            "tags": []
          },
          "execution_count": 19
        }
      ]
    },
    {
      "cell_type": "markdown",
      "metadata": {
        "id": "accepting-liberia"
      },
      "source": [
        "# \n",
        "### **4.1 How to reverse the rows and the whole array?**"
      ],
      "id": "accepting-liberia"
    },
    {
      "cell_type": "code",
      "metadata": {
        "colab": {
          "base_uri": "https://localhost:8080/"
        },
        "id": "ZmK3z9V_GhXi",
        "outputId": "392ff84c-3f97-4278-d908-5de2894fcb93"
      },
      "source": [
        "arr2"
      ],
      "id": "ZmK3z9V_GhXi",
      "execution_count": 20,
      "outputs": [
        {
          "output_type": "execute_result",
          "data": {
            "text/plain": [
              "array([[1, 2, 3, 4],\n",
              "       [3, 4, 5, 6],\n",
              "       [5, 6, 7, 8]])"
            ]
          },
          "metadata": {
            "tags": []
          },
          "execution_count": 20
        }
      ]
    },
    {
      "cell_type": "code",
      "metadata": {
        "colab": {
          "base_uri": "https://localhost:8080/"
        },
        "id": "designing-gospel",
        "outputId": "3d2cd5d5-3795-488b-8881-0462390cc13c"
      },
      "source": [
        "# Reverse only the row position\n",
        "arr2[::-1, ]    # Can be written as arr2[::-1]"
      ],
      "id": "designing-gospel",
      "execution_count": 21,
      "outputs": [
        {
          "output_type": "execute_result",
          "data": {
            "text/plain": [
              "array([[5, 6, 7, 8],\n",
              "       [3, 4, 5, 6],\n",
              "       [1, 2, 3, 4]])"
            ]
          },
          "metadata": {
            "tags": []
          },
          "execution_count": 21
        }
      ]
    },
    {
      "cell_type": "code",
      "metadata": {
        "colab": {
          "base_uri": "https://localhost:8080/"
        },
        "id": "tDq776PMGGYC",
        "outputId": "dbbea67a-6780-4dbc-daaa-08b263263534"
      },
      "source": [
        "# Reverse only the column position\n",
        "arr2[:, ::-1]"
      ],
      "id": "tDq776PMGGYC",
      "execution_count": 22,
      "outputs": [
        {
          "output_type": "execute_result",
          "data": {
            "text/plain": [
              "array([[4, 3, 2, 1],\n",
              "       [6, 5, 4, 3],\n",
              "       [8, 7, 6, 5]])"
            ]
          },
          "metadata": {
            "tags": []
          },
          "execution_count": 22
        }
      ]
    },
    {
      "cell_type": "code",
      "metadata": {
        "colab": {
          "base_uri": "https://localhost:8080/"
        },
        "id": "joined-habitat",
        "outputId": "914327cd-6404-476d-9156-cfe75263aa81"
      },
      "source": [
        "# Reverse the row and column position\n",
        "arr2[::-1, ::-1]"
      ],
      "id": "joined-habitat",
      "execution_count": 23,
      "outputs": [
        {
          "output_type": "execute_result",
          "data": {
            "text/plain": [
              "array([[8, 7, 6, 5],\n",
              "       [6, 5, 4, 3],\n",
              "       [4, 3, 2, 1]])"
            ]
          },
          "metadata": {
            "tags": []
          },
          "execution_count": 23
        }
      ]
    },
    {
      "cell_type": "markdown",
      "metadata": {
        "id": "sonic-prince"
      },
      "source": [
        "<br> \n",
        "### **4.2 How to represent missing values and infinite?**"
      ],
      "id": "sonic-prince"
    },
    {
      "cell_type": "code",
      "metadata": {
        "colab": {
          "base_uri": "https://localhost:8080/"
        },
        "id": "cognitive-oregon",
        "outputId": "ffd1dea7-c5d3-4dde-f185-996dabf54c2f"
      },
      "source": [
        "# Insert a nan and an inf\n",
        "#arr2[1, 1] = np.nan    # not a number\n",
        "#arr2[2, 2] = np.inf    # infinite\n",
        "arr2"
      ],
      "id": "cognitive-oregon",
      "execution_count": 24,
      "outputs": [
        {
          "output_type": "execute_result",
          "data": {
            "text/plain": [
              "array([[1, 2, 3, 4],\n",
              "       [3, 4, 5, 6],\n",
              "       [5, 6, 7, 8]])"
            ]
          },
          "metadata": {
            "tags": []
          },
          "execution_count": 24
        }
      ]
    },
    {
      "cell_type": "code",
      "metadata": {
        "colab": {
          "base_uri": "https://localhost:8080/"
        },
        "id": "assumed-colorado",
        "outputId": "92f8a27b-56d2-4f99-e50d-ba504b5e5b70"
      },
      "source": [
        "# Replace nan and inf with -1. Don't use arr2 == np.nan\n",
        "missing_bool = np.isnan(arr2) | np.isinf(arr2)\n",
        "arr2[missing_bool] = -1\n",
        "arr2"
      ],
      "id": "assumed-colorado",
      "execution_count": 25,
      "outputs": [
        {
          "output_type": "execute_result",
          "data": {
            "text/plain": [
              "array([[1, 2, 3, 4],\n",
              "       [3, 4, 5, 6],\n",
              "       [5, 6, 7, 8]])"
            ]
          },
          "metadata": {
            "tags": []
          },
          "execution_count": 25
        }
      ]
    },
    {
      "cell_type": "markdown",
      "metadata": {
        "id": "supreme-evolution"
      },
      "source": [
        "<br> \n",
        "### **4.3 How to compute mean, min, max on the ndarray?**"
      ],
      "id": "supreme-evolution"
    },
    {
      "cell_type": "code",
      "metadata": {
        "colab": {
          "base_uri": "https://localhost:8080/"
        },
        "id": "blond-breast",
        "outputId": "a24628cc-ab31-4a83-ae1e-31df85bcfc78"
      },
      "source": [
        "# mean, max and min\n",
        "print(\"Mean value is:\", arr2.mean())\n",
        "print(\"Max value is:\", arr2.max())\n",
        "print(\"Min value is:\", arr2.min())"
      ],
      "id": "blond-breast",
      "execution_count": 26,
      "outputs": [
        {
          "output_type": "stream",
          "text": [
            "Mean value is: 4.5\n",
            "Max value is: 8\n",
            "Min value is: 1\n"
          ],
          "name": "stdout"
        }
      ]
    },
    {
      "cell_type": "code",
      "metadata": {
        "colab": {
          "base_uri": "https://localhost:8080/"
        },
        "id": "hollywood-track",
        "outputId": "b47cd444-de9a-4efc-eb70-b6adde708435"
      },
      "source": [
        "# Row wise and column wise min\n",
        "print(\"Column wise minimum:\", np.amin(arr2, axis = 0))\n",
        "print(\"Row wise minimum:\", np.amin(arr2, axis = 1))"
      ],
      "id": "hollywood-track",
      "execution_count": 27,
      "outputs": [
        {
          "output_type": "stream",
          "text": [
            "Column wise minimum: [1 2 3 4]\n",
            "Row wise minimum: [1 3 5]\n"
          ],
          "name": "stdout"
        }
      ]
    },
    {
      "cell_type": "code",
      "metadata": {
        "colab": {
          "base_uri": "https://localhost:8080/"
        },
        "id": "alternative-rings",
        "outputId": "c47b822a-13b2-42c6-ee3c-57fbfbbf4992"
      },
      "source": [
        "# Cumulative Sum\n",
        "arr2.cumsum()"
      ],
      "id": "alternative-rings",
      "execution_count": 28,
      "outputs": [
        {
          "output_type": "execute_result",
          "data": {
            "text/plain": [
              "array([ 1,  3,  6, 10, 13, 17, 22, 28, 33, 39, 46, 54])"
            ]
          },
          "metadata": {
            "tags": []
          },
          "execution_count": 28
        }
      ]
    },
    {
      "cell_type": "markdown",
      "metadata": {
        "id": "damaged-grove"
      },
      "source": [
        "<br><br>\n",
        "## **Just a self practise of** *apply_over_axes()*\n",
        "#### A little difficult to get your head around in the first go. Some knowledge of matrix might be really helpful."
      ],
      "id": "damaged-grove"
    },
    {
      "cell_type": "code",
      "metadata": {
        "colab": {
          "base_uri": "https://localhost:8080/"
        },
        "id": "cutting-pierre",
        "outputId": "26906ab9-7b24-41f0-f6eb-70c4939d38a2"
      },
      "source": [
        "a = np.arange(24).reshape(2,3,4)\n",
        "a"
      ],
      "id": "cutting-pierre",
      "execution_count": 29,
      "outputs": [
        {
          "output_type": "execute_result",
          "data": {
            "text/plain": [
              "array([[[ 0,  1,  2,  3],\n",
              "        [ 4,  5,  6,  7],\n",
              "        [ 8,  9, 10, 11]],\n",
              "\n",
              "       [[12, 13, 14, 15],\n",
              "        [16, 17, 18, 19],\n",
              "        [20, 21, 22, 23]]])"
            ]
          },
          "metadata": {
            "tags": []
          },
          "execution_count": 29
        }
      ]
    },
    {
      "cell_type": "code",
      "metadata": {
        "colab": {
          "base_uri": "https://localhost:8080/"
        },
        "id": "smart-glasgow",
        "outputId": "70003138-4ea0-44f1-d60c-11132b626d0d"
      },
      "source": [
        "a.shape"
      ],
      "id": "smart-glasgow",
      "execution_count": 30,
      "outputs": [
        {
          "output_type": "execute_result",
          "data": {
            "text/plain": [
              "(2, 3, 4)"
            ]
          },
          "metadata": {
            "tags": []
          },
          "execution_count": 30
        }
      ]
    },
    {
      "cell_type": "code",
      "metadata": {
        "colab": {
          "base_uri": "https://localhost:8080/"
        },
        "id": "common-treat",
        "outputId": "819adc57-90de-441e-84c9-c2c5f340f096"
      },
      "source": [
        "np.apply_over_axes(np.sum, a, [0,2])"
      ],
      "id": "common-treat",
      "execution_count": 31,
      "outputs": [
        {
          "output_type": "execute_result",
          "data": {
            "text/plain": [
              "array([[[ 60],\n",
              "        [ 92],\n",
              "        [124]]])"
            ]
          },
          "metadata": {
            "tags": []
          },
          "execution_count": 31
        }
      ]
    },
    {
      "cell_type": "markdown",
      "metadata": {
        "id": "educated-recognition"
      },
      "source": [
        "<br><br>\n",
        "## **5. How to create a new array from an existing array?**"
      ],
      "id": "educated-recognition"
    },
    {
      "cell_type": "markdown",
      "metadata": {
        "id": "alien-tours"
      },
      "source": [
        "*If you just assign a portion of an array to another array, the new array you just created refers to the parent array in memory.*<br>\n",
        "*That means, if you make any changes to the new array, it will reflect in the parent array as well.*</br>"
      ],
      "id": "alien-tours"
    },
    {
      "cell_type": "code",
      "metadata": {
        "colab": {
          "base_uri": "https://localhost:8080/"
        },
        "id": "decimal-practice",
        "outputId": "6b1a5ce9-8b3a-4ed5-f148-98c1eb7284c1"
      },
      "source": [
        "# Assign portion of arr2 to arr2a. Doesn't really create a new array.\n",
        "arr2a = arr2[:2, :2]\n",
        "arr2a[:1, :1] = 10    # 100 will reflect in arr2\n",
        "arr2"
      ],
      "id": "decimal-practice",
      "execution_count": 32,
      "outputs": [
        {
          "output_type": "execute_result",
          "data": {
            "text/plain": [
              "array([[10,  2,  3,  4],\n",
              "       [ 3,  4,  5,  6],\n",
              "       [ 5,  6,  7,  8]])"
            ]
          },
          "metadata": {
            "tags": []
          },
          "execution_count": 32
        }
      ]
    },
    {
      "cell_type": "code",
      "metadata": {
        "colab": {
          "base_uri": "https://localhost:8080/"
        },
        "id": "central-invite",
        "outputId": "7c084b89-40dd-42cf-f404-550ff891314a"
      },
      "source": [
        "# Copy a portion of arr2 to arr2b\n",
        "arr2b = arr2[:2, :2].copy()\n",
        "arr2b[:1, :1] = 126\n",
        "arr2"
      ],
      "id": "central-invite",
      "execution_count": 33,
      "outputs": [
        {
          "output_type": "execute_result",
          "data": {
            "text/plain": [
              "array([[10,  2,  3,  4],\n",
              "       [ 3,  4,  5,  6],\n",
              "       [ 5,  6,  7,  8]])"
            ]
          },
          "metadata": {
            "tags": []
          },
          "execution_count": 33
        }
      ]
    },
    {
      "cell_type": "markdown",
      "metadata": {
        "id": "recreational-census"
      },
      "source": [
        "<br><br>\n",
        "## **6. Reshaping and Flattening Multidimensional arrays**"
      ],
      "id": "recreational-census"
    },
    {
      "cell_type": "code",
      "metadata": {
        "colab": {
          "base_uri": "https://localhost:8080/"
        },
        "id": "center-milwaukee",
        "outputId": "a3808497-3acd-405b-f5f6-d17517a4f2db"
      },
      "source": [
        "# Reshape a 3X4 array to 4X3 array\n",
        "arr2.reshape(4, 3)"
      ],
      "id": "center-milwaukee",
      "execution_count": 34,
      "outputs": [
        {
          "output_type": "execute_result",
          "data": {
            "text/plain": [
              "array([[10,  2,  3],\n",
              "       [ 4,  3,  4],\n",
              "       [ 5,  6,  5],\n",
              "       [ 6,  7,  8]])"
            ]
          },
          "metadata": {
            "tags": []
          },
          "execution_count": 34
        }
      ]
    },
    {
      "cell_type": "markdown",
      "metadata": {
        "id": "cultural-stewart"
      },
      "source": [
        "<br> \n",
        "### **6.1 What is the difference between flatten() and ravel()?**\n",
        "flatten() creates a copy of the parent array and transforms it into 1-d array whereas ravel() creates a reference to parent array and transforms it into 1-d array."
      ],
      "id": "cultural-stewart"
    },
    {
      "cell_type": "code",
      "metadata": {
        "colab": {
          "base_uri": "https://localhost:8080/"
        },
        "id": "large-combination",
        "outputId": "a59ecc61-6b48-4918-eda5-c04ca17ecf73"
      },
      "source": [
        "# Flatten it to a 1d array\n",
        "arr2.flatten()"
      ],
      "id": "large-combination",
      "execution_count": 35,
      "outputs": [
        {
          "output_type": "execute_result",
          "data": {
            "text/plain": [
              "array([10,  2,  3,  4,  3,  4,  5,  6,  5,  6,  7,  8])"
            ]
          },
          "metadata": {
            "tags": []
          },
          "execution_count": 35
        }
      ]
    },
    {
      "cell_type": "code",
      "metadata": {
        "colab": {
          "base_uri": "https://localhost:8080/"
        },
        "id": "suited-method",
        "outputId": "83b63809-1d19-4567-a743-b3e668a307f4"
      },
      "source": [
        "# Changing the flattened array does not change parent\n",
        "b1 = arr2.flatten()\n",
        "b1[0] = 85\n",
        "arr2"
      ],
      "id": "suited-method",
      "execution_count": 36,
      "outputs": [
        {
          "output_type": "execute_result",
          "data": {
            "text/plain": [
              "array([[10,  2,  3,  4],\n",
              "       [ 3,  4,  5,  6],\n",
              "       [ 5,  6,  7,  8]])"
            ]
          },
          "metadata": {
            "tags": []
          },
          "execution_count": 36
        }
      ]
    },
    {
      "cell_type": "code",
      "metadata": {
        "colab": {
          "base_uri": "https://localhost:8080/"
        },
        "id": "characteristic-volleyball",
        "outputId": "a30e3302-17c5-4ee4-afdd-20399f13cfe8"
      },
      "source": [
        "# Changing the raveled array changes the parent also.\n",
        "b2 = arr2.ravel()\n",
        "b2[0] = 85\n",
        "arr2"
      ],
      "id": "characteristic-volleyball",
      "execution_count": 37,
      "outputs": [
        {
          "output_type": "execute_result",
          "data": {
            "text/plain": [
              "array([[85,  2,  3,  4],\n",
              "       [ 3,  4,  5,  6],\n",
              "       [ 5,  6,  7,  8]])"
            ]
          },
          "metadata": {
            "tags": []
          },
          "execution_count": 37
        }
      ]
    },
    {
      "cell_type": "markdown",
      "metadata": {
        "id": "adapted-french"
      },
      "source": [
        "<br><br> \n",
        "## **7. How to create sequences, repetitions and random numbers using numpy?**"
      ],
      "id": "adapted-french"
    },
    {
      "cell_type": "code",
      "metadata": {
        "colab": {
          "base_uri": "https://localhost:8080/"
        },
        "id": "competitive-reminder",
        "outputId": "fef76423-1771-483b-b11e-3db9cc8bcdaf"
      },
      "source": [
        "# Lower limit is 0 to be default\n",
        "print(np.arange(10))\n",
        "\n",
        "# 0 to 15\n",
        "print(np.arange(0, 15))\n",
        "\n",
        "# 0 to 9 with step of 2\n",
        "print(np.arange(0, 9, 2))\n",
        "\n",
        "# 10 to 1, decreasing order\n",
        "print(np.arange(10, 0, -1))"
      ],
      "id": "competitive-reminder",
      "execution_count": 38,
      "outputs": [
        {
          "output_type": "stream",
          "text": [
            "[0 1 2 3 4 5 6 7 8 9]\n",
            "[ 0  1  2  3  4  5  6  7  8  9 10 11 12 13 14]\n",
            "[0 2 4 6 8]\n",
            "[10  9  8  7  6  5  4  3  2  1]\n"
          ],
          "name": "stdout"
        }
      ]
    },
    {
      "cell_type": "code",
      "metadata": {
        "colab": {
          "base_uri": "https://localhost:8080/"
        },
        "id": "consecutive-korean",
        "outputId": "9a414a66-029f-404d-ba37-0fd7996d7b5b"
      },
      "source": [
        "# Create a numpy array with custom number of items between start and end\n",
        "\n",
        "# Start with 1 and end at 50\n",
        "np.linspace(start = 1, stop = 50, num = 10, dtype = int)   # Creates 64 bit int by default"
      ],
      "id": "consecutive-korean",
      "execution_count": 39,
      "outputs": [
        {
          "output_type": "execute_result",
          "data": {
            "text/plain": [
              "array([ 1,  6, 11, 17, 22, 28, 33, 39, 44, 50])"
            ]
          },
          "metadata": {
            "tags": []
          },
          "execution_count": 39
        }
      ]
    },
    {
      "cell_type": "code",
      "metadata": {
        "colab": {
          "base_uri": "https://localhost:8080/"
        },
        "id": "collect-tunnel",
        "outputId": "1f517233-8ec2-4841-fc7c-254a45766e35"
      },
      "source": [
        "# Limit the number of digits after decimal to 2\n",
        "np.set_printoptions(precision = 2)\n",
        "\n",
        "# Start at 10^1 and end at 10^50\n",
        "np.logspace(start=1, stop=50, num=10, base=10)"
      ],
      "id": "collect-tunnel",
      "execution_count": 40,
      "outputs": [
        {
          "output_type": "execute_result",
          "data": {
            "text/plain": [
              "array([1.00e+01, 2.78e+06, 7.74e+11, 2.15e+17, 5.99e+22, 1.67e+28,\n",
              "       4.64e+33, 1.29e+39, 3.59e+44, 1.00e+50])"
            ]
          },
          "metadata": {
            "tags": []
          },
          "execution_count": 40
        }
      ]
    },
    {
      "cell_type": "code",
      "metadata": {
        "colab": {
          "base_uri": "https://localhost:8080/"
        },
        "id": "biological-national",
        "outputId": "3ae20184-1a86-474d-d93c-4d00034397cf"
      },
      "source": [
        "# Creates multidimensional array containing all zeros\n",
        "np.zeros([2, 2])"
      ],
      "id": "biological-national",
      "execution_count": 41,
      "outputs": [
        {
          "output_type": "execute_result",
          "data": {
            "text/plain": [
              "array([[0., 0.],\n",
              "       [0., 0.]])"
            ]
          },
          "metadata": {
            "tags": []
          },
          "execution_count": 41
        }
      ]
    },
    {
      "cell_type": "code",
      "metadata": {
        "colab": {
          "base_uri": "https://localhost:8080/"
        },
        "id": "precise-saying",
        "outputId": "e7c52f86-acfa-44c2-c558-7091a35e835b"
      },
      "source": [
        "# Create multidimensional array containing all ones\n",
        "np.ones([5, 2])"
      ],
      "id": "precise-saying",
      "execution_count": 42,
      "outputs": [
        {
          "output_type": "execute_result",
          "data": {
            "text/plain": [
              "array([[1., 1.],\n",
              "       [1., 1.],\n",
              "       [1., 1.],\n",
              "       [1., 1.],\n",
              "       [1., 1.]])"
            ]
          },
          "metadata": {
            "tags": []
          },
          "execution_count": 42
        }
      ]
    },
    {
      "cell_type": "markdown",
      "metadata": {
        "id": "incorporated-exhibit"
      },
      "source": [
        " \n",
        "### **7.1 How to create repeating sequences?**"
      ],
      "id": "incorporated-exhibit"
    },
    {
      "cell_type": "code",
      "metadata": {
        "colab": {
          "base_uri": "https://localhost:8080/"
        },
        "id": "cosmetic-kitchen",
        "outputId": "68dc3bd7-0e87-46ae-c0b6-efc12f7da0d8"
      },
      "source": [
        "a = [1, 2, 3]\n",
        "\n",
        "# Repeat whole of 'a' two times\n",
        "print('Tile:', np.tile(a, 2))\n",
        "\n",
        "# Repeat each element of 'a' two times\n",
        "print('Repeat:', np.repeat(a, 2)) "
      ],
      "id": "cosmetic-kitchen",
      "execution_count": 43,
      "outputs": [
        {
          "output_type": "stream",
          "text": [
            "Tile: [1 2 3 1 2 3]\n",
            "Repeat: [1 1 2 2 3 3]\n"
          ],
          "name": "stdout"
        }
      ]
    },
    {
      "cell_type": "markdown",
      "metadata": {
        "id": "welsh-seafood"
      },
      "source": [
        "<br><br> \n",
        "#### **Doing a little more with tile() method. Some knowledge of matrices and ndarray attributes in general will be a very useful aid.**\n",
        "Let,\n",
        "$$A =\n",
        " \\begin{bmatrix}\n",
        "  1 & 2 & 3 \\\\\n",
        "  4 & 5 & 6 \\\\\n",
        " \\end{bmatrix}$$\n",
        "\n",
        "<br>For example,<br>\n",
        "$$>>>np.tile(A, (3,2))$$\n",
        "While performing tile( ), think of the whole array as a single element and create a matrix of the shape as specified in the function with each element as the matrix itself.\n",
        "$$\n",
        " \\begin{bmatrix}\n",
        "  A & A & A \\\\\n",
        "  A & A & A \\\\\n",
        " \\end{bmatrix}$$\n",
        "\n",
        "<br> Replace each A as,\n",
        "$$ \n",
        "\\begin{bmatrix}\n",
        " \\begin{bmatrix}\n",
        "         1 & 2 & 3 \\\\\n",
        "         4 & 5 & 6 \\\\\n",
        "  \\end{bmatrix}\n",
        " & \n",
        " \\begin{bmatrix}\n",
        "         1 & 2 & 3 \\\\\n",
        "         4 & 5 & 6 \\\\\n",
        "  \\end{bmatrix}\n",
        "   \\\\\n",
        " \\begin{bmatrix}\n",
        "         1 & 2 & 3 \\\\\n",
        "         4 & 5 & 6 \\\\\n",
        "  \\end{bmatrix}\n",
        " & \n",
        " \\begin{bmatrix}\n",
        "         1 & 2 & 3 \\\\\n",
        "         4 & 5 & 6 \\\\\n",
        "  \\end{bmatrix}\n",
        "\\\\\n",
        " \\begin{bmatrix}\n",
        "         1 & 2 & 3 \\\\\n",
        "         4 & 5 & 6 \\\\\n",
        "  \\end{bmatrix}\n",
        " & \n",
        " \\begin{bmatrix}\n",
        "         1 & 2 & 3 \\\\\n",
        "         4 & 5 & 6 \\\\\n",
        "  \\end{bmatrix}\n",
        " \\\\\n",
        "\\end{bmatrix}\n",
        "$$ \n",
        "\n",
        "Remove the inside brackets.<br>\n",
        "$$\n",
        "\\begin{bmatrix}\n",
        "    1 & 2 & 3 & 1 & 2 & 3 \\\\\n",
        "    4 & 5 & 6 & 4 & 5 & 6 \\\\\n",
        "    1 & 2 & 3 & 1 & 2 & 3 \\\\\n",
        "    4 & 5 & 6 & 4 & 5 & 6 \\\\\n",
        "    1 & 2 & 3 & 1 & 2 & 3 \\\\\n",
        "    4 & 5 & 6 & 4 & 5 & 6 \\\\\n",
        "\\end{bmatrix}\n",
        "$$\n",
        "<br>\n",
        "**Note: The dimension of the matrix doesn't change.**<br>\n",
        "*Refer to the documentation of tile() method for more help.*"
      ],
      "id": "welsh-seafood"
    },
    {
      "cell_type": "code",
      "metadata": {
        "colab": {
          "base_uri": "https://localhost:8080/"
        },
        "id": "wrong-friday",
        "outputId": "4d972596-a8cf-4ef6-9681-e9df9e05af4e"
      },
      "source": [
        "b = np.array([[1, 2, 3], [4, 5, 6]])\n",
        "b"
      ],
      "id": "wrong-friday",
      "execution_count": 44,
      "outputs": [
        {
          "output_type": "execute_result",
          "data": {
            "text/plain": [
              "array([[1, 2, 3],\n",
              "       [4, 5, 6]])"
            ]
          },
          "metadata": {
            "tags": []
          },
          "execution_count": 44
        }
      ]
    },
    {
      "cell_type": "code",
      "metadata": {
        "colab": {
          "base_uri": "https://localhost:8080/"
        },
        "id": "superb-audience",
        "outputId": "cc5cbd54-89f2-4dff-ee3e-c787fb71b780"
      },
      "source": [
        "np.tile(b, (3, 2))"
      ],
      "id": "superb-audience",
      "execution_count": 45,
      "outputs": [
        {
          "output_type": "execute_result",
          "data": {
            "text/plain": [
              "array([[1, 2, 3, 1, 2, 3],\n",
              "       [4, 5, 6, 4, 5, 6],\n",
              "       [1, 2, 3, 1, 2, 3],\n",
              "       [4, 5, 6, 4, 5, 6],\n",
              "       [1, 2, 3, 1, 2, 3],\n",
              "       [4, 5, 6, 4, 5, 6]])"
            ]
          },
          "metadata": {
            "tags": []
          },
          "execution_count": 45
        }
      ]
    },
    {
      "cell_type": "code",
      "metadata": {
        "colab": {
          "base_uri": "https://localhost:8080/"
        },
        "id": "public-episode",
        "outputId": "0e1fa2ed-49c5-4f50-c7c8-ed537c2fca09"
      },
      "source": [
        "a = np.array([0, 1, 2])\n",
        "a"
      ],
      "id": "public-episode",
      "execution_count": 46,
      "outputs": [
        {
          "output_type": "execute_result",
          "data": {
            "text/plain": [
              "array([0, 1, 2])"
            ]
          },
          "metadata": {
            "tags": []
          },
          "execution_count": 46
        }
      ]
    },
    {
      "cell_type": "code",
      "metadata": {
        "colab": {
          "base_uri": "https://localhost:8080/"
        },
        "id": "hungarian-passport",
        "outputId": "d8347e3f-2475-432d-a2b9-8e5df3c6b9e8"
      },
      "source": [
        "np.tile(a, (2, 1))"
      ],
      "id": "hungarian-passport",
      "execution_count": 47,
      "outputs": [
        {
          "output_type": "execute_result",
          "data": {
            "text/plain": [
              "array([[0, 1, 2],\n",
              "       [0, 1, 2]])"
            ]
          },
          "metadata": {
            "tags": []
          },
          "execution_count": 47
        }
      ]
    },
    {
      "cell_type": "markdown",
      "metadata": {
        "id": "meaning-grass"
      },
      "source": [
        "### **7.2 How to generate random numbers?**"
      ],
      "id": "meaning-grass"
    },
    {
      "cell_type": "code",
      "metadata": {
        "colab": {
          "base_uri": "https://localhost:8080/"
        },
        "id": "recognized-trail",
        "outputId": "740b9bd6-8485-4844-a031-beb304462393"
      },
      "source": [
        "# Random numbers between [0, 1) of shape 2, 2\n",
        "print(np.random.rand(2, 2))\n",
        "\n",
        "# Normal distribution with mean = 0 and variance = 1 of shape 2, 2\n",
        "print(np.random.randn(2, 2))\n",
        "\n",
        "# Random integers between [0, 10) of shape 2, 2\n",
        "print(np.random.randint(0, 10, size = [2, 2]))\n",
        "\n",
        "# One random number between [0, 1)\n",
        "print(np.random.random())\n",
        "\n",
        "# Random number between [0, 1) of shape 2, 2\n",
        "print(np.random.random(size = [2, 2]))\n",
        "\n",
        "# Pick 10 items from a given list with equal probability\n",
        "print(np.random.choice(['a', 'e', 'i', 'o', 'u'], size = 10))\n",
        "\n",
        "# Pick 10 items from a given list with a predefined probability\n",
        "print(np.random.choice(['a', 'e', 'i', 'o', 'u'], size = 10, p = [0.3, 0.2, 0.1, 0.2, 0.2]))\n"
      ],
      "id": "recognized-trail",
      "execution_count": 48,
      "outputs": [
        {
          "output_type": "stream",
          "text": [
            "[[0.39 0.  ]\n",
            " [0.18 0.55]]\n",
            "[[ 1.62  1.11]\n",
            " [ 1.12 -2.41]]\n",
            "[[9 4]\n",
            " [3 1]]\n",
            "0.8869637804261532\n",
            "[[0.44 0.6 ]\n",
            " [0.52 0.27]]\n",
            "['e' 'o' 'o' 'i' 'a' 'u' 'i' 'o' 'e' 'u']\n",
            "['e' 'e' 'e' 'o' 'u' 'u' 'i' 'a' 'e' 'a']\n"
          ],
          "name": "stdout"
        }
      ]
    },
    {
      "cell_type": "code",
      "metadata": {
        "colab": {
          "base_uri": "https://localhost:8080/"
        },
        "id": "measured-glory",
        "outputId": "bbc6e840-cefa-494f-ac11-2a57f5b4bdcf"
      },
      "source": [
        "# Create the random state\n",
        "rn = np.random.RandomState(100)\n",
        "\n",
        "# Create random numbers between [0, 1) of shape 2, 2\n",
        "print(rn.rand(2, 2))"
      ],
      "id": "measured-glory",
      "execution_count": 49,
      "outputs": [
        {
          "output_type": "stream",
          "text": [
            "[[0.54 0.28]\n",
            " [0.42 0.84]]\n"
          ],
          "name": "stdout"
        }
      ]
    },
    {
      "cell_type": "code",
      "metadata": {
        "colab": {
          "base_uri": "https://localhost:8080/"
        },
        "id": "elder-rental",
        "outputId": "2fe79a2e-5294-4287-dbcd-6869e1415c52"
      },
      "source": [
        "# Set the random seed\n",
        "np.random.seed(100)\n",
        "\n",
        "# Create random numbers between [0, 1) of shape 2, 2\n",
        "print(np.random.rand(2, 2))"
      ],
      "id": "elder-rental",
      "execution_count": 50,
      "outputs": [
        {
          "output_type": "stream",
          "text": [
            "[[0.54 0.28]\n",
            " [0.42 0.84]]\n"
          ],
          "name": "stdout"
        }
      ]
    },
    {
      "cell_type": "markdown",
      "metadata": {
        "id": "endless-rolling"
      },
      "source": [
        "\n",
        "### **7.3 How to get the unique items and the counts?**"
      ],
      "id": "endless-rolling"
    },
    {
      "cell_type": "code",
      "metadata": {
        "colab": {
          "base_uri": "https://localhost:8080/"
        },
        "id": "external-policy",
        "outputId": "cda7ad89-43f5-4820-88c8-989b5ded4c22"
      },
      "source": [
        "# Create random integers of size 10 between [0, 10)\n",
        "np.random.seed(100)\n",
        "arr_rand = np.random.randint(0, 10, size = 10)\n",
        "print(arr_rand)"
      ],
      "id": "external-policy",
      "execution_count": 51,
      "outputs": [
        {
          "output_type": "stream",
          "text": [
            "[8 8 3 7 7 0 4 2 5 2]\n"
          ],
          "name": "stdout"
        }
      ]
    },
    {
      "cell_type": "code",
      "metadata": {
        "colab": {
          "base_uri": "https://localhost:8080/"
        },
        "id": "dense-ukraine",
        "outputId": "3d396f33-ac7a-4b6f-aa34-57fb76d3aba4"
      },
      "source": [
        "# Get the unique items and their counts\n",
        "uniq, counts = np.unique(arr_rand, return_counts = True)\n",
        "print('Unique items : ', uniq)\n",
        "print('Counts       : ', counts)"
      ],
      "id": "dense-ukraine",
      "execution_count": 52,
      "outputs": [
        {
          "output_type": "stream",
          "text": [
            "Unique items :  [0 2 3 4 5 7 8]\n",
            "Counts       :  [1 2 1 1 1 2 2]\n"
          ],
          "name": "stdout"
        }
      ]
    }
  ]
}