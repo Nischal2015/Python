{
 "cells": [
  {
   "cell_type": "markdown",
   "id": "statewide-raise",
   "metadata": {},
   "source": [
    "# **100 NumPy Exercises**"
   ]
  },
  {
   "cell_type": "markdown",
   "id": "indoor-emission",
   "metadata": {},
   "source": [
    "**1. Import the numpy package under the name np**"
   ]
  },
  {
   "cell_type": "code",
   "execution_count": 1,
   "id": "arbitrary-nursing",
   "metadata": {},
   "outputs": [],
   "source": [
    "import numpy as np"
   ]
  },
  {
   "cell_type": "markdown",
   "id": "colonial-stable",
   "metadata": {},
   "source": [
    "<br><br>\n",
    "**2. Print the numpy version and the configuration**"
   ]
  },
  {
   "cell_type": "code",
   "execution_count": 57,
   "id": "ordinary-patch",
   "metadata": {},
   "outputs": [
    {
     "name": "stdout",
     "output_type": "stream",
     "text": [
      "1.20.1\n",
      "blas_mkl_info:\n",
      "  NOT AVAILABLE\n",
      "blis_info:\n",
      "  NOT AVAILABLE\n",
      "openblas_info:\n",
      "    libraries = ['openblas', 'openblas']\n",
      "    library_dirs = ['/usr/local/lib']\n",
      "    language = c\n",
      "    define_macros = [('HAVE_CBLAS', None)]\n",
      "blas_opt_info:\n",
      "    libraries = ['openblas', 'openblas']\n",
      "    library_dirs = ['/usr/local/lib']\n",
      "    language = c\n",
      "    define_macros = [('HAVE_CBLAS', None)]\n",
      "lapack_mkl_info:\n",
      "  NOT AVAILABLE\n",
      "openblas_lapack_info:\n",
      "    libraries = ['openblas', 'openblas']\n",
      "    library_dirs = ['/usr/local/lib']\n",
      "    language = c\n",
      "    define_macros = [('HAVE_CBLAS', None)]\n",
      "lapack_opt_info:\n",
      "    libraries = ['openblas', 'openblas']\n",
      "    library_dirs = ['/usr/local/lib']\n",
      "    language = c\n",
      "    define_macros = [('HAVE_CBLAS', None)]\n"
     ]
    }
   ],
   "source": [
    "print(np.__version__)\n",
    "np.show_config()"
   ]
  },
  {
   "cell_type": "markdown",
   "id": "architectural-duplicate",
   "metadata": {},
   "source": [
    "<br><br>\n",
    "**3. Create a null vector of size 10**"
   ]
  },
  {
   "cell_type": "code",
   "execution_count": 6,
   "id": "taken-triangle",
   "metadata": {},
   "outputs": [
    {
     "data": {
      "text/plain": [
       "array([0., 0., 0., 0., 0., 0., 0., 0., 0., 0.])"
      ]
     },
     "execution_count": 6,
     "metadata": {},
     "output_type": "execute_result"
    }
   ],
   "source": [
    "np.zeros(10)"
   ]
  },
  {
   "cell_type": "markdown",
   "id": "african-maintenance",
   "metadata": {},
   "source": [
    "<br><br>\n",
    "**4. How to find the memory of any array size**"
   ]
  },
  {
   "cell_type": "code",
   "execution_count": 9,
   "id": "after-confidentiality",
   "metadata": {},
   "outputs": [
    {
     "name": "stdout",
     "output_type": "stream",
     "text": [
      "48 bytes\n"
     ]
    }
   ],
   "source": [
    "a = np.array([1, 2, 3, 4, 5, 6])\n",
    "\n",
    "print(a.size * a.itemsize, \"bytes\")"
   ]
  },
  {
   "cell_type": "markdown",
   "id": "minus-simulation",
   "metadata": {},
   "source": [
    "<br><br>\n",
    "**5. How to get the documentation of the numpy add function from the command line?**"
   ]
  },
  {
   "cell_type": "code",
   "execution_count": 11,
   "id": "regional-flight",
   "metadata": {},
   "outputs": [
    {
     "name": "stdout",
     "output_type": "stream",
     "text": [
      "Help on ufunc:\n",
      "\n",
      "add = <ufunc 'add'>\n",
      "    add(x1, x2, /, out=None, *, where=True, casting='same_kind', order='K', dtype=None, subok=True[, signature, extobj])\n",
      "    \n",
      "    Add arguments element-wise.\n",
      "    \n",
      "    Parameters\n",
      "    ----------\n",
      "    x1, x2 : array_like\n",
      "        The arrays to be added.\n",
      "        If ``x1.shape != x2.shape``, they must be broadcastable to a common\n",
      "        shape (which becomes the shape of the output).\n",
      "    out : ndarray, None, or tuple of ndarray and None, optional\n",
      "        A location into which the result is stored. If provided, it must have\n",
      "        a shape that the inputs broadcast to. If not provided or None,\n",
      "        a freshly-allocated array is returned. A tuple (possible only as a\n",
      "        keyword argument) must have length equal to the number of outputs.\n",
      "    where : array_like, optional\n",
      "        This condition is broadcast over the input. At locations where the\n",
      "        condition is True, the `out` array will be set to the ufunc result.\n",
      "        Elsewhere, the `out` array will retain its original value.\n",
      "        Note that if an uninitialized `out` array is created via the default\n",
      "        ``out=None``, locations within it where the condition is False will\n",
      "        remain uninitialized.\n",
      "    **kwargs\n",
      "        For other keyword-only arguments, see the\n",
      "        :ref:`ufunc docs <ufuncs.kwargs>`.\n",
      "    \n",
      "    Returns\n",
      "    -------\n",
      "    add : ndarray or scalar\n",
      "        The sum of `x1` and `x2`, element-wise.\n",
      "        This is a scalar if both `x1` and `x2` are scalars.\n",
      "    \n",
      "    Notes\n",
      "    -----\n",
      "    Equivalent to `x1` + `x2` in terms of array broadcasting.\n",
      "    \n",
      "    Examples\n",
      "    --------\n",
      "    >>> np.add(1.0, 4.0)\n",
      "    5.0\n",
      "    >>> x1 = np.arange(9.0).reshape((3, 3))\n",
      "    >>> x2 = np.arange(3.0)\n",
      "    >>> np.add(x1, x2)\n",
      "    array([[  0.,   2.,   4.],\n",
      "           [  3.,   5.,   7.],\n",
      "           [  6.,   8.,  10.]])\n",
      "    \n",
      "    The ``+`` operator can be used as a shorthand for ``np.add`` on ndarrays.\n",
      "    \n",
      "    >>> x1 = np.arange(9.0).reshape((3, 3))\n",
      "    >>> x2 = np.arange(3.0)\n",
      "    >>> x1 + x2\n",
      "    array([[ 0.,  2.,  4.],\n",
      "           [ 3.,  5.,  7.],\n",
      "           [ 6.,  8., 10.]])\n",
      "\n"
     ]
    }
   ],
   "source": [
    "help(np.add)    # np.add?"
   ]
  },
  {
   "cell_type": "markdown",
   "id": "unusual-silver",
   "metadata": {},
   "source": [
    "<br><br>\n",
    "**6. Create a null vector of size 10 but the fifth value which is 1**"
   ]
  },
  {
   "cell_type": "code",
   "execution_count": 12,
   "id": "average-meeting",
   "metadata": {},
   "outputs": [
    {
     "data": {
      "text/plain": [
       "array([0., 0., 0., 0., 1., 0., 0., 0., 0., 0.])"
      ]
     },
     "execution_count": 12,
     "metadata": {},
     "output_type": "execute_result"
    }
   ],
   "source": [
    "null_array = np.zeros(10)\n",
    "null_array[4] = 1\n",
    "null_array"
   ]
  },
  {
   "cell_type": "markdown",
   "id": "stuffed-delhi",
   "metadata": {},
   "source": [
    "<br><br>\n",
    "**7. Create a vector with values ranging from 10 to 49**"
   ]
  },
  {
   "cell_type": "code",
   "execution_count": 13,
   "id": "closed-queens",
   "metadata": {},
   "outputs": [
    {
     "data": {
      "text/plain": [
       "array([10, 11, 12, 13, 14, 15, 16, 17, 18, 19, 20, 21, 22, 23, 24, 25, 26,\n",
       "       27, 28, 29, 30, 31, 32, 33, 34, 35, 36, 37, 38, 39, 40, 41, 42, 43,\n",
       "       44, 45, 46, 47, 48, 49])"
      ]
     },
     "execution_count": 13,
     "metadata": {},
     "output_type": "execute_result"
    }
   ],
   "source": [
    "np.arange(10, 50)"
   ]
  },
  {
   "cell_type": "markdown",
   "id": "signal-nothing",
   "metadata": {},
   "source": [
    "<br><br>\n",
    "**8. Reverse a vector (first element becomes last)**"
   ]
  },
  {
   "cell_type": "code",
   "execution_count": 58,
   "id": "norman-recorder",
   "metadata": {},
   "outputs": [
    {
     "name": "stdout",
     "output_type": "stream",
     "text": [
      "a: [0 1 2 3 4 5 6 7 8 9]\n",
      "b: [9 8 7 6 5 4 3 2 1 0]\n"
     ]
    }
   ],
   "source": [
    "a = np.arange(10)\n",
    "print(\"a:\", a)\n",
    "b = a[::-1]\n",
    "print(\"b:\", b)"
   ]
  },
  {
   "cell_type": "markdown",
   "id": "soviet-major",
   "metadata": {},
   "source": [
    "<br><br>\n",
    "**9. Create a 3X3 matrix with values ranging from 0 to 8**"
   ]
  },
  {
   "cell_type": "code",
   "execution_count": 59,
   "id": "vocal-waste",
   "metadata": {},
   "outputs": [
    {
     "data": {
      "text/plain": [
       "array([[0, 1, 2],\n",
       "       [3, 4, 5],\n",
       "       [6, 7, 8]])"
      ]
     },
     "execution_count": 59,
     "metadata": {},
     "output_type": "execute_result"
    }
   ],
   "source": [
    "np.arange(9).reshape(3, 3)"
   ]
  },
  {
   "cell_type": "markdown",
   "id": "widespread-karen",
   "metadata": {},
   "source": [
    "<br><br>\n",
    "**10. Find indices of non-zero elements from \\[1, 2, 0, 0, 4, 0\\]**"
   ]
  },
  {
   "cell_type": "code",
   "execution_count": 61,
   "id": "grateful-laugh",
   "metadata": {},
   "outputs": [
    {
     "name": "stdout",
     "output_type": "stream",
     "text": [
      "(array([0, 1, 4]),)\n",
      "(array([0, 1, 4]),)\n"
     ]
    }
   ],
   "source": [
    "# My first approach\n",
    "my_list = np.array([1, 2, 0, 0, 4, 0])\n",
    "print(np.where(my_list != 0))\n",
    "\n",
    "# Second approach (better approach)\n",
    "nz = np.nonzero([1, 2, 0, 0, 4, 0])\n",
    "print(nz)"
   ]
  },
  {
   "cell_type": "markdown",
   "id": "differential-taxation",
   "metadata": {},
   "source": [
    "<br><br>\n",
    "**11. Create a 3X3 identity matrix**"
   ]
  },
  {
   "cell_type": "code",
   "execution_count": 45,
   "id": "animated-hours",
   "metadata": {},
   "outputs": [
    {
     "data": {
      "text/plain": [
       "array([[1., 0., 0.],\n",
       "       [0., 1., 0.],\n",
       "       [0., 0., 1.]])"
      ]
     },
     "execution_count": 45,
     "metadata": {},
     "output_type": "execute_result"
    }
   ],
   "source": [
    "np.eye(3)"
   ]
  },
  {
   "cell_type": "markdown",
   "id": "ranking-canada",
   "metadata": {},
   "source": [
    "<br><br>\n",
    "**12. Create a 3x3x3 array with random values**"
   ]
  },
  {
   "cell_type": "code",
   "execution_count": 67,
   "id": "bored-modeling",
   "metadata": {},
   "outputs": [
    {
     "name": "stdout",
     "output_type": "stream",
     "text": [
      "First:\n",
      "[[[0.31180094 0.76902631 0.15992744]\n",
      "  [0.38015128 0.96063063 0.19086115]\n",
      "  [0.90208944 0.51419093 0.09986331]]\n",
      "\n",
      " [[0.13207861 0.53532195 0.94692288]\n",
      "  [0.63998149 0.40074566 0.50727587]\n",
      "  [0.92481181 0.3901461  0.56887901]]\n",
      "\n",
      " [[0.58059977 0.35420787 0.78793575]\n",
      "  [0.19997606 0.63940674 0.68521915]\n",
      "  [0.27027342 0.10231732 0.92286036]]]\n",
      "\n",
      "Second:\n",
      "[[[0.84986084 0.63537653 0.55497935]\n",
      "  [0.30746476 0.72979939 0.8509643 ]\n",
      "  [0.82625781 0.19323847 0.9429851 ]]\n",
      "\n",
      " [[0.1722983  0.64256412 0.39560428]\n",
      "  [0.60937098 0.88264907 0.24668152]\n",
      "  [0.30073906 0.39232215 0.24747531]]\n",
      "\n",
      " [[0.40384569 0.20563774 0.21810007]\n",
      "  [0.60599349 0.43087069 0.96017514]\n",
      "  [0.95611299 0.86023235 0.17851564]]]\n"
     ]
    }
   ],
   "source": [
    "# First approach\n",
    "print(\"First:\", np.random.random(27).reshape(3, 3, 3), sep = \"\\n\")\n",
    "\n",
    "# Second approrach\n",
    "print(\"\\nSecond:\", np.random.random((3, 3, 3)), sep = \"\\n\")"
   ]
  },
  {
   "cell_type": "markdown",
   "id": "billion-humor",
   "metadata": {},
   "source": [
    "<br><br>\n",
    "**13. Create a 10x10 array with random values and find the minimum and maximum values**"
   ]
  },
  {
   "cell_type": "code",
   "execution_count": 68,
   "id": "blond-champion",
   "metadata": {},
   "outputs": [
    {
     "name": "stdout",
     "output_type": "stream",
     "text": [
      "Max: 0.9915953541963721 \tMin: 0.011479908886804169\n"
     ]
    }
   ],
   "source": [
    "random_matrix = np.random.random((10,10))\n",
    "print(\"Max:\", random_matrix.max(), \"\\tMin:\", random_matrix.min())"
   ]
  },
  {
   "cell_type": "markdown",
   "id": "auburn-proportion",
   "metadata": {},
   "source": [
    "<br><br>\n",
    "**14. Create a random vector of size and find the mean value**"
   ]
  },
  {
   "cell_type": "code",
   "execution_count": 56,
   "id": "eligible-deputy",
   "metadata": {},
   "outputs": [
    {
     "data": {
      "text/plain": [
       "0.4997230244303746"
      ]
     },
     "execution_count": 56,
     "metadata": {},
     "output_type": "execute_result"
    }
   ],
   "source": [
    "np.random.random(30).mean()"
   ]
  },
  {
   "cell_type": "markdown",
   "id": "serial-diamond",
   "metadata": {},
   "source": [
    "<br><br>\n",
    "**15. Create a 2d array with 1 on the border and 0 inside**"
   ]
  },
  {
   "cell_type": "code",
   "execution_count": null,
   "id": "outer-columbia",
   "metadata": {},
   "outputs": [],
   "source": []
  },
  {
   "cell_type": "markdown",
   "id": "acknowledged-halifax",
   "metadata": {},
   "source": [
    "<br><br>\n",
    "**16. How to add a border (filled with 0's) around an existing array?**"
   ]
  },
  {
   "cell_type": "code",
   "execution_count": null,
   "id": "electoral-reasoning",
   "metadata": {},
   "outputs": [],
   "source": []
  }
 ],
 "metadata": {
  "kernelspec": {
   "display_name": "Python 3",
   "language": "python",
   "name": "python3"
  },
  "language_info": {
   "codemirror_mode": {
    "name": "ipython",
    "version": 3
   },
   "file_extension": ".py",
   "mimetype": "text/x-python",
   "name": "python",
   "nbconvert_exporter": "python",
   "pygments_lexer": "ipython3",
   "version": "3.9.1"
  }
 },
 "nbformat": 4,
 "nbformat_minor": 5
}
