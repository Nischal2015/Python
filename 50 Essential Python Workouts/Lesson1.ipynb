{
 "cells": [
  {
   "cell_type": "markdown",
   "id": "separate-moral",
   "metadata": {},
   "source": [
    "# **1. Numeric Types**"
   ]
  },
  {
   "cell_type": "markdown",
   "id": "rolled-faculty",
   "metadata": {},
   "source": [
    "### **1.**<br>\n",
    "**For this exercise**<br>\n",
    "- Write a function (guessing_game) that takes no arguments.\n",
    "- When run, the function chooses a random integer between 0 and 100 (inclusive).\n",
    "- Then ask the user to guess what number has been chosen.\n",
    "- Each time the user enters a guess, the program indicates one of the following:<br>\n",
    "    -&nbsp; Too high<br>\n",
    "    -&nbsp; Too low<br>\n",
    "    -&nbsp; Just right<br>\n",
    "- If the user guesses correctly, the program exits. Otherwisem the user is asked to try again.\n",
    "- The program only exits after the user guisses correctly."
   ]
  },
  {
   "cell_type": "code",
   "execution_count": 1,
   "id": "italic-soccer",
   "metadata": {},
   "outputs": [],
   "source": [
    "# Imports the random module\n",
    "import random"
   ]
  },
  {
   "cell_type": "code",
   "execution_count": 31,
   "id": "sharp-resident",
   "metadata": {},
   "outputs": [
    {
     "name": "stdin",
     "output_type": "stream",
     "text": [
      "Enter your guess:  45\n"
     ]
    },
    {
     "name": "stdout",
     "output_type": "stream",
     "text": [
      "Too low.\n"
     ]
    },
    {
     "name": "stdin",
     "output_type": "stream",
     "text": [
      "Enter your guess:  70\n"
     ]
    },
    {
     "name": "stdout",
     "output_type": "stream",
     "text": [
      "Too low.\n"
     ]
    },
    {
     "name": "stdin",
     "output_type": "stream",
     "text": [
      "Enter your guess:  80\n"
     ]
    },
    {
     "name": "stdout",
     "output_type": "stream",
     "text": [
      "Too low.\n"
     ]
    },
    {
     "name": "stdin",
     "output_type": "stream",
     "text": [
      "Enter your guess:  90\n"
     ]
    },
    {
     "name": "stdout",
     "output_type": "stream",
     "text": [
      "Too high.\n"
     ]
    },
    {
     "name": "stdin",
     "output_type": "stream",
     "text": [
      "Enter your guess:  85\n"
     ]
    },
    {
     "name": "stdout",
     "output_type": "stream",
     "text": [
      "Too high.\n"
     ]
    },
    {
     "name": "stdin",
     "output_type": "stream",
     "text": [
      "Enter your guess:  75\n"
     ]
    },
    {
     "name": "stdout",
     "output_type": "stream",
     "text": [
      "Too low.\n"
     ]
    },
    {
     "name": "stdin",
     "output_type": "stream",
     "text": [
      "Enter your guess:  82\n"
     ]
    },
    {
     "name": "stdout",
     "output_type": "stream",
     "text": [
      "Just right.\n"
     ]
    }
   ],
   "source": [
    "# A function that generates random integer\n",
    "def guessing_game():\n",
    "    answer = random.randint(0, 100)\n",
    "    while True:\n",
    "    # Prompts user to enter the guess\n",
    "        guess = int(input(\"Enter your guess: \"))\n",
    "                \n",
    "        if guess > answer:\n",
    "            print(\"Too high.\")\n",
    "        \n",
    "        elif guess < answer:\n",
    "            print(\"Too low.\")\n",
    "        \n",
    "        else:\n",
    "            print(\"Just right.\")\n",
    "            break\n",
    "\n",
    "guessing_game()"
   ]
  },
  {
   "cell_type": "code",
   "execution_count": 32,
   "id": "increasing-concrete",
   "metadata": {},
   "outputs": [
    {
     "name": "stdin",
     "output_type": "stream",
     "text": [
      "Enter your guess:  63\n"
     ]
    },
    {
     "name": "stdout",
     "output_type": "stream",
     "text": [
      "63 is too high.\n"
     ]
    },
    {
     "name": "stdin",
     "output_type": "stream",
     "text": [
      "Enter your guess:  25\n"
     ]
    },
    {
     "name": "stdout",
     "output_type": "stream",
     "text": [
      "25 is too high.\n"
     ]
    },
    {
     "name": "stdin",
     "output_type": "stream",
     "text": [
      "Enter your guess:  12\n"
     ]
    },
    {
     "name": "stdout",
     "output_type": "stream",
     "text": [
      "12 is too high.\n",
      "Sorry you didn't guess in time.\n"
     ]
    }
   ],
   "source": [
    "# Modification of above program to give user only 3 chances to guess\n",
    "def guessing_game3():\n",
    "    answer3 = random.randint(0, 100)\n",
    "    count = 0\n",
    "    \n",
    "    while True:\n",
    "        guess3 = int(input(\"Enter your guess: \"))\n",
    "        \n",
    "        if guess3 > answer3:\n",
    "            print(f\"{guess3} is too high.\")\n",
    "            \n",
    "        elif guess3 < answer3:\n",
    "            print(f\"{guess3} is too low.\")\n",
    "            \n",
    "        else:\n",
    "            print(f\"{guess3} is just right.\")\n",
    "            break   \n",
    "        \n",
    "        count += 1\n",
    "        if count==3:\n",
    "            print(\"Sorry you didn't guess in time.\")\n",
    "            break\n",
    "            \n",
    "guessing_game3()"
   ]
  },
  {
   "cell_type": "markdown",
   "id": "congressional-promotion",
   "metadata": {},
   "source": [
    "<br><br>\n",
    "**2. Prints the sum of input number** "
   ]
  },
  {
   "cell_type": "code",
   "execution_count": 17,
   "id": "basic-illustration",
   "metadata": {},
   "outputs": [
    {
     "data": {
      "text/plain": [
       "18"
      ]
     },
     "execution_count": 17,
     "metadata": {},
     "output_type": "execute_result"
    }
   ],
   "source": [
    "def mysum(*nums):\n",
    "    \"\"\"\n",
    "    Returns the sum of the input numbers\n",
    "    >>> mysum(5, 2, 6, 1)\n",
    "    14\n",
    "    >>> mysum(2, 5, 1)\n",
    "    8\n",
    "    \"\"\"\n",
    "    total = 0\n",
    "    for num in nums:\n",
    "        total += num\n",
    "    return total\n",
    "\n",
    "mysum(*[5,6,7])"
   ]
  },
  {
   "cell_type": "markdown",
   "id": "speaking-finland",
   "metadata": {},
   "source": [
    "<br><br>\n",
    "**A program that takes in a list and number and add all the numbers together**"
   ]
  },
  {
   "cell_type": "code",
   "execution_count": 16,
   "id": "racial-messenger",
   "metadata": {},
   "outputs": [
    {
     "data": {
      "text/plain": [
       "73"
      ]
     },
     "execution_count": 16,
     "metadata": {},
     "output_type": "execute_result"
    }
   ],
   "source": [
    "def mysum(num_list, numbers):\n",
    "    total = 0\n",
    "    for number in num_list:\n",
    "        total += number\n",
    "    return total + numbers\n",
    "\n",
    "mysum([5,6,8,9], 45)"
   ]
  },
  {
   "cell_type": "markdown",
   "id": "ongoing-bracelet",
   "metadata": {},
   "source": [
    "<br><br>\n",
    "**A program that takes in a list the prints the average of the numbers in the list.**"
   ]
  },
  {
   "cell_type": "code",
   "execution_count": 22,
   "id": "organic-lawsuit",
   "metadata": {},
   "outputs": [
    {
     "data": {
      "text/plain": [
       "2.5"
      ]
     },
     "execution_count": 22,
     "metadata": {},
     "output_type": "execute_result"
    }
   ],
   "source": [
    "def my_mean(list_numbers):\n",
    "    \"\"\"\n",
    "    Returns the arithemetic mean of numbers in a list\n",
    "    >>> my_mean([1, 2, 3, 4])\n",
    "    2.5\n",
    "    >>> my_mean([9, 5])\n",
    "    7.0\n",
    "    \"\"\"\n",
    "    total = 0\n",
    "    for number in list_numbers:\n",
    "        total += number\n",
    "    return total / len(list_numbers)\n",
    "\n",
    "my_mean([1, 2, 3, 4])"
   ]
  },
  {
   "cell_type": "markdown",
   "id": "senior-circular",
   "metadata": {},
   "source": [
    "<br><br>\n",
    "**A program to print the maximum, minimum average length of words.**"
   ]
  },
  {
   "cell_type": "code",
   "execution_count": 86,
   "id": "scientific-substance",
   "metadata": {},
   "outputs": [
    {
     "data": {
      "text/plain": [
       "(9, 6, 7.0)"
      ]
     },
     "execution_count": 86,
     "metadata": {},
     "output_type": "execute_result"
    }
   ],
   "source": [
    "def info_words(list_words):\n",
    "    \"\"\"\n",
    "    Take a list of words and returns the maximum, minimum and average length of words\n",
    "    >>> info_words(['Python', 'C', 'Julia'])\n",
    "    (6, 1, 4.0)\n",
    "    \n",
    "    >>> info_words(['Youtube', 'Google', 'Wikepedia', 'Kaggle'])\n",
    "    (9, 6, 7.0)\n",
    "    \"\"\"\n",
    "    word_length = []\n",
    "    average_word_length = 0\n",
    "    for word in list_words:\n",
    "        word_length.append(len(word))\n",
    "        average_word_length += len(word)\n",
    "        \n",
    "    return (max(word_length), min(word_length), round(average_word_length / len(list_words), 0))\n",
    "\n",
    "info_words(['Youtube', 'Google', 'Wikepedia', 'Kaggle'])"
   ]
  },
  {
   "cell_type": "markdown",
   "id": "capable-powder",
   "metadata": {},
   "source": [
    "<br><br>\n",
    "**3. A function that continuously takes time from user to run 10 km rum and prints the average time over number of runs.**"
   ]
  },
  {
   "cell_type": "code",
   "execution_count": 24,
   "id": "decent-baltimore",
   "metadata": {},
   "outputs": [
    {
     "name": "stdin",
     "output_type": "stream",
     "text": [
      "Enter 10 km run time:  15\n",
      "Enter 10 km run time:  18\n",
      "Enter 10 km run time:  13\n",
      "Enter 10 km run time:  \n"
     ]
    },
    {
     "name": "stdout",
     "output_type": "stream",
     "text": [
      "Average of 15.33, over 3 runs\n"
     ]
    }
   ],
   "source": [
    "def run_timing():\n",
    "    \"\"\"\n",
    "    Asks the user repeadtedly for numeric input. Prints the average time and number of runs.\n",
    "    >>> Enter 10 km run time:  15\n",
    "    >>> Enter 10 km run time:  18\n",
    "    >>> Enter 10 km run time:  13\n",
    "    >>> Enter 10 km run time:  <enter>\n",
    "    Average of 15.33, over 3 runs\n",
    "    \"\"\"\n",
    "    total_time = 0.0\n",
    "    count_of_runs = 0\n",
    "    while True:\n",
    "        try:\n",
    "            time = float(input(\"Enter 10 km run time: \"))\n",
    "            \n",
    "        except ValueError:\n",
    "            try:\n",
    "                print(f\"Average of {total_time/count_of_runs:.2f}, over {count_of_runs} runs\")\n",
    "                \n",
    "            except ZeroDivisionError:\n",
    "                print(f\"Average of {total_time}, over {count_of_runs} runs\")\n",
    "                \n",
    "            break\n",
    "            \n",
    "        else:\n",
    "            total_time = total_time + time                  \n",
    "            count_of_runs += 1\n",
    "        \n",
    "run_timing()"
   ]
  },
  {
   "cell_type": "markdown",
   "id": "growing-court",
   "metadata": {},
   "source": [
    "<br><br>\n",
    "**3. A weird drill exercise regarding floating point** "
   ]
  },
  {
   "cell_type": "code",
   "execution_count": 43,
   "id": "egyptian-combine",
   "metadata": {},
   "outputs": [
    {
     "name": "stdout",
     "output_type": "stream",
     "text": [
      "4845.5\n"
     ]
    }
   ],
   "source": [
    "def program(float_number, before, after):\n",
    "    \"\"\"\n",
    "    Prints float_number with 'before' integer numbers and 'after' fraction numbers\n",
    "    >>> program(1234.5678, 2, 3)\n",
    "    34.567\n",
    "    >>> program(454845.564854, 4, 1)\n",
    "    4845.5\n",
    "    \"\"\"\n",
    "    # Integer part\n",
    "    integer = int(float_number % 10**before)\n",
    "    \n",
    "    # Fraction part\n",
    "    fraction = int((float_number - int(float_number)) * 10**after)\n",
    "    print(integer + fraction/10**after)\n",
    "    \n",
    "program(454845.564854, 4, 1)"
   ]
  },
  {
   "cell_type": "markdown",
   "id": "stuffed-partnership",
   "metadata": {},
   "source": [
    "<br><br>\n",
    "**Converts hexadecimal values to corresponding decimal values.**"
   ]
  },
  {
   "cell_type": "code",
   "execution_count": 60,
   "id": "advanced-strap",
   "metadata": {},
   "outputs": [
    {
     "name": "stdout",
     "output_type": "stream",
     "text": [
      "250\n"
     ]
    }
   ],
   "source": [
    "def hex_output(hex_number):\n",
    "    \"\"\"\n",
    "    Returns the decimal equivalent of hexadecimal number\n",
    "    >>> hex_output(\"75\")\n",
    "    117\n",
    "    \n",
    "    >>> hex_output(\"FA\")\n",
    "    250\n",
    "    \"\"\"\n",
    "    decimal_output = 0\n",
    "    for power, number in enumerate(reversed(hex_number)):\n",
    "        decimal_output += int(number, 16) * 16**power\n",
    "        \n",
    "    print(decimal_output)\n",
    "    \n",
    "hex_output(\"FA\")"
   ]
  },
  {
   "cell_type": "markdown",
   "id": "inappropriate-crawford",
   "metadata": {},
   "source": [
    "<br><br>\n",
    "**Write a program that asks the user for thier name and then produces a \"name triangle.\": the first letter of their name, then the first two letters, then the first three, and so forth, until the entire name is written on the final line.**<br>\n",
    "If you enter \"Python\" it should print<br>\n",
    "P<br>\n",
    "Py<br>\n",
    "Pyt<br>\n",
    "Pyth<br>\n",
    "Pytho<br>\n",
    "Python"
   ]
  },
  {
   "cell_type": "code",
   "execution_count": 87,
   "id": "toxic-stack",
   "metadata": {},
   "outputs": [
    {
     "name": "stdin",
     "output_type": "stream",
     "text": [
      "Enter your name:  Python Programming\n"
     ]
    },
    {
     "name": "stdout",
     "output_type": "stream",
     "text": [
      "P\n",
      "Py\n",
      "Pyt\n",
      "Pyth\n",
      "Pytho\n",
      "Python\n",
      "Python \n",
      "Python P\n",
      "Python Pr\n",
      "Python Pro\n",
      "Python Prog\n",
      "Python Progr\n",
      "Python Progra\n",
      "Python Program\n",
      "Python Programm\n",
      "Python Programmi\n",
      "Python Programmin\n",
      "Python Programming\n"
     ]
    }
   ],
   "source": [
    "# Prompts user for name\n",
    "names = input(\"Enter your name: \")\n",
    "triangle = \"\"\n",
    "\n",
    "# Prints the name triangle\n",
    "for name in names:\n",
    "    triangle += name\n",
    "    print(triangle)"
   ]
  },
  {
   "cell_type": "code",
   "execution_count": null,
   "id": "stretch-cartridge",
   "metadata": {},
   "outputs": [],
   "source": []
  }
 ],
 "metadata": {
  "kernelspec": {
   "display_name": "Python 3",
   "language": "python",
   "name": "python3"
  },
  "language_info": {
   "codemirror_mode": {
    "name": "ipython",
    "version": 3
   },
   "file_extension": ".py",
   "mimetype": "text/x-python",
   "name": "python",
   "nbconvert_exporter": "python",
   "pygments_lexer": "ipython3",
   "version": "3.9.1"
  }
 },
 "nbformat": 4,
 "nbformat_minor": 5
}
